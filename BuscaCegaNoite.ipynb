{
  "nbformat": 4,
  "nbformat_minor": 0,
  "metadata": {
    "colab": {
      "name": "BuscaCegaNoite.ipynb",
      "provenance": [],
      "authorship_tag": "ABX9TyN+M4z0bJyawS2ma4uZmR9b",
      "include_colab_link": true
    },
    "kernelspec": {
      "name": "python3",
      "display_name": "Python 3"
    },
    "language_info": {
      "name": "python"
    }
  },
  "cells": [
    {
      "cell_type": "markdown",
      "metadata": {
        "id": "view-in-github",
        "colab_type": "text"
      },
      "source": [
        "<a href=\"https://colab.research.google.com/github/robertopaulo/IA_python/blob/main/BuscaCegaNoite.ipynb\" target=\"_parent\"><img src=\"https://colab.research.google.com/assets/colab-badge.svg\" alt=\"Open In Colab\"/></a>"
      ]
    },
    {
      "cell_type": "markdown",
      "metadata": {
        "id": "4N7JHCeKwmrK"
      },
      "source": [
        "Busca em Largura BFS"
      ]
    },
    {
      "cell_type": "code",
      "metadata": {
        "id": "l0x_U2lGu_UM"
      },
      "source": [
        "g ={}\n",
        "g[0] = [9,8]\n",
        "g[9] = [7,5]\n",
        "g[8] = [2,3,1]\n",
        "g[7] = [6]\n",
        "g[2] = [4]\n",
        "\n"
      ],
      "execution_count": null,
      "outputs": []
    },
    {
      "cell_type": "code",
      "metadata": {
        "id": "zfdrF0Spv_Y7"
      },
      "source": [
        "def gera_filhos(g,node):\n",
        "    ret=[]\n",
        "    if node in g:\n",
        "        ret = g[node]\n",
        "    return ret"
      ],
      "execution_count": null,
      "outputs": []
    },
    {
      "cell_type": "code",
      "metadata": {
        "colab": {
          "base_uri": "https://localhost:8080/"
        },
        "id": "YKRu2uSMwNpX",
        "outputId": "e0b89d24-7ae5-4884-cc8a-0b578ba24793"
      },
      "source": [
        "gera_filhos(g,0)"
      ],
      "execution_count": null,
      "outputs": [
        {
          "output_type": "execute_result",
          "data": {
            "text/plain": [
              "[9, 8]"
            ]
          },
          "metadata": {
            "tags": []
          },
          "execution_count": 4
        }
      ]
    },
    {
      "cell_type": "code",
      "metadata": {
        "id": "muJruavcwSlA"
      },
      "source": [
        "def buscaLargura(g,raiz):\n",
        "  q=[]\n",
        "  visitados = [raiz]\n",
        "  q.append(raiz)\n",
        "  while(len(q)>0):\n",
        "    v = q[0]\n",
        "    del(q[0])\n",
        "    print(v)\n",
        "    filhos = gera_filhos(g,v)\n",
        "    for filho in filhos:\n",
        "      if filho not in visitados:\n",
        "        visitados.append(filho)\n",
        "        q.append(filho)\n"
      ],
      "execution_count": null,
      "outputs": []
    },
    {
      "cell_type": "markdown",
      "metadata": {
        "id": "iaiz2TWOzgJo"
      },
      "source": [
        "0 ,9,8,7,5,2,3,1,6,4"
      ]
    },
    {
      "cell_type": "code",
      "metadata": {
        "colab": {
          "base_uri": "https://localhost:8080/"
        },
        "id": "T6ASyN7AzXLr",
        "outputId": "d3a3f70b-4bb3-47a9-89a0-f048dff38f18"
      },
      "source": [
        "buscaLargura(g,0)"
      ],
      "execution_count": null,
      "outputs": [
        {
          "output_type": "stream",
          "text": [
            "0\n",
            "9\n",
            "8\n",
            "7\n",
            "5\n",
            "2\n",
            "3\n",
            "1\n",
            "6\n",
            "4\n"
          ],
          "name": "stdout"
        }
      ]
    },
    {
      "cell_type": "markdown",
      "metadata": {
        "id": "1jsCfs6J1R3I"
      },
      "source": [
        "Busca Em Profundidade\n"
      ]
    },
    {
      "cell_type": "code",
      "metadata": {
        "id": "OQ-MC_ce0UML"
      },
      "source": [
        "def buscaProfundidade(g,raiz):\n",
        "  pilha=[]\n",
        "  visitados = [raiz]\n",
        "  pilha.append(raiz)\n",
        "  while(len(pilha)>0):\n",
        "    v = pilha.pop()\n",
        "    print(v)\n",
        "    filhos = gera_filhos(g,v)\n",
        "    for filho in reversed(filhos):\n",
        "      if filho not in visitados:\n",
        "        visitados.append(filho)\n",
        "        pilha.append(filho)\n"
      ],
      "execution_count": null,
      "outputs": []
    },
    {
      "cell_type": "code",
      "metadata": {
        "colab": {
          "base_uri": "https://localhost:8080/"
        },
        "id": "xpqPAaZF06SI",
        "outputId": "63e43a37-7c2d-47e4-c6cc-2381d68caea5"
      },
      "source": [
        "buscaProfundidade(g,0)"
      ],
      "execution_count": null,
      "outputs": [
        {
          "output_type": "stream",
          "text": [
            "0\n",
            "9\n",
            "7\n",
            "6\n",
            "5\n",
            "8\n",
            "2\n",
            "4\n",
            "3\n",
            "1\n"
          ],
          "name": "stdout"
        }
      ]
    }
  ]
}