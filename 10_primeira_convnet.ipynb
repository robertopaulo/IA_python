{
  "nbformat": 4,
  "nbformat_minor": 0,
  "metadata": {
    "colab": {
      "name": "10_primeira_convnet.ipynb",
      "provenance": [],
      "include_colab_link": true
    },
    "kernelspec": {
      "name": "python3",
      "display_name": "Python 3"
    },
    "language_info": {
      "name": "python"
    },
    "accelerator": "GPU"
  },
  "cells": [
    {
      "cell_type": "markdown",
      "metadata": {
        "id": "view-in-github",
        "colab_type": "text"
      },
      "source": [
        "<a href=\"https://colab.research.google.com/github/robertopaulo/IA_python/blob/main/10_primeira_convnet.ipynb\" target=\"_parent\"><img src=\"https://colab.research.google.com/assets/colab-badge.svg\" alt=\"Open In Colab\"/></a>"
      ]
    },
    {
      "cell_type": "code",
      "metadata": {
        "id": "nI2bTqyjIpTF"
      },
      "source": [
        "import urllib.request\n",
        "import os\n",
        "from PIL import Image,ImageStat\n",
        "import numpy as np\n",
        "import matplotlib.pyplot as plt\n",
        "\n",
        "import torchvision\n",
        "import torch\n",
        "import torch.nn as nn\n",
        "from torch.utils.data import  DataLoader\n",
        "import torchvision.transforms as transforms\n",
        "\n",
        "from torch import optim \n",
        "import sklearn.metrics as metrics"
      ],
      "execution_count": null,
      "outputs": []
    },
    {
      "cell_type": "code",
      "metadata": {
        "id": "i4O2hKZEMVH3"
      },
      "source": [
        "import torch.nn.functional as F"
      ],
      "execution_count": null,
      "outputs": []
    },
    {
      "cell_type": "code",
      "metadata": {
        "colab": {
          "base_uri": "https://localhost:8080/"
        },
        "id": "kXuB83AteW7S",
        "outputId": "c174bbbf-1790-4784-c5e7-272d54bd5078"
      },
      "source": [
        "!pip install wandb"
      ],
      "execution_count": null,
      "outputs": [
        {
          "output_type": "stream",
          "name": "stdout",
          "text": [
            "Looking in indexes: https://pypi.org/simple, https://us-python.pkg.dev/colab-wheels/public/simple/\n",
            "Collecting wandb\n",
            "  Downloading wandb-0.12.16-py2.py3-none-any.whl (1.8 MB)\n",
            "\u001b[K     |████████████████████████████████| 1.8 MB 4.2 MB/s \n",
            "\u001b[?25hCollecting setproctitle\n",
            "  Downloading setproctitle-1.2.3-cp37-cp37m-manylinux_2_5_x86_64.manylinux1_x86_64.manylinux_2_17_x86_64.manylinux2014_x86_64.whl (29 kB)\n",
            "Requirement already satisfied: six>=1.13.0 in /usr/local/lib/python3.7/dist-packages (from wandb) (1.15.0)\n",
            "Requirement already satisfied: requests<3,>=2.0.0 in /usr/local/lib/python3.7/dist-packages (from wandb) (2.23.0)\n",
            "Collecting docker-pycreds>=0.4.0\n",
            "  Downloading docker_pycreds-0.4.0-py2.py3-none-any.whl (9.0 kB)\n",
            "Requirement already satisfied: promise<3,>=2.0 in /usr/local/lib/python3.7/dist-packages (from wandb) (2.3)\n",
            "Requirement already satisfied: protobuf>=3.12.0 in /usr/local/lib/python3.7/dist-packages (from wandb) (3.17.3)\n",
            "Requirement already satisfied: setuptools in /usr/local/lib/python3.7/dist-packages (from wandb) (57.4.0)\n",
            "Collecting GitPython>=1.0.0\n",
            "  Downloading GitPython-3.1.27-py3-none-any.whl (181 kB)\n",
            "\u001b[K     |████████████████████████████████| 181 kB 70.5 MB/s \n",
            "\u001b[?25hCollecting sentry-sdk>=1.0.0\n",
            "  Downloading sentry_sdk-1.5.12-py2.py3-none-any.whl (145 kB)\n",
            "\u001b[K     |████████████████████████████████| 145 kB 60.4 MB/s \n",
            "\u001b[?25hRequirement already satisfied: psutil>=5.0.0 in /usr/local/lib/python3.7/dist-packages (from wandb) (5.4.8)\n",
            "Collecting pathtools\n",
            "  Downloading pathtools-0.1.2.tar.gz (11 kB)\n",
            "Collecting shortuuid>=0.5.0\n",
            "  Downloading shortuuid-1.0.9-py3-none-any.whl (9.4 kB)\n",
            "Requirement already satisfied: python-dateutil>=2.6.1 in /usr/local/lib/python3.7/dist-packages (from wandb) (2.8.2)\n",
            "Requirement already satisfied: Click!=8.0.0,>=7.0 in /usr/local/lib/python3.7/dist-packages (from wandb) (7.1.2)\n",
            "Requirement already satisfied: PyYAML in /usr/local/lib/python3.7/dist-packages (from wandb) (3.13)\n",
            "Collecting gitdb<5,>=4.0.1\n",
            "  Downloading gitdb-4.0.9-py3-none-any.whl (63 kB)\n",
            "\u001b[K     |████████████████████████████████| 63 kB 2.0 MB/s \n",
            "\u001b[?25hRequirement already satisfied: typing-extensions>=3.7.4.3 in /usr/local/lib/python3.7/dist-packages (from GitPython>=1.0.0->wandb) (4.2.0)\n",
            "Collecting smmap<6,>=3.0.1\n",
            "  Downloading smmap-5.0.0-py3-none-any.whl (24 kB)\n",
            "Requirement already satisfied: urllib3!=1.25.0,!=1.25.1,<1.26,>=1.21.1 in /usr/local/lib/python3.7/dist-packages (from requests<3,>=2.0.0->wandb) (1.24.3)\n",
            "Requirement already satisfied: idna<3,>=2.5 in /usr/local/lib/python3.7/dist-packages (from requests<3,>=2.0.0->wandb) (2.10)\n",
            "Requirement already satisfied: certifi>=2017.4.17 in /usr/local/lib/python3.7/dist-packages (from requests<3,>=2.0.0->wandb) (2022.5.18.1)\n",
            "Requirement already satisfied: chardet<4,>=3.0.2 in /usr/local/lib/python3.7/dist-packages (from requests<3,>=2.0.0->wandb) (3.0.4)\n",
            "Building wheels for collected packages: pathtools\n",
            "  Building wheel for pathtools (setup.py) ... \u001b[?25l\u001b[?25hdone\n",
            "  Created wheel for pathtools: filename=pathtools-0.1.2-py3-none-any.whl size=8806 sha256=100463e3b4a7f3a1b8bb55419c51909ac109bf4b6dfdaf25969453db06b51e62\n",
            "  Stored in directory: /root/.cache/pip/wheels/3e/31/09/fa59cef12cdcfecc627b3d24273699f390e71828921b2cbba2\n",
            "Successfully built pathtools\n",
            "Installing collected packages: smmap, gitdb, shortuuid, setproctitle, sentry-sdk, pathtools, GitPython, docker-pycreds, wandb\n",
            "Successfully installed GitPython-3.1.27 docker-pycreds-0.4.0 gitdb-4.0.9 pathtools-0.1.2 sentry-sdk-1.5.12 setproctitle-1.2.3 shortuuid-1.0.9 smmap-5.0.0 wandb-0.12.16\n"
          ]
        }
      ]
    },
    {
      "cell_type": "code",
      "metadata": {
        "colab": {
          "base_uri": "https://localhost:8080/",
          "height": 746
        },
        "id": "aw6PrRNkeSfJ",
        "outputId": "abad90eb-372f-45b6-9589-dcc336f665aa"
      },
      "source": [
        "\n",
        "\n",
        "import wandb\n",
        "\n",
        "# 1. Start a new run\n",
        "wandb.init(project='aula_mlnlp', entity='edsontm')\n",
        "\n",
        "  "
      ],
      "execution_count": null,
      "outputs": [
        {
          "output_type": "display_data",
          "data": {
            "text/plain": [
              "<IPython.core.display.Javascript object>"
            ],
            "application/javascript": [
              "\n",
              "        window._wandbApiKey = new Promise((resolve, reject) => {\n",
              "            function loadScript(url) {\n",
              "            return new Promise(function(resolve, reject) {\n",
              "                let newScript = document.createElement(\"script\");\n",
              "                newScript.onerror = reject;\n",
              "                newScript.onload = resolve;\n",
              "                document.body.appendChild(newScript);\n",
              "                newScript.src = url;\n",
              "            });\n",
              "            }\n",
              "            loadScript(\"https://cdn.jsdelivr.net/npm/postmate/build/postmate.min.js\").then(() => {\n",
              "            const iframe = document.createElement('iframe')\n",
              "            iframe.style.cssText = \"width:0;height:0;border:none\"\n",
              "            document.body.appendChild(iframe)\n",
              "            const handshake = new Postmate({\n",
              "                container: iframe,\n",
              "                url: 'https://wandb.ai/authorize'\n",
              "            });\n",
              "            const timeout = setTimeout(() => reject(\"Couldn't auto authenticate\"), 5000)\n",
              "            handshake.then(function(child) {\n",
              "                child.on('authorize', data => {\n",
              "                    clearTimeout(timeout)\n",
              "                    resolve(data)\n",
              "                });\n",
              "            });\n",
              "            })\n",
              "        });\n",
              "    "
            ]
          },
          "metadata": {}
        },
        {
          "output_type": "stream",
          "name": "stderr",
          "text": [
            "\u001b[34m\u001b[1mwandb\u001b[0m: You can find your API key in your browser here: https://wandb.ai/authorize\n"
          ]
        },
        {
          "output_type": "error",
          "ename": "KeyboardInterrupt",
          "evalue": "ignored",
          "traceback": [
            "\u001b[0;31m---------------------------------------------------------------------------\u001b[0m",
            "\u001b[0;31mKeyboardInterrupt\u001b[0m                         Traceback (most recent call last)",
            "\u001b[0;32m/usr/local/lib/python3.7/dist-packages/ipykernel/kernelbase.py\u001b[0m in \u001b[0;36m_input_request\u001b[0;34m(self, prompt, ident, parent, password)\u001b[0m\n\u001b[1;32m    728\u001b[0m             \u001b[0;32mtry\u001b[0m\u001b[0;34m:\u001b[0m\u001b[0;34m\u001b[0m\u001b[0;34m\u001b[0m\u001b[0m\n\u001b[0;32m--> 729\u001b[0;31m                 \u001b[0mident\u001b[0m\u001b[0;34m,\u001b[0m \u001b[0mreply\u001b[0m \u001b[0;34m=\u001b[0m \u001b[0mself\u001b[0m\u001b[0;34m.\u001b[0m\u001b[0msession\u001b[0m\u001b[0;34m.\u001b[0m\u001b[0mrecv\u001b[0m\u001b[0;34m(\u001b[0m\u001b[0mself\u001b[0m\u001b[0;34m.\u001b[0m\u001b[0mstdin_socket\u001b[0m\u001b[0;34m,\u001b[0m \u001b[0;36m0\u001b[0m\u001b[0;34m)\u001b[0m\u001b[0;34m\u001b[0m\u001b[0;34m\u001b[0m\u001b[0m\n\u001b[0m\u001b[1;32m    730\u001b[0m             \u001b[0;32mexcept\u001b[0m \u001b[0mException\u001b[0m\u001b[0;34m:\u001b[0m\u001b[0;34m\u001b[0m\u001b[0;34m\u001b[0m\u001b[0m\n",
            "\u001b[0;32m/usr/local/lib/python3.7/dist-packages/jupyter_client/session.py\u001b[0m in \u001b[0;36mrecv\u001b[0;34m(self, socket, mode, content, copy)\u001b[0m\n\u001b[1;32m    802\u001b[0m         \u001b[0;32mtry\u001b[0m\u001b[0;34m:\u001b[0m\u001b[0;34m\u001b[0m\u001b[0;34m\u001b[0m\u001b[0m\n\u001b[0;32m--> 803\u001b[0;31m             \u001b[0mmsg_list\u001b[0m \u001b[0;34m=\u001b[0m \u001b[0msocket\u001b[0m\u001b[0;34m.\u001b[0m\u001b[0mrecv_multipart\u001b[0m\u001b[0;34m(\u001b[0m\u001b[0mmode\u001b[0m\u001b[0;34m,\u001b[0m \u001b[0mcopy\u001b[0m\u001b[0;34m=\u001b[0m\u001b[0mcopy\u001b[0m\u001b[0;34m)\u001b[0m\u001b[0;34m\u001b[0m\u001b[0;34m\u001b[0m\u001b[0m\n\u001b[0m\u001b[1;32m    804\u001b[0m         \u001b[0;32mexcept\u001b[0m \u001b[0mzmq\u001b[0m\u001b[0;34m.\u001b[0m\u001b[0mZMQError\u001b[0m \u001b[0;32mas\u001b[0m \u001b[0me\u001b[0m\u001b[0;34m:\u001b[0m\u001b[0;34m\u001b[0m\u001b[0;34m\u001b[0m\u001b[0m\n",
            "\u001b[0;32m/usr/local/lib/python3.7/dist-packages/zmq/sugar/socket.py\u001b[0m in \u001b[0;36mrecv_multipart\u001b[0;34m(self, flags, copy, track)\u001b[0m\n\u001b[1;32m    723\u001b[0m         \"\"\"\n\u001b[0;32m--> 724\u001b[0;31m         \u001b[0mparts\u001b[0m \u001b[0;34m=\u001b[0m \u001b[0;34m[\u001b[0m\u001b[0mself\u001b[0m\u001b[0;34m.\u001b[0m\u001b[0mrecv\u001b[0m\u001b[0;34m(\u001b[0m\u001b[0mflags\u001b[0m\u001b[0;34m,\u001b[0m \u001b[0mcopy\u001b[0m\u001b[0;34m=\u001b[0m\u001b[0mcopy\u001b[0m\u001b[0;34m,\u001b[0m \u001b[0mtrack\u001b[0m\u001b[0;34m=\u001b[0m\u001b[0mtrack\u001b[0m\u001b[0;34m)\u001b[0m\u001b[0;34m]\u001b[0m\u001b[0;34m\u001b[0m\u001b[0;34m\u001b[0m\u001b[0m\n\u001b[0m\u001b[1;32m    725\u001b[0m         \u001b[0;31m# have first part already, only loop while more to receive\u001b[0m\u001b[0;34m\u001b[0m\u001b[0;34m\u001b[0m\u001b[0;34m\u001b[0m\u001b[0m\n",
            "\u001b[0;32mzmq/backend/cython/socket.pyx\u001b[0m in \u001b[0;36mzmq.backend.cython.socket.Socket.recv\u001b[0;34m()\u001b[0m\n",
            "\u001b[0;32mzmq/backend/cython/socket.pyx\u001b[0m in \u001b[0;36mzmq.backend.cython.socket.Socket.recv\u001b[0;34m()\u001b[0m\n",
            "\u001b[0;32mzmq/backend/cython/socket.pyx\u001b[0m in \u001b[0;36mzmq.backend.cython.socket._recv_copy\u001b[0;34m()\u001b[0m\n",
            "\u001b[0;32m/usr/local/lib/python3.7/dist-packages/zmq/backend/cython/checkrc.pxd\u001b[0m in \u001b[0;36mzmq.backend.cython.checkrc._check_rc\u001b[0;34m()\u001b[0m\n",
            "\u001b[0;31mKeyboardInterrupt\u001b[0m: ",
            "\nDuring handling of the above exception, another exception occurred:\n",
            "\u001b[0;31mKeyboardInterrupt\u001b[0m                         Traceback (most recent call last)",
            "\u001b[0;32m<ipython-input-5-f452a8410d12>\u001b[0m in \u001b[0;36m<module>\u001b[0;34m()\u001b[0m\n\u001b[1;32m      4\u001b[0m \u001b[0;34m\u001b[0m\u001b[0m\n\u001b[1;32m      5\u001b[0m \u001b[0;31m# 1. Start a new run\u001b[0m\u001b[0;34m\u001b[0m\u001b[0;34m\u001b[0m\u001b[0;34m\u001b[0m\u001b[0m\n\u001b[0;32m----> 6\u001b[0;31m \u001b[0mwandb\u001b[0m\u001b[0;34m.\u001b[0m\u001b[0minit\u001b[0m\u001b[0;34m(\u001b[0m\u001b[0mproject\u001b[0m\u001b[0;34m=\u001b[0m\u001b[0;34m'aula_mlnlp'\u001b[0m\u001b[0;34m,\u001b[0m \u001b[0mentity\u001b[0m\u001b[0;34m=\u001b[0m\u001b[0;34m'edsontm'\u001b[0m\u001b[0;34m)\u001b[0m\u001b[0;34m\u001b[0m\u001b[0;34m\u001b[0m\u001b[0m\n\u001b[0m\u001b[1;32m      7\u001b[0m \u001b[0;34m\u001b[0m\u001b[0m\n\u001b[1;32m      8\u001b[0m \u001b[0;34m\u001b[0m\u001b[0m\n",
            "\u001b[0;32m/usr/local/lib/python3.7/dist-packages/wandb/sdk/wandb_init.py\u001b[0m in \u001b[0;36minit\u001b[0;34m(job_type, dir, config, project, entity, reinit, tags, group, name, notes, magic, config_exclude_keys, config_include_keys, anonymous, mode, allow_val_change, resume, force, tensorboard, sync_tensorboard, monitor_gym, save_code, id, settings)\u001b[0m\n\u001b[1;32m   1019\u001b[0m         \u001b[0;32massert\u001b[0m \u001b[0mlogger\u001b[0m\u001b[0;34m\u001b[0m\u001b[0;34m\u001b[0m\u001b[0m\n\u001b[1;32m   1020\u001b[0m         \u001b[0mlogger\u001b[0m\u001b[0;34m.\u001b[0m\u001b[0mwarning\u001b[0m\u001b[0;34m(\u001b[0m\u001b[0;34m\"interrupted\"\u001b[0m\u001b[0;34m,\u001b[0m \u001b[0mexc_info\u001b[0m\u001b[0;34m=\u001b[0m\u001b[0me\u001b[0m\u001b[0;34m)\u001b[0m\u001b[0;34m\u001b[0m\u001b[0;34m\u001b[0m\u001b[0m\n\u001b[0;32m-> 1021\u001b[0;31m         \u001b[0;32mraise\u001b[0m \u001b[0me\u001b[0m\u001b[0;34m\u001b[0m\u001b[0;34m\u001b[0m\u001b[0m\n\u001b[0m\u001b[1;32m   1022\u001b[0m     \u001b[0;32mexcept\u001b[0m \u001b[0mException\u001b[0m \u001b[0;32mas\u001b[0m \u001b[0me\u001b[0m\u001b[0;34m:\u001b[0m\u001b[0;34m\u001b[0m\u001b[0;34m\u001b[0m\u001b[0m\n\u001b[1;32m   1023\u001b[0m         \u001b[0merror_seen\u001b[0m \u001b[0;34m=\u001b[0m \u001b[0me\u001b[0m\u001b[0;34m\u001b[0m\u001b[0;34m\u001b[0m\u001b[0m\n",
            "\u001b[0;32m/usr/local/lib/python3.7/dist-packages/wandb/sdk/wandb_init.py\u001b[0m in \u001b[0;36minit\u001b[0;34m(job_type, dir, config, project, entity, reinit, tags, group, name, notes, magic, config_exclude_keys, config_include_keys, anonymous, mode, allow_val_change, resume, force, tensorboard, sync_tensorboard, monitor_gym, save_code, id, settings)\u001b[0m\n\u001b[1;32m    994\u001b[0m     \u001b[0;32mtry\u001b[0m\u001b[0;34m:\u001b[0m\u001b[0;34m\u001b[0m\u001b[0;34m\u001b[0m\u001b[0m\n\u001b[1;32m    995\u001b[0m         \u001b[0mwi\u001b[0m \u001b[0;34m=\u001b[0m \u001b[0m_WandbInit\u001b[0m\u001b[0;34m(\u001b[0m\u001b[0;34m)\u001b[0m\u001b[0;34m\u001b[0m\u001b[0;34m\u001b[0m\u001b[0m\n\u001b[0;32m--> 996\u001b[0;31m         \u001b[0mwi\u001b[0m\u001b[0;34m.\u001b[0m\u001b[0msetup\u001b[0m\u001b[0;34m(\u001b[0m\u001b[0mkwargs\u001b[0m\u001b[0;34m)\u001b[0m\u001b[0;34m\u001b[0m\u001b[0;34m\u001b[0m\u001b[0m\n\u001b[0m\u001b[1;32m    997\u001b[0m         \u001b[0mexcept_exit\u001b[0m \u001b[0;34m=\u001b[0m \u001b[0mwi\u001b[0m\u001b[0;34m.\u001b[0m\u001b[0msettings\u001b[0m\u001b[0;34m.\u001b[0m\u001b[0m_except_exit\u001b[0m\u001b[0;34m\u001b[0m\u001b[0;34m\u001b[0m\u001b[0m\n\u001b[1;32m    998\u001b[0m         \u001b[0;32mtry\u001b[0m\u001b[0;34m:\u001b[0m\u001b[0;34m\u001b[0m\u001b[0;34m\u001b[0m\u001b[0m\n",
            "\u001b[0;32m/usr/local/lib/python3.7/dist-packages/wandb/sdk/wandb_init.py\u001b[0m in \u001b[0;36msetup\u001b[0;34m(self, kwargs)\u001b[0m\n\u001b[1;32m    240\u001b[0m                 \u001b[0m_disable_warning\u001b[0m\u001b[0;34m=\u001b[0m\u001b[0;32mTrue\u001b[0m\u001b[0;34m,\u001b[0m\u001b[0;34m\u001b[0m\u001b[0;34m\u001b[0m\u001b[0m\n\u001b[1;32m    241\u001b[0m                 \u001b[0m_silent\u001b[0m\u001b[0;34m=\u001b[0m\u001b[0msettings\u001b[0m\u001b[0;34m.\u001b[0m\u001b[0mquiet\u001b[0m \u001b[0;32mor\u001b[0m \u001b[0msettings\u001b[0m\u001b[0;34m.\u001b[0m\u001b[0msilent\u001b[0m\u001b[0;34m,\u001b[0m\u001b[0;34m\u001b[0m\u001b[0;34m\u001b[0m\u001b[0m\n\u001b[0;32m--> 242\u001b[0;31m                 \u001b[0m_entity\u001b[0m\u001b[0;34m=\u001b[0m\u001b[0mkwargs\u001b[0m\u001b[0;34m.\u001b[0m\u001b[0mget\u001b[0m\u001b[0;34m(\u001b[0m\u001b[0;34m\"entity\"\u001b[0m\u001b[0;34m)\u001b[0m \u001b[0;32mor\u001b[0m \u001b[0msettings\u001b[0m\u001b[0;34m.\u001b[0m\u001b[0mentity\u001b[0m\u001b[0;34m,\u001b[0m\u001b[0;34m\u001b[0m\u001b[0;34m\u001b[0m\u001b[0m\n\u001b[0m\u001b[1;32m    243\u001b[0m             )\n\u001b[1;32m    244\u001b[0m \u001b[0;34m\u001b[0m\u001b[0m\n",
            "\u001b[0;32m/usr/local/lib/python3.7/dist-packages/wandb/sdk/wandb_login.py\u001b[0m in \u001b[0;36m_login\u001b[0;34m(anonymous, key, relogin, host, force, timeout, _backend, _silent, _disable_warning, _entity)\u001b[0m\n\u001b[1;32m    295\u001b[0m \u001b[0;34m\u001b[0m\u001b[0m\n\u001b[1;32m    296\u001b[0m     \u001b[0;32mif\u001b[0m \u001b[0;32mnot\u001b[0m \u001b[0mkey\u001b[0m\u001b[0;34m:\u001b[0m\u001b[0;34m\u001b[0m\u001b[0;34m\u001b[0m\u001b[0m\n\u001b[0;32m--> 297\u001b[0;31m         \u001b[0mwlogin\u001b[0m\u001b[0;34m.\u001b[0m\u001b[0mprompt_api_key\u001b[0m\u001b[0;34m(\u001b[0m\u001b[0;34m)\u001b[0m\u001b[0;34m\u001b[0m\u001b[0;34m\u001b[0m\u001b[0m\n\u001b[0m\u001b[1;32m    298\u001b[0m \u001b[0;34m\u001b[0m\u001b[0m\n\u001b[1;32m    299\u001b[0m     \u001b[0;31m# make sure login credentials get to the backend\u001b[0m\u001b[0;34m\u001b[0m\u001b[0;34m\u001b[0m\u001b[0;34m\u001b[0m\u001b[0m\n",
            "\u001b[0;32m/usr/local/lib/python3.7/dist-packages/wandb/sdk/wandb_login.py\u001b[0m in \u001b[0;36mprompt_api_key\u001b[0;34m(self)\u001b[0m\n\u001b[1;32m    218\u001b[0m \u001b[0;34m\u001b[0m\u001b[0m\n\u001b[1;32m    219\u001b[0m     \u001b[0;32mdef\u001b[0m \u001b[0mprompt_api_key\u001b[0m\u001b[0;34m(\u001b[0m\u001b[0mself\u001b[0m\u001b[0;34m)\u001b[0m\u001b[0;34m:\u001b[0m\u001b[0;34m\u001b[0m\u001b[0;34m\u001b[0m\u001b[0m\n\u001b[0;32m--> 220\u001b[0;31m         \u001b[0mkey\u001b[0m\u001b[0;34m,\u001b[0m \u001b[0mstatus\u001b[0m \u001b[0;34m=\u001b[0m \u001b[0mself\u001b[0m\u001b[0;34m.\u001b[0m\u001b[0m_prompt_api_key\u001b[0m\u001b[0;34m(\u001b[0m\u001b[0;34m)\u001b[0m\u001b[0;34m\u001b[0m\u001b[0;34m\u001b[0m\u001b[0m\n\u001b[0m\u001b[1;32m    221\u001b[0m         \u001b[0;32mif\u001b[0m \u001b[0mstatus\u001b[0m \u001b[0;34m==\u001b[0m \u001b[0mApiKeyStatus\u001b[0m\u001b[0;34m.\u001b[0m\u001b[0mNOTTY\u001b[0m\u001b[0;34m:\u001b[0m\u001b[0;34m\u001b[0m\u001b[0;34m\u001b[0m\u001b[0m\n\u001b[1;32m    222\u001b[0m             directive = (\n",
            "\u001b[0;32m/usr/local/lib/python3.7/dist-packages/wandb/sdk/wandb_login.py\u001b[0m in \u001b[0;36m_prompt_api_key\u001b[0;34m(self)\u001b[0m\n\u001b[1;32m    202\u001b[0m                     \u001b[0mapi\u001b[0m\u001b[0;34m=\u001b[0m\u001b[0mapi\u001b[0m\u001b[0;34m,\u001b[0m\u001b[0;34m\u001b[0m\u001b[0;34m\u001b[0m\u001b[0m\n\u001b[1;32m    203\u001b[0m                     \u001b[0mno_offline\u001b[0m\u001b[0;34m=\u001b[0m\u001b[0mself\u001b[0m\u001b[0;34m.\u001b[0m\u001b[0m_settings\u001b[0m\u001b[0;34m.\u001b[0m\u001b[0mforce\u001b[0m \u001b[0;32mif\u001b[0m \u001b[0mself\u001b[0m\u001b[0;34m.\u001b[0m\u001b[0m_settings\u001b[0m \u001b[0;32melse\u001b[0m \u001b[0;32mNone\u001b[0m\u001b[0;34m,\u001b[0m\u001b[0;34m\u001b[0m\u001b[0;34m\u001b[0m\u001b[0m\n\u001b[0;32m--> 204\u001b[0;31m                     \u001b[0mno_create\u001b[0m\u001b[0;34m=\u001b[0m\u001b[0mself\u001b[0m\u001b[0;34m.\u001b[0m\u001b[0m_settings\u001b[0m\u001b[0;34m.\u001b[0m\u001b[0mforce\u001b[0m \u001b[0;32mif\u001b[0m \u001b[0mself\u001b[0m\u001b[0;34m.\u001b[0m\u001b[0m_settings\u001b[0m \u001b[0;32melse\u001b[0m \u001b[0;32mNone\u001b[0m\u001b[0;34m,\u001b[0m\u001b[0;34m\u001b[0m\u001b[0;34m\u001b[0m\u001b[0m\n\u001b[0m\u001b[1;32m    205\u001b[0m                 )\n\u001b[1;32m    206\u001b[0m             \u001b[0;32mexcept\u001b[0m \u001b[0mValueError\u001b[0m \u001b[0;32mas\u001b[0m \u001b[0me\u001b[0m\u001b[0;34m:\u001b[0m\u001b[0;34m\u001b[0m\u001b[0;34m\u001b[0m\u001b[0m\n",
            "\u001b[0;32m/usr/local/lib/python3.7/dist-packages/wandb/sdk/lib/apikey.py\u001b[0m in \u001b[0;36mprompt_api_key\u001b[0;34m(settings, api, input_callback, browser_callback, no_offline, no_create, local)\u001b[0m\n\u001b[1;32m    118\u001b[0m                 \u001b[0;34mf\"You can find your API key in your browser here: {app_url}/authorize\"\u001b[0m\u001b[0;34m\u001b[0m\u001b[0;34m\u001b[0m\u001b[0m\n\u001b[1;32m    119\u001b[0m             )\n\u001b[0;32m--> 120\u001b[0;31m             \u001b[0mkey\u001b[0m \u001b[0;34m=\u001b[0m \u001b[0minput_callback\u001b[0m\u001b[0;34m(\u001b[0m\u001b[0mapi_ask\u001b[0m\u001b[0;34m)\u001b[0m\u001b[0;34m.\u001b[0m\u001b[0mstrip\u001b[0m\u001b[0;34m(\u001b[0m\u001b[0;34m)\u001b[0m\u001b[0;34m\u001b[0m\u001b[0;34m\u001b[0m\u001b[0m\n\u001b[0m\u001b[1;32m    121\u001b[0m         \u001b[0mwrite_key\u001b[0m\u001b[0;34m(\u001b[0m\u001b[0msettings\u001b[0m\u001b[0;34m,\u001b[0m \u001b[0mkey\u001b[0m\u001b[0;34m,\u001b[0m \u001b[0mapi\u001b[0m\u001b[0;34m=\u001b[0m\u001b[0mapi\u001b[0m\u001b[0;34m)\u001b[0m\u001b[0;34m\u001b[0m\u001b[0;34m\u001b[0m\u001b[0m\n\u001b[1;32m    122\u001b[0m         \u001b[0;32mreturn\u001b[0m \u001b[0mkey\u001b[0m\u001b[0;34m\u001b[0m\u001b[0;34m\u001b[0m\u001b[0m\n",
            "\u001b[0;32m/usr/local/lib/python3.7/dist-packages/ipykernel/kernelbase.py\u001b[0m in \u001b[0;36mgetpass\u001b[0;34m(self, prompt, stream)\u001b[0m\n\u001b[1;32m    685\u001b[0m             \u001b[0mself\u001b[0m\u001b[0;34m.\u001b[0m\u001b[0m_parent_ident\u001b[0m\u001b[0;34m,\u001b[0m\u001b[0;34m\u001b[0m\u001b[0;34m\u001b[0m\u001b[0m\n\u001b[1;32m    686\u001b[0m             \u001b[0mself\u001b[0m\u001b[0;34m.\u001b[0m\u001b[0m_parent_header\u001b[0m\u001b[0;34m,\u001b[0m\u001b[0;34m\u001b[0m\u001b[0;34m\u001b[0m\u001b[0m\n\u001b[0;32m--> 687\u001b[0;31m             \u001b[0mpassword\u001b[0m\u001b[0;34m=\u001b[0m\u001b[0;32mTrue\u001b[0m\u001b[0;34m,\u001b[0m\u001b[0;34m\u001b[0m\u001b[0;34m\u001b[0m\u001b[0m\n\u001b[0m\u001b[1;32m    688\u001b[0m         )\n\u001b[1;32m    689\u001b[0m \u001b[0;34m\u001b[0m\u001b[0m\n",
            "\u001b[0;32m/usr/local/lib/python3.7/dist-packages/ipykernel/kernelbase.py\u001b[0m in \u001b[0;36m_input_request\u001b[0;34m(self, prompt, ident, parent, password)\u001b[0m\n\u001b[1;32m    732\u001b[0m             \u001b[0;32mexcept\u001b[0m \u001b[0mKeyboardInterrupt\u001b[0m\u001b[0;34m:\u001b[0m\u001b[0;34m\u001b[0m\u001b[0;34m\u001b[0m\u001b[0m\n\u001b[1;32m    733\u001b[0m                 \u001b[0;31m# re-raise KeyboardInterrupt, to truncate traceback\u001b[0m\u001b[0;34m\u001b[0m\u001b[0;34m\u001b[0m\u001b[0;34m\u001b[0m\u001b[0m\n\u001b[0;32m--> 734\u001b[0;31m                 \u001b[0;32mraise\u001b[0m \u001b[0mKeyboardInterrupt\u001b[0m\u001b[0;34m\u001b[0m\u001b[0;34m\u001b[0m\u001b[0m\n\u001b[0m\u001b[1;32m    735\u001b[0m             \u001b[0;32melse\u001b[0m\u001b[0;34m:\u001b[0m\u001b[0;34m\u001b[0m\u001b[0;34m\u001b[0m\u001b[0m\n\u001b[1;32m    736\u001b[0m                 \u001b[0;32mbreak\u001b[0m\u001b[0;34m\u001b[0m\u001b[0;34m\u001b[0m\u001b[0m\n",
            "\u001b[0;31mKeyboardInterrupt\u001b[0m: "
          ]
        }
      ]
    },
    {
      "cell_type": "markdown",
      "metadata": {
        "id": "dL8R8XY4HnO5"
      },
      "source": [
        "#Rede Convolucional"
      ]
    },
    {
      "cell_type": "code",
      "metadata": {
        "id": "Bm8DNiFRKrPw"
      },
      "source": [
        "                #(batch,channels,height,width)\n",
        "x = torch.randn(10,3,50,50)"
      ],
      "execution_count": null,
      "outputs": []
    },
    {
      "cell_type": "code",
      "metadata": {
        "id": "EeOosfLFKoi3"
      },
      "source": [
        "conv1 = nn.Conv2d(in_channels=3,out_channels=6,kernel_size=5,stride=1,padding=0)"
      ],
      "execution_count": null,
      "outputs": []
    },
    {
      "cell_type": "code",
      "metadata": {
        "id": "uPoKW55IK5cq"
      },
      "source": [
        "res = conv1(x)"
      ],
      "execution_count": null,
      "outputs": []
    },
    {
      "cell_type": "code",
      "metadata": {
        "colab": {
          "base_uri": "https://localhost:8080/"
        },
        "id": "d57ar6RwK7a5",
        "outputId": "a98bb4af-7a1a-4ce0-89a0-1b0cc2a7701e"
      },
      "source": [
        "res.shape"
      ],
      "execution_count": null,
      "outputs": [
        {
          "output_type": "execute_result",
          "data": {
            "text/plain": [
              "torch.Size([10, 6, 46, 46])"
            ]
          },
          "metadata": {},
          "execution_count": 11
        }
      ]
    },
    {
      "cell_type": "code",
      "metadata": {
        "id": "g8t7narBHK8a"
      },
      "source": [
        "class LeNet(nn.Module):\n",
        "    def __init__(self):\n",
        "        super(LeNet,self).__init__()\n",
        "        self.conv1 = nn.Conv2d(in_channels=3,out_channels=6,kernel_size=5,stride=1,padding=0)\n",
        "        self.maxpool = nn.MaxPool2d(2,2)\n",
        "        self.conv2 = nn.Conv2d(in_channels=6,out_channels=16,kernel_size=5)\n",
        "\n",
        "        self.fc1   = nn.Linear(1296,120)\n",
        "        self.fc2   = nn.Linear(120,84)\n",
        "        self.fc3   = nn.Linear(84,2)\n",
        "    def forward(self,x):\n",
        "        x = self.conv1(x)\n",
        "        x = F.relu(x)\n",
        "        x = self.maxpool(x)\n",
        "        x = self.conv2(x)\n",
        "        x = F.relu(x)\n",
        "        x = self.maxpool(x)\n",
        "        x = x.view(-1,1296)\n",
        "        x = self.fc1(x)\n",
        "        x = self.fc2(x)\n",
        "        x = self.fc3(x)\n",
        "        return x\n",
        "\n"
      ],
      "execution_count": null,
      "outputs": []
    },
    {
      "cell_type": "code",
      "metadata": {
        "id": "QNoVoktZKYxm"
      },
      "source": [
        "class LeNet2(nn.Module):\n",
        "    def __init__(self):\n",
        "        super(LeNet2,self).__init__()\n",
        "        self.features    = nn.Sequential(\n",
        "            nn.Conv2d(in_channels=3,out_channels=6,kernel_size=5,stride=1,padding=0),\n",
        "            nn.ReLU(inplace=True),\n",
        "            nn.MaxPool2d(2,2),\n",
        "            nn.Conv2d(in_channels=6,out_channels=16,kernel_size=5),\n",
        "            nn.ReLU(inplace=True),\n",
        "            nn.MaxPool2d(2,2),\n",
        "            nn.Flatten(),\n",
        "        )\n",
        "        self.classifiers = nn.Sequential(\n",
        "            nn.Linear(1296,120),\n",
        "            nn.Linear(120,84),\n",
        "            nn.Linear(84,2)\n",
        "\n",
        "        )\n",
        "    def forward(self,x):\n",
        "        x = self.features(x)\n",
        "        x = self.classifiers(x)\n",
        "        return x"
      ],
      "execution_count": null,
      "outputs": []
    },
    {
      "cell_type": "code",
      "metadata": {
        "id": "2OziRqSdJThX"
      },
      "source": [
        "class LeNet3(nn.Module):\n",
        "    def __init__(self,input_dim = (3,50,50),number_classes = 2):\n",
        "        super(LeNet3,self).__init__()\n",
        "        number_channels = input_dim[0]\n",
        "        self.features    = nn.Sequential(\n",
        "            nn.Conv2d(in_channels=number_channels,out_channels=6,kernel_size=5,stride=1,padding=0),\n",
        "            nn.ReLU(inplace=True),\n",
        "            nn.MaxPool2d(2,2),\n",
        "            nn.Conv2d(in_channels=6,out_channels=16,kernel_size=5),\n",
        "            nn.ReLU(inplace=True),\n",
        "            nn.MaxPool2d(2,2),\n",
        "            nn.Flatten(),\n",
        "        )\n",
        "        embedded = self.features(torch.randn(1,input_dim[0],input_dim[1],input_dim[2]))\n",
        "        feature_size = embedded.shape[1]\n",
        "        self.classifiers = nn.Sequential(\n",
        "            nn.Linear(feature_size,120),\n",
        "            nn.Linear(120,84),\n",
        "            nn.Linear(84,number_classes)\n",
        "\n",
        "        )\n",
        "    def forward(self,x):\n",
        "        x = self.features(x)\n",
        "        x = self.classifiers(x)\n",
        "        return x"
      ],
      "execution_count": null,
      "outputs": []
    },
    {
      "cell_type": "code",
      "metadata": {
        "id": "eSalfrbpNmQS"
      },
      "source": [
        "import torchsummary"
      ],
      "execution_count": null,
      "outputs": []
    },
    {
      "cell_type": "code",
      "metadata": {
        "id": "rQ2AspemNoxc"
      },
      "source": [
        "#x = torch.randn(10,3,50,50)"
      ],
      "execution_count": null,
      "outputs": []
    },
    {
      "cell_type": "code",
      "metadata": {
        "id": "8_0rz_4eKnTa"
      },
      "source": [
        "model = LeNet()\n"
      ],
      "execution_count": null,
      "outputs": []
    },
    {
      "cell_type": "code",
      "metadata": {
        "id": "g1dmsa86NqUZ"
      },
      "source": [
        "#torchsummary.summary(model,(3,50,50),device='cpu')"
      ],
      "execution_count": null,
      "outputs": []
    },
    {
      "cell_type": "code",
      "metadata": {
        "id": "ZmzKMCi3OXCZ"
      },
      "source": [
        "model2 = LeNet2()"
      ],
      "execution_count": null,
      "outputs": []
    },
    {
      "cell_type": "code",
      "metadata": {
        "colab": {
          "base_uri": "https://localhost:8080/"
        },
        "id": "oMAVHNtfOZy7",
        "outputId": "c02d9381-f681-4ca5-efd4-c730f9df3784"
      },
      "source": [
        "torchsummary.summary(model2,(3,50,50),device='cpu')"
      ],
      "execution_count": null,
      "outputs": [
        {
          "output_type": "stream",
          "name": "stdout",
          "text": [
            "----------------------------------------------------------------\n",
            "        Layer (type)               Output Shape         Param #\n",
            "================================================================\n",
            "            Conv2d-1            [-1, 6, 46, 46]             456\n",
            "              ReLU-2            [-1, 6, 46, 46]               0\n",
            "         MaxPool2d-3            [-1, 6, 23, 23]               0\n",
            "            Conv2d-4           [-1, 16, 19, 19]           2,416\n",
            "              ReLU-5           [-1, 16, 19, 19]               0\n",
            "         MaxPool2d-6             [-1, 16, 9, 9]               0\n",
            "           Flatten-7                 [-1, 1296]               0\n",
            "            Linear-8                  [-1, 120]         155,640\n",
            "            Linear-9                   [-1, 84]          10,164\n",
            "           Linear-10                    [-1, 2]             170\n",
            "================================================================\n",
            "Total params: 168,846\n",
            "Trainable params: 168,846\n",
            "Non-trainable params: 0\n",
            "----------------------------------------------------------------\n",
            "Input size (MB): 0.03\n",
            "Forward/backward pass size (MB): 0.33\n",
            "Params size (MB): 0.64\n",
            "Estimated Total Size (MB): 1.00\n",
            "----------------------------------------------------------------\n"
          ]
        },
        {
          "output_type": "stream",
          "name": "stderr",
          "text": [
            "/usr/local/lib/python3.7/dist-packages/torch/nn/functional.py:718: UserWarning: Named tensors and all their associated APIs are an experimental feature and subject to change. Please do not use them for anything important until they are released as stable. (Triggered internally at  /pytorch/c10/core/TensorImpl.h:1156.)\n",
            "  return torch.max_pool2d(input, kernel_size, stride, padding, dilation, ceil_mode)\n"
          ]
        }
      ]
    },
    {
      "cell_type": "code",
      "metadata": {
        "colab": {
          "base_uri": "https://localhost:8080/"
        },
        "id": "jArsrHfjNbAt",
        "outputId": "da1feeb7-0c47-437c-a3ed-6000ef08dfbe"
      },
      "source": [
        "res.shape"
      ],
      "execution_count": null,
      "outputs": [
        {
          "output_type": "execute_result",
          "data": {
            "text/plain": [
              "torch.Size([10, 6, 46, 46])"
            ]
          },
          "metadata": {},
          "execution_count": 16
        }
      ]
    },
    {
      "cell_type": "code",
      "metadata": {
        "id": "vH7v-2BRNeMi"
      },
      "source": [
        ""
      ],
      "execution_count": null,
      "outputs": []
    },
    {
      "cell_type": "markdown",
      "metadata": {
        "id": "7issL-n-LIQE"
      },
      "source": [
        "# construção do dataset"
      ]
    },
    {
      "cell_type": "markdown",
      "metadata": {
        "id": "kKHpeRvULNYR"
      },
      "source": [
        "Abra o browser e faça uma busca sobre a classe desejadan no site http://flickr.com\n",
        "\n",
        "Na pagina de busca digite `<crtl>-<shift>-j` e no console cole o código abaixo\n",
        "```\n",
        "urls =  Array.from(document.querySelectorAll(\"div.photo-list-photo-view.awake\")).map(el => el.style.backgroundImage.replace(\"url(\\\"//\",\"http://\").replace(\"\\\")\",\"\")); window.open('data:text/csv;charset=utf-8,' + escape(urls.join('\\n')));\n",
        "```\n",
        "\n",
        "Salve o arquivo como csv \n",
        "\n",
        "Caso tenha adblocker, você precisa desabilitá-lo."
      ]
    },
    {
      "cell_type": "code",
      "metadata": {
        "id": "A7Qde1CzLJtT"
      },
      "source": [
        "def download_images(main_dir,urls_filename):\n",
        "    class_name = urls_filename.split('.')[-2]\n",
        "    output_dir = main_dir+os.sep+class_name\n",
        "    os.makedirs(output_dir,exist_ok=True)\n",
        "    with open(urls_filename) as f:\n",
        "        for url in f:\n",
        "            img_filename = url.split('/')[-1].replace(\"\\n\",\"\")\n",
        "            print(img_filename)\n",
        "            try:\n",
        "                response = urllib.request.urlopen(url)\n",
        "                open(output_dir+'/'+img_filename,mode=\"wb+\").write(response.read())\n",
        "            except:\n",
        "                print('nao conseguiu baixar ',url)"
      ],
      "execution_count": null,
      "outputs": []
    },
    {
      "cell_type": "code",
      "metadata": {
        "colab": {
          "base_uri": "https://localhost:8080/"
        },
        "id": "r9F0pHKnRqtV",
        "outputId": "7dfbb5f7-849f-403e-9ac7-f794a374e0b9"
      },
      "source": [
        "!pwd"
      ],
      "execution_count": null,
      "outputs": [
        {
          "output_type": "stream",
          "name": "stdout",
          "text": [
            "/content\n"
          ]
        }
      ]
    },
    {
      "cell_type": "code",
      "metadata": {
        "id": "YXZ_TyHhLRwu"
      },
      "source": [
        "main_dir = \"/content/drive/MyDrive/aulanlp\""
      ],
      "execution_count": null,
      "outputs": []
    },
    {
      "cell_type": "code",
      "metadata": {
        "id": "dNb_I4KeR1I8"
      },
      "source": [
        "os.chdir(main_dir)"
      ],
      "execution_count": null,
      "outputs": []
    },
    {
      "cell_type": "code",
      "metadata": {
        "colab": {
          "base_uri": "https://localhost:8080/"
        },
        "id": "uQd1daujR4c5",
        "outputId": "738b6902-5ac4-45bb-fec9-1ba3f963b430"
      },
      "source": [
        "!ls"
      ],
      "execution_count": null,
      "outputs": [
        {
          "output_type": "stream",
          "name": "stdout",
          "text": [
            "best_model_mobilenet_v3.pth  best_model_vgg.pth  fusca.csv  girafa.csv\n",
            "best_model.pth\t\t     fusca\t\t girafa\n"
          ]
        }
      ]
    },
    {
      "cell_type": "code",
      "metadata": {
        "id": "Ktrb6IWgR81O"
      },
      "source": [
        "#download_images(main_dir,'fusca.csv')"
      ],
      "execution_count": null,
      "outputs": []
    },
    {
      "cell_type": "code",
      "metadata": {
        "id": "_J-aa15ESHzu"
      },
      "source": [
        "#download_images(main_dir,'girafa.csv')"
      ],
      "execution_count": null,
      "outputs": []
    },
    {
      "cell_type": "code",
      "metadata": {
        "id": "2wNUWTLYS65M"
      },
      "source": [
        ""
      ],
      "execution_count": null,
      "outputs": []
    },
    {
      "cell_type": "markdown",
      "metadata": {
        "id": "l4thcP_rUgbF"
      },
      "source": [
        "## construção do loader"
      ]
    },
    {
      "cell_type": "code",
      "metadata": {
        "id": "TEepTxv2UiVE"
      },
      "source": [
        "def image_loader(img):\n",
        "    return Image.open(img).convert(\"RGB\")"
      ],
      "execution_count": null,
      "outputs": []
    },
    {
      "cell_type": "code",
      "metadata": {
        "id": "HzlM1YZpUuFx"
      },
      "source": [
        "img = image_loader('./girafa/6157778905_3ee050621a_n.jpg')"
      ],
      "execution_count": null,
      "outputs": []
    },
    {
      "cell_type": "code",
      "metadata": {
        "colab": {
          "base_uri": "https://localhost:8080/",
          "height": 230
        },
        "id": "931o2LiXU4N2",
        "outputId": "7443fd51-d967-44c4-b1b2-b583fda39aba"
      },
      "source": [
        "img"
      ],
      "execution_count": null,
      "outputs": [
        {
          "output_type": "execute_result",
          "data": {
            "image/png": "[encoded data removed]",
            "text/plain": [
              "<PIL.Image.Image image mode=RGB size=319x213 at 0x7FCA0ED510D0>"
            ]
          },
          "metadata": {},
          "execution_count": 26
        }
      ]
    },
    {
      "cell_type": "code",
      "metadata": {
        "id": "yvW5qZvlU-RN"
      },
      "source": [
        "transform = transforms.Compose([transforms.Resize((224,224)),\n",
        "                                transforms.ToTensor(),\n",
        "                                transforms.Normalize((0.485, 0.456, 0.406), (0.229, 0.224, 0.225))\n",
        "                            ])"
      ],
      "execution_count": null,
      "outputs": []
    },
    {
      "cell_type": "code",
      "metadata": {
        "id": "sRHt-hliVYYD"
      },
      "source": [
        "img_tensor = transform(img)"
      ],
      "execution_count": null,
      "outputs": []
    },
    {
      "cell_type": "code",
      "metadata": {
        "colab": {
          "base_uri": "https://localhost:8080/"
        },
        "id": "-gLL2pGYVn0s",
        "outputId": "1d9c9fa2-7b28-4b94-ec19-b5092e009b75"
      },
      "source": [
        "img_tensor.shape"
      ],
      "execution_count": null,
      "outputs": [
        {
          "output_type": "execute_result",
          "data": {
            "text/plain": [
              "torch.Size([3, 224, 224])"
            ]
          },
          "metadata": {},
          "execution_count": 60
        }
      ]
    },
    {
      "cell_type": "code",
      "metadata": {
        "id": "6L4Fo7wfVrN9"
      },
      "source": [
        ""
      ],
      "execution_count": null,
      "outputs": []
    },
    {
      "cell_type": "markdown",
      "metadata": {
        "id": "2_-7vev-V0ek"
      },
      "source": [
        "## Construção da classe Dataset"
      ]
    },
    {
      "cell_type": "code",
      "metadata": {
        "colab": {
          "base_uri": "https://localhost:8080/"
        },
        "id": "NcGgL11OV5Io",
        "outputId": "af0e113b-a830-4111-fdd0-cfa92b7bda62"
      },
      "source": [
        "!ls"
      ],
      "execution_count": null,
      "outputs": [
        {
          "output_type": "stream",
          "name": "stdout",
          "text": [
            "best_model_mobilenet_v3.pth  best_model_vgg.pth  fusca.csv  girafa.csv\n",
            "best_model.pth\t\t     fusca\t\t girafa\n"
          ]
        }
      ]
    },
    {
      "cell_type": "code",
      "metadata": {
        "id": "6tfc1ecOWSgN"
      },
      "source": [
        "dir = './'"
      ],
      "execution_count": null,
      "outputs": []
    },
    {
      "cell_type": "code",
      "metadata": {
        "colab": {
          "base_uri": "https://localhost:8080/"
        },
        "id": "FtOKbT5-V8kH",
        "outputId": "dd64d156-beb1-48c6-c60d-1bc5f2d69609"
      },
      "source": [
        "for file_names in os.scandir('./'):\n",
        "    print(file_names)"
      ],
      "execution_count": null,
      "outputs": [
        {
          "output_type": "stream",
          "name": "stdout",
          "text": [
            "<DirEntry 'fusca.csv'>\n",
            "<DirEntry 'girafa.csv'>\n",
            "<DirEntry 'fusca'>\n",
            "<DirEntry 'girafa'>\n",
            "<DirEntry 'best_model.pth'>\n",
            "<DirEntry 'best_model_mobilenet_v3.pth'>\n",
            "<DirEntry 'best_model_vgg.pth'>\n"
          ]
        }
      ]
    },
    {
      "cell_type": "code",
      "metadata": {
        "id": "HgsFPMTUWAKw"
      },
      "source": [
        "classes = [d.name for d in os.scandir(dir) if d.is_dir()]"
      ],
      "execution_count": null,
      "outputs": []
    },
    {
      "cell_type": "code",
      "metadata": {
        "colab": {
          "base_uri": "https://localhost:8080/"
        },
        "id": "HNoJLajQWN4Q",
        "outputId": "b7ea9198-7151-4f08-a0de-3189688f7dad"
      },
      "source": [
        "classes"
      ],
      "execution_count": null,
      "outputs": [
        {
          "output_type": "execute_result",
          "data": {
            "text/plain": [
              "['fusca', 'girafa']"
            ]
          },
          "metadata": {},
          "execution_count": 65
        }
      ]
    },
    {
      "cell_type": "code",
      "metadata": {
        "id": "XSRdyLfjWUhh"
      },
      "source": [
        "class_to_idx = {cls_name: i for i, cls_name in enumerate(classes)}"
      ],
      "execution_count": null,
      "outputs": []
    },
    {
      "cell_type": "code",
      "metadata": {
        "colab": {
          "base_uri": "https://localhost:8080/"
        },
        "id": "kszcqPE7WbtB",
        "outputId": "643147f6-e473-47ce-ea53-230a1153a631"
      },
      "source": [
        "class_to_idx"
      ],
      "execution_count": null,
      "outputs": [
        {
          "output_type": "execute_result",
          "data": {
            "text/plain": [
              "{'fusca': 0, 'girafa': 1}"
            ]
          },
          "metadata": {},
          "execution_count": 67
        }
      ]
    },
    {
      "cell_type": "code",
      "metadata": {
        "id": "xMjL-knsWdEo"
      },
      "source": [
        "dataset = torchvision.datasets.DatasetFolder('./',loader = image_loader,extensions='jpg',transform=transform )"
      ],
      "execution_count": null,
      "outputs": []
    },
    {
      "cell_type": "code",
      "metadata": {
        "colab": {
          "base_uri": "https://localhost:8080/"
        },
        "id": "oD-katTiWzGA",
        "outputId": "2e260c03-b57e-478e-85bd-038b2324b99e"
      },
      "source": [
        "np.unique(dataset.targets,return_counts=True)"
      ],
      "execution_count": null,
      "outputs": [
        {
          "output_type": "execute_result",
          "data": {
            "text/plain": [
              "(array([0, 1]), array([364, 368]))"
            ]
          },
          "metadata": {},
          "execution_count": 69
        }
      ]
    },
    {
      "cell_type": "code",
      "metadata": {
        "id": "omjTQZHvWqzB"
      },
      "source": [
        "instances = []\n",
        "for target_class in sorted(class_to_idx.keys()):\n",
        "        class_index = class_to_idx[target_class]\n",
        "        target_dir = os.path.join(dir, target_class)\n",
        "        for root, _, fnames in sorted(os.walk(target_dir, followlinks=True)):\n",
        "            for fname in sorted(fnames):\n",
        "                path = os.path.join(root, fname)\n",
        "                item = path, class_index\n",
        "                instances.append(item)"
      ],
      "execution_count": null,
      "outputs": []
    },
    {
      "cell_type": "code",
      "metadata": {
        "colab": {
          "base_uri": "https://localhost:8080/"
        },
        "id": "KXYuNeG-Xooe",
        "outputId": "6e9c92fe-93a5-4f9d-8f51-7310e1122692"
      },
      "source": [
        "instances"
      ],
      "execution_count": null,
      "outputs": [
        {
          "output_type": "execute_result",
          "data": {
            "text/plain": [
              "[('./fusca/12486187053_18d37067c8_n.jpg', 0),\n",
              " ('./fusca/1254758682_4677d1c2cf_n.jpg', 0),\n",
              " ('./fusca/134818392_960dee32ab_n.jpg', 0),\n",
              " ('./fusca/1375205542_88662a4f45_n.jpg', 0),\n",
              " ('./fusca/1400491752_6f2b60718d_n.jpg', 0),\n",
              " ('./fusca/1414205931_14ee3a2814_n.jpg', 0),\n",
              " ('./fusca/14634828237_33d61456e2_n.jpg', 0),\n",
              " ('./fusca/14818334411_7c6c81ffc1_n.jpg', 0),\n",
              " ('./fusca/14822749758_43732a0912_n.jpg', 0),\n",
              " ('./fusca/14835216419_4fd2cf0fc8_n.jpg', 0),\n",
              " ('./fusca/14835231309_f03415967b_n.jpg', 0),\n",
              " ('./fusca/14835420288_dc5cb4e1e2_n.jpg', 0),\n",
              " ('./fusca/14835463017_602937fc3f_w.jpg', 0),\n",
              " ('./fusca/14835481498_7a2e6e13dc_w.jpg', 0),\n",
              " ('./fusca/14835505597_5b217d9fc6_n.jpg', 0),\n",
              " ('./fusca/14835553517_5d999f5bde_n.jpg', 0),\n",
              " ('./fusca/14835612397_48f567ed23_n.jpg', 0),\n",
              " ('./fusca/14835621257_98d246ce64_w.jpg', 0),\n",
              " ('./fusca/14835659210_dfe6e8801f_n.jpg', 0),\n",
              " ('./fusca/14835664217_f995f7306b_n.jpg', 0),\n",
              " ('./fusca/14835669270_6aba28cbbb_n.jpg', 0),\n",
              " ('./fusca/14835699377_5679dde962_n.jpg', 0),\n",
              " ('./fusca/14835717059_24276f48e5_w.jpg', 0),\n",
              " ('./fusca/14835722260_226d1e58be_n.jpg', 0),\n",
              " ('./fusca/14835726267_7dc121923a_w.jpg', 0),\n",
              " ('./fusca/14835755249_f39f9a9a7c_w.jpg', 0),\n",
              " ('./fusca/14835776348_e4125d7350_n.jpg', 0),\n",
              " ('./fusca/14835801549_8434e24d9c_n.jpg', 0),\n",
              " ('./fusca/14835853267_d04493f9cf_w.jpg', 0),\n",
              " ('./fusca/14835882959_8d9cb40e56_n.jpg', 0),\n",
              " ('./fusca/14835907269_052d23755c_w.jpg', 0),\n",
              " ('./fusca/14835940420_02673783d1_n.jpg', 0),\n",
              " ('./fusca/14835943758_02a4064134_n.jpg', 0),\n",
              " ('./fusca/14835979318_761f4dc3fc_w.jpg', 0),\n",
              " ('./fusca/14836007529_1a879f7e00_n.jpg', 0),\n",
              " ('./fusca/14836079670_4b5dbaf9dc_w.jpg', 0),\n",
              " ('./fusca/14836081379_a45c15b668_w.jpg', 0),\n",
              " ('./fusca/14836129927_26def9a09d_n.jpg', 0),\n",
              " ('./fusca/14836158227_4d27281d32_n.jpg', 0),\n",
              " ('./fusca/14836250310_89ea3d3a15_n.jpg', 0),\n",
              " ('./fusca/14836312597_f4b04912d0_n.jpg', 0),\n",
              " ('./fusca/14946769504_deb73fcd12_m.jpg', 0),\n",
              " ('./fusca/14998912606_205bc0de02_n.jpg', 0),\n",
              " ('./fusca/14999048986_2b6039cdb3_n.jpg', 0),\n",
              " ('./fusca/14999090086_5e491fc6cb_w.jpg', 0),\n",
              " ('./fusca/14999245336_d3596c8761_n.jpg', 0),\n",
              " ('./fusca/14999549496_b8beb9f264_n.jpg', 0),\n",
              " ('./fusca/14999697276_39f1c151a2_n.jpg', 0),\n",
              " ('./fusca/14999765956_bdd928f69e_n.jpg', 0),\n",
              " ('./fusca/14999795626_a3887fde8e_n.jpg', 0),\n",
              " ('./fusca/15018858391_bf8ae45f6b_w.jpg', 0),\n",
              " ('./fusca/15018898611_8b3e9cdb21_n.jpg', 0),\n",
              " ('./fusca/15018909781_f108527bf4_n.jpg', 0),\n",
              " ('./fusca/15018988891_e92af70d6d_n.jpg', 0),\n",
              " ('./fusca/15019038941_e62c16517e_n.jpg', 0),\n",
              " ('./fusca/15019048461_2f7a38eae8_n.jpg', 0),\n",
              " ('./fusca/15019090461_e40422ef38_w.jpg', 0),\n",
              " ('./fusca/15019132951_68ebbc454b_n.jpg', 0),\n",
              " ('./fusca/15019146301_fdc2fa43fa_n.jpg', 0),\n",
              " ('./fusca/15019223081_572f061d40_n.jpg', 0),\n",
              " ('./fusca/15019270751_abc7bac2b5_n.jpg', 0),\n",
              " ('./fusca/15019600691_44c68dee30_n.jpg', 0),\n",
              " ('./fusca/15019754741_92f5653eb2_n.jpg', 0),\n",
              " ('./fusca/15019796211_0a28e90be5_n.jpg', 0),\n",
              " ('./fusca/15021765392_cdf481c428_n.jpg', 0),\n",
              " ('./fusca/15021819962_060a0574ba_n.jpg', 0),\n",
              " ('./fusca/15021918472_42d06ce531_n.jpg', 0),\n",
              " ('./fusca/15021962312_d06da584c6_n.jpg', 0),\n",
              " ('./fusca/15021996985_6b7ecc4721_n.jpg', 0),\n",
              " ('./fusca/15022008085_5f3c08744c_n.jpg', 0),\n",
              " ('./fusca/15022018285_91ba08442f_n.jpg', 0),\n",
              " ('./fusca/15022042152_75ec8331e5_n.jpg', 0),\n",
              " ('./fusca/15022065285_1a1c3e5195_n.jpg', 0),\n",
              " ('./fusca/15022068182_a015d640f3_n.jpg', 0),\n",
              " ('./fusca/15022093462_d1b90bf879_n.jpg', 0),\n",
              " ('./fusca/15022106332_0feef87240_w.jpg', 0),\n",
              " ('./fusca/15022179712_7b2d64bf83_n.jpg', 0),\n",
              " ('./fusca/15022213352_9b784f95e9_n.jpg', 0),\n",
              " ('./fusca/15022348285_6e1e7f6a3c_n.jpg', 0),\n",
              " ('./fusca/15022389482_ff8654f434_n.jpg', 0),\n",
              " ('./fusca/15022411685_8d981dc5fb_n.jpg', 0),\n",
              " ('./fusca/15022490625_c4888d82cc_n.jpg', 0),\n",
              " ('./fusca/15022504185_48deaba636_n.jpg', 0),\n",
              " ('./fusca/15022515665_8858653af1_w.jpg', 0),\n",
              " ('./fusca/15022705795_f7a652058d_n.jpg', 0),\n",
              " ('./fusca/15310108371_d2e5274b1e_w.jpg', 0),\n",
              " ('./fusca/15370697149_9787751614_n.jpg', 0),\n",
              " ('./fusca/15715545177_9a52308fbf_w.jpg', 0),\n",
              " ('./fusca/15955261912_094d68bee9_n.jpg', 0),\n",
              " ('./fusca/16015759574_1ae413eb67_n.jpg', 0),\n",
              " ('./fusca/16015762414_a1bc4c48c8_n.jpg', 0),\n",
              " ('./fusca/16018159703_d6714d020b_n.jpg', 0),\n",
              " ('./fusca/16396751421_acb0f79a2d_m.jpg', 0),\n",
              " ('./fusca/16430767297_4e73aeedb4_n.jpg', 0),\n",
              " ('./fusca/16430770307_ce89be0fd5_m.jpg', 0),\n",
              " ('./fusca/16430770867_fdc1aa7358_w.jpg', 0),\n",
              " ('./fusca/16430771037_ae5a8b5e4a_n.jpg', 0),\n",
              " ('./fusca/16450499648_ff7be357e9_n.jpg', 0),\n",
              " ('./fusca/16450503918_f74eb31124_n.jpg', 0),\n",
              " ('./fusca/16451885589_9257e36c11_n.jpg', 0),\n",
              " ('./fusca/16451887499_f082b856a3_n.jpg', 0),\n",
              " ('./fusca/16451888409_b8925bd483_n.jpg', 0),\n",
              " ('./fusca/16451888699_ce97b56795_w.jpg', 0),\n",
              " ('./fusca/16497211855_8879895282_n.jpg', 0),\n",
              " ('./fusca/16612130116_c0bcdc80e0_n.jpg', 0),\n",
              " ('./fusca/16612130256_c3473be732_n.jpg', 0),\n",
              " ('./fusca/16636624661_20f4fe1cf3_n.jpg', 0),\n",
              " ('./fusca/16636628641_8ba2c7d9bc_n.jpg', 0),\n",
              " ('./fusca/16637054982_24b8dd52ec_n.jpg', 0),\n",
              " ('./fusca/16637056682_8f020a73bc_n.jpg', 0),\n",
              " ('./fusca/16638065375_a730b422d7_n.jpg', 0),\n",
              " ('./fusca/16638067045_68df50628e_n.jpg', 0),\n",
              " ('./fusca/16638067395_98242ea7ec_n.jpg', 0),\n",
              " ('./fusca/16667418677_ea2cee8ca7_n.jpg', 0),\n",
              " ('./fusca/17329543453_a9549540ed_w.jpg', 0),\n",
              " ('./fusca/17360274701_6d73533a6a_n.jpg', 0),\n",
              " ('./fusca/17663208694_e35a1865e8_n.jpg', 0),\n",
              " ('./fusca/17665409134_36cf90daab_n.jpg', 0),\n",
              " ('./fusca/18101518139_6c5c414b73_n.jpg', 0),\n",
              " ('./fusca/18318246955_5f338b6d23_n.jpg', 0),\n",
              " ('./fusca/18579660461_c19554cb83_n.jpg', 0),\n",
              " ('./fusca/185994793_fa8f1e2972_n.jpg', 0),\n",
              " ('./fusca/18900896443_0cbb41b715_n.jpg', 0),\n",
              " ('./fusca/20796312104_4e397a3a5c_n.jpg', 0),\n",
              " ('./fusca/20796312694_56470dae1c_n.jpg', 0),\n",
              " ('./fusca/20797932653_1b57e76b43_m.jpg', 0),\n",
              " ('./fusca/2082067880_407efa15cc_m.jpg', 0),\n",
              " ('./fusca/2117877953_3f9001b232_n.jpg', 0),\n",
              " ('./fusca/21230926140_6339e6c4f3_z.jpg', 0),\n",
              " ('./fusca/21230926840_39d9907736_n.jpg', 0),\n",
              " ('./fusca/21230927270_fa2d7ac597_n.jpg', 0),\n",
              " ('./fusca/21230927330_ca4f8e97f6_m.jpg', 0),\n",
              " ('./fusca/21231171498_b5fd7c7fe6_n.jpg', 0),\n",
              " ('./fusca/21232119899_2d19f35981_w.jpg', 0),\n",
              " ('./fusca/21354610728_83064bd0ce_w.jpg', 0),\n",
              " ('./fusca/21392764536_78bbe07dab_n.jpg', 0),\n",
              " ('./fusca/21392764566_b921c5f72a_n.jpg', 0),\n",
              " ('./fusca/21392765076_b55dc77dab_m.jpg', 0),\n",
              " ('./fusca/21392765416_e9b3463e4e_m.jpg', 0),\n",
              " ('./fusca/21419000215_8a466b938f_m.jpg', 0),\n",
              " ('./fusca/2207721626_b5fb861d54_n.jpg', 0),\n",
              " ('./fusca/22774786126_0392db8b17_m.jpg', 0),\n",
              " ('./fusca/22774828456_9f254b1196_m.jpg', 0),\n",
              " ('./fusca/2324556576_8e6f3c9c96_n.jpg', 0),\n",
              " ('./fusca/2406139441_457a6d0b5a_m.jpg', 0),\n",
              " ('./fusca/24104903033_a55b5aac45_w.jpg', 0),\n",
              " ('./fusca/24299719875_7e30266bcc_m.jpg', 0),\n",
              " ('./fusca/2458372177_45dd416041_n.jpg', 0),\n",
              " ('./fusca/2483559233_a2308e8818_n.jpg', 0),\n",
              " ('./fusca/251422412_2aabded232_n.jpg', 0),\n",
              " ('./fusca/25320064643_42e11ed840_n.jpg', 0),\n",
              " ('./fusca/25648287650_0de8139be6_n.jpg', 0),\n",
              " ('./fusca/25658424871_56e8916b89_m.jpg', 0),\n",
              " ('./fusca/256930583_389124160f_n.jpg', 0),\n",
              " ('./fusca/25897503643_60a523b21d_w.jpg', 0),\n",
              " ('./fusca/25922925716_6a419ff2aa_n.jpg', 0),\n",
              " ('./fusca/2605405260_765669e074_m.jpg', 0),\n",
              " ('./fusca/2632186397_5663917988_n.jpg', 0),\n",
              " ('./fusca/26533812355_7ddf55ea5c_n.jpg', 0),\n",
              " ('./fusca/2691758437_f9fc7621d3_n.jpg', 0),\n",
              " ('./fusca/2711107106_f57858ca75_n.jpg', 0),\n",
              " ('./fusca/27359756604_167e7a2015_n.jpg', 0),\n",
              " ('./fusca/27436298844_3d318d8c60_m.jpg', 0),\n",
              " ('./fusca/2753975017_3cbab93f4f_n.jpg', 0),\n",
              " ('./fusca/2754805410_4a6948913d_w.jpg', 0),\n",
              " ('./fusca/2758552162_8609c4f5f3_w.jpg', 0),\n",
              " ('./fusca/2765737303_6565fafbf9_n.jpg', 0),\n",
              " ('./fusca/27682550712_4e90e68509_w.jpg', 0),\n",
              " ('./fusca/2803504747_4a091ebae2_n.jpg', 0),\n",
              " ('./fusca/2812988092_7e5ffa2ac7_m.jpg', 0),\n",
              " ('./fusca/286086739_ad35ef55d8_m.jpg', 0),\n",
              " ('./fusca/286107980_260c75372e_n.jpg', 0),\n",
              " ('./fusca/28728633221_29e11967d1_m.jpg', 0),\n",
              " ('./fusca/2891611487_22f59906bd_n.jpg', 0),\n",
              " ('./fusca/2895325751_5fb39eb597_m.jpg', 0),\n",
              " ('./fusca/2895333477_54930beb3c_n.jpg', 0),\n",
              " ('./fusca/2895341493_633b707803_n.jpg', 0),\n",
              " ('./fusca/2895523721_b1814351bf_n.jpg', 0),\n",
              " ('./fusca/2908333341_9f84c8f302_m.jpg', 0),\n",
              " ('./fusca/2909179142_25be1f56c2_m.jpg', 0),\n",
              " ('./fusca/29129865381_49fb9b6310_w.jpg', 0),\n",
              " ('./fusca/29129867081_d9206868c1_w.jpg', 0),\n",
              " ('./fusca/29565891447_d5300e6bc6_n.jpg', 0),\n",
              " ('./fusca/29936118043_51829eb12a_m.jpg', 0),\n",
              " ('./fusca/29936126993_cd886591c8_m.jpg', 0),\n",
              " ('./fusca/29936177193_bc2373042c_m.jpg', 0),\n",
              " ('./fusca/29938418824_ca1718e6d3_m.jpg', 0),\n",
              " ('./fusca/29938460764_c82dc68162_m.jpg', 0),\n",
              " ('./fusca/29938485614_6243b73b43_m.jpg', 0),\n",
              " ('./fusca/29938588114_5d98909065_m.jpg', 0),\n",
              " ('./fusca/30270803450_3f3cc8fc14_m.jpg', 0),\n",
              " ('./fusca/30270903250_34d34f0c36_m.jpg', 0),\n",
              " ('./fusca/30453093662_a3c71c1060_n.jpg', 0),\n",
              " ('./fusca/30481973491_ed9ae5fa3b_m.jpg', 0),\n",
              " ('./fusca/30481982121_8b5279e33e_m.jpg', 0),\n",
              " ('./fusca/30482003911_19affe324f_m.jpg', 0),\n",
              " ('./fusca/30482036351_972c50809c_m.jpg', 0),\n",
              " ('./fusca/30482103711_812659555b_m.jpg', 0),\n",
              " ('./fusca/305232120_ed5b960e05_m.jpg', 0),\n",
              " ('./fusca/30533755766_1386c5faaf_m.jpg', 0),\n",
              " ('./fusca/30533768676_477d546683_m.jpg', 0),\n",
              " ('./fusca/30533809506_08b60a5974_m.jpg', 0),\n",
              " ('./fusca/3068552448_85ec330d6d_n.jpg', 0),\n",
              " ('./fusca/3068553078_99aee92f04_n.jpg', 0),\n",
              " ('./fusca/3068553694_b1da9c533a_n.jpg', 0),\n",
              " ('./fusca/31734885760_50500bfd00_n.jpg', 0),\n",
              " ('./fusca/32096483097_4afb73698e_n.jpg', 0),\n",
              " ('./fusca/32096484267_6a3826a62b_m.jpg', 0),\n",
              " ('./fusca/32096488517_9b56239551_m.jpg', 0),\n",
              " ('./fusca/32096490687_83acb9df69_n.jpg', 0),\n",
              " ('./fusca/32096492997_c45db62184_n.jpg', 0),\n",
              " ('./fusca/32096494327_ffc18c4948_m.jpg', 0),\n",
              " ('./fusca/32096495527_b04edccd63_m.jpg', 0),\n",
              " ('./fusca/32096496417_37a5e7b836_m.jpg', 0),\n",
              " ('./fusca/321300974_3241666d62_n.jpg', 0),\n",
              " ('./fusca/32303522220_f071be7128_w.jpg', 0),\n",
              " ('./fusca/3241684975_6af83f4402_m.jpg', 0),\n",
              " ('./fusca/3462684486_1bf7fe4106_n.jpg', 0),\n",
              " ('./fusca/34671384840_9416d92333_w.jpg', 0),\n",
              " ('./fusca/3484077407_199a43c8da_w.jpg', 0),\n",
              " ('./fusca/3485253007_da3a079916_m.jpg', 0),\n",
              " ('./fusca/35243428536_3fd486fb19_n.jpg', 0),\n",
              " ('./fusca/3529029541_eddf5ce711_w.jpg', 0),\n",
              " ('./fusca/3540659859_9a5208f967_n.jpg', 0),\n",
              " ('./fusca/3552896158_4761ce5daa_n.jpg', 0),\n",
              " ('./fusca/35790337982_46fbdd9dc7_w.jpg', 0),\n",
              " ('./fusca/3640736593_bbe2640776_n.jpg', 0),\n",
              " ('./fusca/3657498308_70ff1eb82f_n.jpg', 0),\n",
              " ('./fusca/3696694310_48e1d28839_n.jpg', 0),\n",
              " ('./fusca/376019225_731c818f6d_m.jpg', 0),\n",
              " ('./fusca/37855449385_d23ea1a5b2_m.jpg', 0),\n",
              " ('./fusca/3825445972_b0cdcd6347_n.jpg', 0),\n",
              " ('./fusca/3850024434_75139bda7f_n.jpg', 0),\n",
              " ('./fusca/3850031090_e0d9426532_m.jpg', 0),\n",
              " ('./fusca/3852992178_e94becbb6b_m.jpg', 0),\n",
              " ('./fusca/3886040524_24dccbfc71_n.jpg', 0),\n",
              " ('./fusca/3912225175_4a8730517c_n.jpg', 0),\n",
              " ('./fusca/3912227467_fbef47275b_n.jpg', 0),\n",
              " ('./fusca/3913005888_b9306453f0_n.jpg', 0),\n",
              " ('./fusca/3927095892_8378a6a346_m.jpg', 0),\n",
              " ('./fusca/4016084548_5c728ceb4b_n.jpg', 0),\n",
              " ('./fusca/40358780791_4353b8b767_n.jpg', 0),\n",
              " ('./fusca/4043098623_3a2072fd22.jpg', 0),\n",
              " ('./fusca/4045727591_8c8d186a87_m.jpg', 0),\n",
              " ('./fusca/40950082335_4c2f35a30f_m.jpg', 0),\n",
              " ('./fusca/4192098863_801fc0a842_m.jpg', 0),\n",
              " ('./fusca/4203872274_162a82eb62_n.jpg', 0),\n",
              " ('./fusca/42592860844_9e832b4851_n.jpg', 0),\n",
              " ('./fusca/4326383938_33d2101fa7_n.jpg', 0),\n",
              " ('./fusca/4326385860_d4d12282e7_n.jpg', 0),\n",
              " ('./fusca/4338937443_1d14714beb_n.jpg', 0),\n",
              " ('./fusca/4366309242_d4373a8e7d_m.jpg', 0),\n",
              " ('./fusca/4427096664_70a0dd5712_m.jpg', 0),\n",
              " ('./fusca/4448275324_2ff1c44d9c_n.jpg', 0),\n",
              " ('./fusca/447839541_69c416c0db_m.jpg', 0),\n",
              " ('./fusca/4492287666_2900a6471f_w.jpg', 0),\n",
              " ('./fusca/4607970052_3983c4a8b1_w.jpg', 0),\n",
              " ('./fusca/4643179119_eeb74b7360_n.jpg', 0),\n",
              " ('./fusca/46485226561_5380e13603_m.jpg', 0),\n",
              " ('./fusca/4651615113_6d1a1d8bbb_n.jpg', 0),\n",
              " ('./fusca/46986129452_7dcbdbd8bc_n.jpg', 0),\n",
              " ('./fusca/46986132722_bb941f2d3b_w.jpg', 0),\n",
              " ('./fusca/46986133552_6b678e0971_n.jpg', 0),\n",
              " ('./fusca/46986134152_3c710576ef_n.jpg', 0),\n",
              " ('./fusca/46986138732_ccc3673f7b_w.jpg', 0),\n",
              " ('./fusca/46986143692_e66668d2ea_m.jpg', 0),\n",
              " ('./fusca/46986148242_5ba0cae733_m.jpg', 0),\n",
              " ('./fusca/47038123471_30e64382e7_m.jpg', 0),\n",
              " ('./fusca/47038145011_69a81633e6_n.jpg', 0),\n",
              " ('./fusca/47038145811_4e64a49a4e_m.jpg', 0),\n",
              " ('./fusca/4749441940_a915059b3f_n.jpg', 0),\n",
              " ('./fusca/4824674400_1f107da7f7_n.jpg', 0),\n",
              " ('./fusca/4914550614_63181dcb15_n.jpg', 0),\n",
              " ('./fusca/491759015_5e6c4ca886_m.jpg', 0),\n",
              " ('./fusca/4919946046_bef6d11059_n.jpg', 0),\n",
              " ('./fusca/493835455_dd0380b4b2_n.jpg', 0),\n",
              " ('./fusca/49557917476_4d345ac11a_n.jpg', 0),\n",
              " ('./fusca/49647134436_46e8d789b3_n.jpg', 0),\n",
              " ('./fusca/49652043813_830bae2b32_m.jpg', 0),\n",
              " ('./fusca/5002159085_61bbd853db_n.jpg', 0),\n",
              " ('./fusca/5062946577_a4436f5d90_m.jpg', 0),\n",
              " ('./fusca/50670218056_71041e7a55_w.jpg', 0),\n",
              " ('./fusca/50915797292_3b5defff13_m.jpg', 0),\n",
              " ('./fusca/51080579998_2bd4381864_n.jpg', 0),\n",
              " ('./fusca/51120907957_7bd34fe6cc_m.jpg', 0),\n",
              " ('./fusca/51282912220_cbdd061f9b_w.jpg', 0),\n",
              " ('./fusca/51330823382_a3edea5000_n.jpg', 0),\n",
              " ('./fusca/5340391116_a6d686f19d_n.jpg', 0),\n",
              " ('./fusca/5348960677_46dd68306b_n.jpg', 0),\n",
              " ('./fusca/5352885427_aac1efcbe4_n.jpg', 0),\n",
              " ('./fusca/5373705184_a0062ce03f_m.jpg', 0),\n",
              " ('./fusca/5378267353_7c7cc5c466_m.jpg', 0),\n",
              " ('./fusca/5378267589_36224b27ab_n.jpg', 0),\n",
              " ('./fusca/5378267755_d25bd46ffb_n.jpg', 0),\n",
              " ('./fusca/5378267913_c8ba4e0cbc_n.jpg', 0),\n",
              " ('./fusca/5457857775_1377c96872_m.jpg', 0),\n",
              " ('./fusca/5483595468_cf8a143bf3_n.jpg', 0),\n",
              " ('./fusca/5586333221_68c21f32fe_n.jpg', 0),\n",
              " ('./fusca/5595836190_ebbd86dded_n.jpg', 0),\n",
              " ('./fusca/5620253106_58f0a5cbca_n.jpg', 0),\n",
              " ('./fusca/562791205_22f3fd0dca_m.jpg', 0),\n",
              " ('./fusca/5656145212_cf7d61dc76_m.jpg', 0),\n",
              " ('./fusca/5730657124_fb0d0c27a6_n.jpg', 0),\n",
              " ('./fusca/5776135443_88f92be123_n.jpg', 0),\n",
              " ('./fusca/5813314839_f33770b20a_m.jpg', 0),\n",
              " ('./fusca/5857576264_e1ca69c499_n.jpg', 0),\n",
              " ('./fusca/5938974107_549ae69c66_m.jpg', 0),\n",
              " ('./fusca/6045300937_9310dbd6f6_n.jpg', 0),\n",
              " ('./fusca/6045851824_c2771a51c2_n.jpg', 0),\n",
              " ('./fusca/6118923445_20c6f12f79_n.jpg', 0),\n",
              " ('./fusca/6119468738_2e139b226d_n.jpg', 0),\n",
              " ('./fusca/6119469132_81522e1b17_n.jpg', 0),\n",
              " ('./fusca/6157334706_16bbdeea2a_n.jpg', 0),\n",
              " ('./fusca/6157335246_5b165966c8_n.jpg', 0),\n",
              " ('./fusca/6173893792_b272b11051_n.jpg', 0),\n",
              " ('./fusca/6176023530_386fb84b38_m.jpg', 0),\n",
              " ('./fusca/6282673155_3e81ef627c_n.jpg', 0),\n",
              " ('./fusca/6315569440_daa585a809_n.jpg', 0),\n",
              " ('./fusca/6315967849_15cc5447aa_w.jpg', 0),\n",
              " ('./fusca/6325987716_05130ba209_n.jpg', 0),\n",
              " ('./fusca/6343416006_fc31b41c24_n.jpg', 0),\n",
              " ('./fusca/6373268777_6f2d0b53b4_n.jpg', 0),\n",
              " ('./fusca/6391960341_b19457f490_n.jpg', 0),\n",
              " ('./fusca/6466939625_8511c61be0_w.jpg', 0),\n",
              " ('./fusca/6529237305_ac82e6b8ed_n.jpg', 0),\n",
              " ('./fusca/6544585495_ccd8994f30_n.jpg', 0),\n",
              " ('./fusca/6758234407_7ebbdd3c09_m.jpg', 0),\n",
              " ('./fusca/6831700684_de5917b25c_n.jpg', 0),\n",
              " ('./fusca/6870176682_e589ea2813_w.jpg', 0),\n",
              " ('./fusca/6893274789_860905197c_n.jpg', 0),\n",
              " ('./fusca/6952803651_74d8e0aa38_n.jpg', 0),\n",
              " ('./fusca/7091836061_44d4b82342_w.jpg', 0),\n",
              " ('./fusca/7218684682_6b219c557d_n.jpg', 0),\n",
              " ('./fusca/7218723396_253796ab45_n.jpg', 0),\n",
              " ('./fusca/7252708512_763c9c57f7_m.jpg', 0),\n",
              " ('./fusca/7265204584_d722c3f7a1_m.jpg', 0),\n",
              " ('./fusca/7395573914_6bc8b6bc40_w.jpg', 0),\n",
              " ('./fusca/7482057458_9606818dd8_w.jpg', 0),\n",
              " ('./fusca/7894212458_342b1726f9_n.jpg', 0),\n",
              " ('./fusca/7978107530_a6e2cd761f_n.jpg', 0),\n",
              " ('./fusca/802627091_be91ce6dde_n.jpg', 0),\n",
              " ('./fusca/8124779897_23c64f7776_n.jpg', 0),\n",
              " ('./fusca/8165466944_2dfcb269ae_m.jpg', 0),\n",
              " ('./fusca/8180246036_5ed399ac3b_m.jpg', 0),\n",
              " ('./fusca/8262142285_f438d03dbc_n.jpg', 0),\n",
              " ('./fusca/8263211074_13f02c8d1c_n.jpg', 0),\n",
              " ('./fusca/8310359691_0edaed78ef_n.jpg', 0),\n",
              " ('./fusca/8346112607_dd76d99c57_n.jpg', 0),\n",
              " ('./fusca/8346113373_f9e8da335f_n.jpg', 0),\n",
              " ('./fusca/8347165836_97de2717fa_m.jpg', 0),\n",
              " ('./fusca/8347166176_8cbbdb2695_m.jpg', 0),\n",
              " ('./fusca/8347167122_d798397df0_n.jpg', 0),\n",
              " ('./fusca/8373765657_d6431b78e4_n.jpg', 0),\n",
              " ('./fusca/8528840809_406ba330b3_m.jpg', 0),\n",
              " ('./fusca/8529953964_2f601ef5f4.jpg', 0),\n",
              " ('./fusca/8529974392_25121a29fe_n.jpg', 0),\n",
              " ('./fusca/8617055732_1246521383_m.jpg', 0),\n",
              " ('./fusca/9281790536_bfc7c63af0_w.jpg', 0),\n",
              " ('./fusca/9399229434_e677eb7bf1_n.jpg', 0),\n",
              " ('./fusca/9541220540_3f7fc535b9_n.jpg', 0),\n",
              " ('./fusca/9547086461_33fa64ae5d_w.jpg', 0),\n",
              " ('./fusca/9572765355_d778dd7a54_n.jpg', 0),\n",
              " ('./fusca/9635178977_d22e26bc2c_n.jpg', 0),\n",
              " ('./fusca/964493083_76dbdb4ade_n.jpg', 0),\n",
              " ('./girafa/10221422014_d6ab6031c0_w.jpg', 1),\n",
              " ('./girafa/10335161174_ab53a924fe_m.jpg', 1),\n",
              " ('./girafa/11138881596_1b0b016de3_n.jpg', 1),\n",
              " ('./girafa/11202569915_d9429b578c_m.jpg', 1),\n",
              " ('./girafa/11573056253_52c44aeb40.jpg', 1),\n",
              " ('./girafa/11573154354_8f906fa95b_w.jpg', 1),\n",
              " ('./girafa/1201908837_09b704c7e5_n.jpg', 1),\n",
              " ('./girafa/12398306184_03a3663219_m.jpg', 1),\n",
              " ('./girafa/12641321444_2a81ec00fb_n.jpg', 1),\n",
              " ('./girafa/1276210775_c6c97a72d6_m.jpg', 1),\n",
              " ('./girafa/13149613633_74cc149c81_m.jpg', 1),\n",
              " ('./girafa/13337398483_899a1bfd24_n.jpg', 1),\n",
              " ('./girafa/13337458863_b98acc67d0_m.jpg', 1),\n",
              " ('./girafa/13447360574_f687ef5c97_n.jpg', 1),\n",
              " ('./girafa/13464891374_ec1923e2c3_m.jpg', 1),\n",
              " ('./girafa/13516242225_ffa88590af_w.jpg', 1),\n",
              " ('./girafa/13529822473_5ced2f128c_n.jpg', 1),\n",
              " ('./girafa/13654683625_9daab1dc13_m.jpg', 1),\n",
              " ('./girafa/13950792532_ddddd02e0e_m.jpg', 1),\n",
              " ('./girafa/14229491981_863f33b5c0_w.jpg', 1),\n",
              " ('./girafa/14264069803_acbf434ea9_n.jpg', 1),\n",
              " ('./girafa/14710996209_440ddd354b_m.jpg', 1),\n",
              " ('./girafa/14771827340_1ecda8aa3f_n.jpg', 1),\n",
              " ('./girafa/14853898979_1c4a911526_w.jpg', 1),\n",
              " ('./girafa/14875539457_032a07b2ac_w.jpg', 1),\n",
              " ('./girafa/1488371748_a4da2cfb65_m.jpg', 1),\n",
              " ('./girafa/14897305822_e266460006_m.jpg', 1),\n",
              " ('./girafa/14951209852_37df79d6fb_n.jpg', 1),\n",
              " ('./girafa/14985628446_1900d2f52b_n.jpg', 1),\n",
              " ('./girafa/15035812869_93c7ef3db9_n.jpg', 1),\n",
              " ('./girafa/15148136539_95d460a390_m.jpg', 1),\n",
              " ('./girafa/15167915551_6651de479d_w.jpg', 1),\n",
              " ('./girafa/15222444268_5419bd7e40_n.jpg', 1),\n",
              " ('./girafa/1525438764_56ec95b1c7_n.jpg', 1),\n",
              " ('./girafa/15392127515_52be1c2c7c_w.jpg', 1),\n",
              " ('./girafa/15529498742_e645bef82f_n.jpg', 1),\n",
              " ('./girafa/15634034108_d343908246_w.jpg', 1),\n",
              " ('./girafa/1569172028_44f6cb8053_m.jpg', 1),\n",
              " ('./girafa/15900347733_bf59240381_m.jpg', 1),\n",
              " ('./girafa/15944046972_182e7120f1_n.jpg', 1),\n",
              " ('./girafa/15986371958_c691c47ac3_n.jpg', 1),\n",
              " ('./girafa/1601677427_e51c8f14e2_m.jpg', 1),\n",
              " ('./girafa/16288526401_6ec8e05882_w.jpg', 1),\n",
              " ('./girafa/16298785239_2ebb27ddd3_w.jpg', 1),\n",
              " ('./girafa/16625648891_3daa5a8b69_n.jpg', 1),\n",
              " ('./girafa/17541329880_89390b503e_n.jpg', 1),\n",
              " ('./girafa/17544480442_1d386f7d44_w.jpg', 1),\n",
              " ('./girafa/1815775220_b9b3e2ec8c_n.jpg', 1),\n",
              " ('./girafa/1907032686_087f8e56be_n.jpg', 1),\n",
              " ('./girafa/19140010946_5f87cf0a6d_w.jpg', 1),\n",
              " ('./girafa/19862455908_f91bdd6b5f_n.jpg', 1),\n",
              " ('./girafa/2072546598_36f6a04c5e_n.jpg', 1),\n",
              " ('./girafa/21084700103_d4b4457ea1_n.jpg', 1),\n",
              " ('./girafa/2151083565_62a92aec4a_w.jpg', 1),\n",
              " ('./girafa/2187450329_52968643aa_m.jpg', 1),\n",
              " ('./girafa/22041787432_e1747d8974_n.jpg', 1),\n",
              " ('./girafa/22108740259_198de297f2_m.jpg', 1),\n",
              " ('./girafa/2265970947_5bf55e298a_w.jpg', 1),\n",
              " ('./girafa/2281560850_b09d64c194_n.jpg', 1),\n",
              " ('./girafa/2352049443_e9d9ff19a2_n.jpg', 1),\n",
              " ('./girafa/23712734798_6394f58173_m.jpg', 1),\n",
              " ('./girafa/24110077482_e77f51a588_n.jpg', 1),\n",
              " ('./girafa/2465407127_1f3c09cae3_n.jpg', 1),\n",
              " ('./girafa/2466733023_d83cc3a275_m.jpg', 1),\n",
              " ('./girafa/24672041108_56e9abba03_n.jpg', 1),\n",
              " ('./girafa/24787076926_0424e5aea7_m.jpg', 1),\n",
              " ('./girafa/25031932434_091ac453fd_n.jpg', 1),\n",
              " ('./girafa/2544735168_e267af94d1_n.jpg', 1),\n",
              " ('./girafa/2548748931_bdefe3181b_n.jpg', 1),\n",
              " ('./girafa/2549440914_7021c7e480_m.jpg', 1),\n",
              " ('./girafa/25636302656_640d564864_n.jpg', 1),\n",
              " ('./girafa/2585968638_d88a6f56a8_m.jpg', 1),\n",
              " ('./girafa/2589978352_7bb5e73771_n.jpg', 1),\n",
              " ('./girafa/2590444237_2e086a8e0c_m.jpg', 1),\n",
              " ('./girafa/259660697_7f19eeea19_m.jpg', 1),\n",
              " ('./girafa/26130714886_afcc78f1f5_n.jpg', 1),\n",
              " ('./girafa/26130987996_8416cb8584_w.jpg', 1),\n",
              " ('./girafa/2620675047_7e9c9f5ae0_m.jpg', 1),\n",
              " ('./girafa/26319183592_9e39c35bdd_n.jpg', 1),\n",
              " ('./girafa/2642057466_e3cf738c2e_m.jpg', 1),\n",
              " ('./girafa/2653593846_2a14d0c5d0_m.jpg', 1),\n",
              " ('./girafa/26593612800_f3553dbbdd_n.jpg', 1),\n",
              " ('./girafa/2698507925_892f871800_m.jpg', 1),\n",
              " ('./girafa/2706614276_99199326dd_m.jpg', 1),\n",
              " ('./girafa/27328077250_6a0beaf19c_n.jpg', 1),\n",
              " ('./girafa/27396161070_6f98eebf2e_n.jpg', 1),\n",
              " ('./girafa/2741921057_38cfc29ff2_m.jpg', 1),\n",
              " ('./girafa/2780433289_df09235a43_m.jpg', 1),\n",
              " ('./girafa/28206104956_7977345497_w.jpg', 1),\n",
              " ('./girafa/28365718092_4af2c1594c_n.jpg', 1),\n",
              " ('./girafa/2842301851_c7a3733ba1.jpg', 1),\n",
              " ('./girafa/28577795_aba4241f39_n.jpg', 1),\n",
              " ('./girafa/2858312129_bfb13f76f5_m.jpg', 1),\n",
              " ('./girafa/28668698745_3cc5cba45f_m.jpg', 1),\n",
              " ('./girafa/2891959280_c2e96a5488_n.jpg', 1),\n",
              " ('./girafa/2893609461_f80648cfbc_n.jpg', 1),\n",
              " ('./girafa/2894474100_73f62ac4ff_m.jpg', 1),\n",
              " ('./girafa/29119383296_84b4278e59_m.jpg', 1),\n",
              " ('./girafa/2941323370_2386f257db_m.jpg', 1),\n",
              " ('./girafa/2941323372_030a5db863_n.jpg', 1),\n",
              " ('./girafa/2942395174_ed002a94a5_m.jpg', 1),\n",
              " ('./girafa/30204599937_8412fc830d_n.jpg', 1),\n",
              " ('./girafa/3034306861_3f6dbe460f_n.jpg', 1),\n",
              " ('./girafa/3064115522_38cbfc1608_w.jpg', 1),\n",
              " ('./girafa/307600586_0355a0e626_m.jpg', 1),\n",
              " ('./girafa/307600587_295a77714b_m.jpg', 1),\n",
              " ('./girafa/30912174043_79014a8bb1_w.jpg', 1),\n",
              " ('./girafa/3099703259_b7a80a64ce_n.jpg', 1),\n",
              " ('./girafa/31130152995_cfe494cbca_w.jpg', 1),\n",
              " ('./girafa/3121988295_a6d8277039_n.jpg', 1),\n",
              " ('./girafa/3122011479_d4cf89dcff_m.jpg', 1),\n",
              " ('./girafa/3122028011_74aeb0e42c_m.jpg', 1),\n",
              " ('./girafa/3122867538_07ea2a2b7a_m.jpg', 1),\n",
              " ('./girafa/31276402564_f4b416c74a_w.jpg', 1),\n",
              " ('./girafa/31356677592_a61e7b1383_n.jpg', 1),\n",
              " ('./girafa/3136138708_8127aaebdf_n.jpg', 1),\n",
              " ('./girafa/31674086444_5d5cf10a8c_n.jpg', 1),\n",
              " ('./girafa/3179622279_8bb89faef3_m.jpg', 1),\n",
              " ('./girafa/32351508365_d715c47a65_n.jpg', 1),\n",
              " ('./girafa/3236984441_10a7168a8d_n.jpg', 1),\n",
              " ('./girafa/32399552284_7fa133823c_n.jpg', 1),\n",
              " ('./girafa/3248160890_e5a405c760_n.jpg', 1),\n",
              " ('./girafa/32682961123_2331eaff43_n.jpg', 1),\n",
              " ('./girafa/32724239320_73da6ec713_n.jpg', 1),\n",
              " ('./girafa/32778748027_f988ff7e54_n.jpg', 1),\n",
              " ('./girafa/3332130274_53687a29fa_n.jpg', 1),\n",
              " ('./girafa/33340355328_ca59494fb7_w.jpg', 1),\n",
              " ('./girafa/33445530866_ee15659acd_n.jpg', 1),\n",
              " ('./girafa/33528135528_0611f18190_m.jpg', 1),\n",
              " ('./girafa/3367131621_a48e1f6a4b_n.jpg', 1),\n",
              " ('./girafa/3372986066_01bdef0b17_n.jpg', 1),\n",
              " ('./girafa/33943605078_0b7883fa22_n.jpg', 1),\n",
              " ('./girafa/3400654755_7eb78898ba_m.jpg', 1),\n",
              " ('./girafa/3430001376_2c1db6aa32_m.jpg', 1),\n",
              " ('./girafa/34302280893_e5d1c29ba2_m.jpg', 1),\n",
              " ('./girafa/3492324872_235cbc86f4_n.jpg', 1),\n",
              " ('./girafa/34924201693_ae972d26ab_n.jpg', 1),\n",
              " ('./girafa/35054973266_b3e13c64f1_w.jpg', 1),\n",
              " ('./girafa/35072795540_583fe60ab4_w.jpg', 1),\n",
              " ('./girafa/35293969001_52839f5741_n.jpg', 1),\n",
              " ('./girafa/35608019654_6c256167d7_m.jpg', 1),\n",
              " ('./girafa/3584768219_fae7b29f6b_n.jpg', 1),\n",
              " ('./girafa/3608084777_1672cef016_w.jpg', 1),\n",
              " ('./girafa/36305815781_a50954530e_n.jpg', 1),\n",
              " ('./girafa/3631561711_88cbd3be71_n.jpg', 1),\n",
              " ('./girafa/36608424830_379211ffab_w.jpg', 1),\n",
              " ('./girafa/36624765841_f187927041_n.jpg', 1),\n",
              " ('./girafa/36624789861_1ec5b99b4d_m.jpg', 1),\n",
              " ('./girafa/3684301892_558016d80f_m.jpg', 1),\n",
              " ('./girafa/37802785012_3678f6806f_m.jpg', 1),\n",
              " ('./girafa/38138770085_40b81ce7af_m.jpg', 1),\n",
              " ('./girafa/3831882600_1ae6846c4d_m.jpg', 1),\n",
              " ('./girafa/3837199952_dc05edb55e_n.jpg', 1),\n",
              " ('./girafa/385555168_f43b4b0f61_n.jpg', 1),\n",
              " ('./girafa/3879268965_e196914f39_m.jpg', 1),\n",
              " ('./girafa/388553049_38dc82aa0d_m.jpg', 1),\n",
              " ('./girafa/3931644460_98806fe415_n.jpg', 1),\n",
              " ('./girafa/3964508877_0990365b4a_w.jpg', 1),\n",
              " ('./girafa/39746309860_23f382dcc1_n.jpg', 1),\n",
              " ('./girafa/3979794145_8e65349ffb_n.jpg', 1),\n",
              " ('./girafa/3991264104_5c0fcddee2_m.jpg', 1),\n",
              " ('./girafa/40568146054_05404e90ce_n.jpg', 1),\n",
              " ('./girafa/4088435805_93b2bd8bb9_n.jpg', 1),\n",
              " ('./girafa/4100538883_8eda71b345_n.jpg', 1),\n",
              " ('./girafa/4112839843_b18dd73bae_m.jpg', 1),\n",
              " ('./girafa/4135902359_be0293b0c8_m.jpg', 1),\n",
              " ('./girafa/4214192013_e1c28aeec3_n.jpg', 1),\n",
              " ('./girafa/422688467_2bd21b9050_n.jpg', 1),\n",
              " ('./girafa/42636019961_d7b8f45fa0_n.jpg', 1),\n",
              " ('./girafa/4292796290_85f803241a_n.jpg', 1),\n",
              " ('./girafa/4310771213_e10dfb768e_n.jpg', 1),\n",
              " ('./girafa/435324076_8a47253e2e_m.jpg', 1),\n",
              " ('./girafa/4377416362_4516545f73_m.jpg', 1),\n",
              " ('./girafa/43809581114_49d8b4257f_w.jpg', 1),\n",
              " ('./girafa/44108444655_380aa82394_m.jpg', 1),\n",
              " ('./girafa/4438265985_9778fae43f_m.jpg', 1),\n",
              " ('./girafa/4439557771_cef2aacf6c_m.jpg', 1),\n",
              " ('./girafa/4479007434_19c0d8720a_m.jpg', 1),\n",
              " ('./girafa/4512165413_218631eecd_n.jpg', 1),\n",
              " ('./girafa/4530372189_2352d182a7_n.jpg', 1),\n",
              " ('./girafa/45611156485_551d2b0816_m.jpg', 1),\n",
              " ('./girafa/4575206368_c6925474c2_w.jpg', 1),\n",
              " ('./girafa/4575504069_2452291eb1_n.jpg', 1),\n",
              " ('./girafa/4589638343_2009aedebc_w.jpg', 1),\n",
              " ('./girafa/4618399089_4d558c54e4_n.jpg', 1),\n",
              " ('./girafa/4620190659_d8bedf44db_m.jpg', 1),\n",
              " ('./girafa/4680149029_7ecc05dec0_n.jpg', 1),\n",
              " ('./girafa/4680781640_6e0474a103_m.jpg', 1),\n",
              " ('./girafa/47018153372_8b3c9dc9c7_m.jpg', 1),\n",
              " ('./girafa/4713480029_52162a1178_n.jpg', 1),\n",
              " ('./girafa/4714121298_51ef06e867_n.jpg', 1),\n",
              " ('./girafa/47557008272_4ba22d9c3f_m.jpg', 1),\n",
              " ('./girafa/4789836686_4dc0c5c761_n.jpg', 1),\n",
              " ('./girafa/4796032754_9b684bed43_m.jpg', 1),\n",
              " ('./girafa/48113016123_cf4ce5b182_n.jpg', 1),\n",
              " ('./girafa/48207069212_485d04a768_n.jpg', 1),\n",
              " ('./girafa/48347289122_14269050eb_n.jpg', 1),\n",
              " ('./girafa/48371408967_1126713f64_m.jpg', 1),\n",
              " ('./girafa/48375482806_22b0fd6677_m.jpg', 1),\n",
              " ('./girafa/4842102697_69222ff099_n.jpg', 1),\n",
              " ('./girafa/48429959847_d47fdee54a_m.jpg', 1),\n",
              " ('./girafa/4851285416_b6afd0043c_n.jpg', 1),\n",
              " ('./girafa/4854690860_7b3dbdc69b_n.jpg', 1),\n",
              " ('./girafa/48597373266_63f4fe6f71_n.jpg', 1),\n",
              " ('./girafa/48689220101_501057fdd0_n.jpg', 1),\n",
              " ('./girafa/48698829186_ca16194326_n.jpg', 1),\n",
              " ('./girafa/48699520121_09a09fb2da_n.jpg', 1),\n",
              " ('./girafa/48700436876_6ba462227e_n.jpg', 1),\n",
              " ('./girafa/48756094266_40009df4a0_n.jpg', 1),\n",
              " ('./girafa/48768424043_1acb3e6edd_n.jpg', 1),\n",
              " ('./girafa/48779979226_b8ca49042d_n.jpg', 1),\n",
              " ('./girafa/48840653107_d9a282777d_n.jpg', 1),\n",
              " ('./girafa/48842935622_82b414bf2c_n.jpg', 1),\n",
              " ('./girafa/48848671837_46af4304d4_m.jpg', 1),\n",
              " ('./girafa/48848676377_bb564910ee_n.jpg', 1),\n",
              " ('./girafa/48870095827_4dd7885132_n.jpg', 1),\n",
              " ('./girafa/48879192213_18c01ae788_n.jpg', 1),\n",
              " ('./girafa/48881244976_d9ff7cc4f7_n.jpg', 1),\n",
              " ('./girafa/48881297416_604e0f08c6_n.jpg', 1),\n",
              " ('./girafa/4889303722_6decda5f4f_m.jpg', 1),\n",
              " ('./girafa/48930989462_9960082aa9_m.jpg', 1),\n",
              " ('./girafa/49000649141_c3a2b153bb_w.jpg', 1),\n",
              " ('./girafa/49027131613_73a55897bb_n.jpg', 1),\n",
              " ('./girafa/49058471652_8b15596db7_n.jpg', 1),\n",
              " ('./girafa/49063814483_504da33784_n.jpg', 1),\n",
              " ('./girafa/49093825636_35c53dbe4e_n.jpg', 1),\n",
              " ('./girafa/49094022912_c6312d7226_m.jpg', 1),\n",
              " ('./girafa/49094024962_18e360df53_n.jpg', 1),\n",
              " ('./girafa/49094027897_ee6c867c50_n.jpg', 1),\n",
              " ('./girafa/49095246867_f359d9c01b_n.jpg', 1),\n",
              " ('./girafa/4909644461_a6559f5e59_m.jpg', 1),\n",
              " ('./girafa/4911291866_519d35bc4f_n.jpg', 1),\n",
              " ('./girafa/4912618409_fcf31433ff_m.jpg', 1),\n",
              " ('./girafa/49279082312_103bbe4f2c_n.jpg', 1),\n",
              " ('./girafa/49292296927_98967358fd_m.jpg', 1),\n",
              " ('./girafa/4954015295_f289e40f7b_n.jpg', 1),\n",
              " ('./girafa/4956419639_4ab7046ab4_w.jpg', 1),\n",
              " ('./girafa/49663157377_95894044c7_w.jpg', 1),\n",
              " ('./girafa/49734020837_d5732765f1_n.jpg', 1),\n",
              " ('./girafa/49760668701_321e33e5a9_w.jpg', 1),\n",
              " ('./girafa/49792155648_7bf885c44e_n.jpg', 1),\n",
              " ('./girafa/4982783405_891a5793d0_m.jpg', 1),\n",
              " ('./girafa/50001506507_008d01d0df_m.jpg', 1),\n",
              " ('./girafa/50028625903_88d711e630_n.jpg', 1),\n",
              " ('./girafa/50028707518_ee1ed72d21_n.jpg', 1),\n",
              " ('./girafa/50224618583_3c0b034fa1_n.jpg', 1),\n",
              " ('./girafa/50233646646_63fbf09937_n.jpg', 1),\n",
              " ('./girafa/50239672823_f7738c4ec7_n.jpg', 1),\n",
              " ('./girafa/50280617946_2aae1c77b7_n.jpg', 1),\n",
              " ('./girafa/50333124861_e41a087b00_n.jpg', 1),\n",
              " ('./girafa/50378018372_2107dab8bb_n.jpg', 1),\n",
              " ('./girafa/50382777477_cf9ebe00b6_n.jpg', 1),\n",
              " ('./girafa/50461549867_2a2cddd0bf_n.jpg', 1),\n",
              " ('./girafa/50471940792_63da3a012d_w.jpg', 1),\n",
              " ('./girafa/50482270888_01d20641bf_n.jpg', 1),\n",
              " ('./girafa/50522002852_675d08114a_n.jpg', 1),\n",
              " ('./girafa/50572655911_67db094502_w.jpg', 1),\n",
              " ('./girafa/50590066922_a11738933c_w.jpg', 1),\n",
              " ('./girafa/50604353033_4a90fbdaf6_n.jpg', 1),\n",
              " ('./girafa/50619926738_92c39d2200_w.jpg', 1),\n",
              " ('./girafa/50671051908_fab902f793_w.jpg', 1),\n",
              " ('./girafa/50679641763_03175e8405_m.jpg', 1),\n",
              " ('./girafa/50688174186_30ee5a0459_w.jpg', 1),\n",
              " ('./girafa/50714875132_ef1838e685_n.jpg', 1),\n",
              " ('./girafa/507432785_68cc6b3b61_m.jpg', 1),\n",
              " ('./girafa/50824725712_dbc36f4b0e_n.jpg', 1),\n",
              " ('./girafa/5086424371_b9564537b5_n.jpg', 1),\n",
              " ('./girafa/5086425313_360bf092da_n.jpg', 1),\n",
              " ('./girafa/50873103043_a336d2c202_n.jpg', 1),\n",
              " ('./girafa/50880367843_2a493347b9_n.jpg', 1),\n",
              " ('./girafa/50998154403_cb30ecf911_m.jpg', 1),\n",
              " ('./girafa/51028444071_6faa9e9137_n.jpg', 1),\n",
              " ('./girafa/51032876761_57cbd243ae_n.jpg', 1),\n",
              " ('./girafa/51167481933_9231005fd5_w.jpg', 1),\n",
              " ('./girafa/51213030446_ce9f175eb3_m.jpg', 1),\n",
              " ('./girafa/51221816685_1cb98922b2_m.jpg', 1),\n",
              " ('./girafa/51248491170_fa34f79c1b_n.jpg', 1),\n",
              " ('./girafa/51260990403_e3f9055be8_w.jpg', 1),\n",
              " ('./girafa/51276261862_d07148b425_n.jpg', 1),\n",
              " ('./girafa/51368414558_c7d840bc9b_n.jpg', 1),\n",
              " ('./girafa/51411508882_5bf6c970ea_n.jpg', 1),\n",
              " ('./girafa/51412840650_3ebccda9df_n.jpg', 1),\n",
              " ('./girafa/515070913_f57aa7143c_w.jpg', 1),\n",
              " ('./girafa/5184131372_a7c2b0b000_w.jpg', 1),\n",
              " ('./girafa/5312409366_8699a1981d_w.jpg', 1),\n",
              " ('./girafa/5327680254_9abfd95261_n.jpg', 1),\n",
              " ('./girafa/5374325037_db439cf583_w.jpg', 1),\n",
              " ('./girafa/5387671101_8caafa221b_n.jpg', 1),\n",
              " ('./girafa/5435217796_7ff6db0cd4_m.jpg', 1),\n",
              " ('./girafa/5535137361_0d9bca8a5f_m.jpg', 1),\n",
              " ('./girafa/5605303914_bdbd9562af_n.jpg', 1),\n",
              " ('./girafa/5621045215_5072efbaf1_n.jpg', 1),\n",
              " ('./girafa/5639964142_4c0f1baa86_n.jpg', 1),\n",
              " ('./girafa/5666799085_dba4efa06d_n.jpg', 1),\n",
              " ('./girafa/5730458346_88ae2a6342_m.jpg', 1),\n",
              " ('./girafa/5808837065_58046bf255_w.jpg', 1),\n",
              " ('./girafa/5809400180_dd5d66e2e9_n.jpg', 1),\n",
              " ('./girafa/5809400386_924d037321_m.jpg', 1),\n",
              " ('./girafa/5838204973_de12886afd_m.jpg', 1),\n",
              " ('./girafa/5838205381_2ea972147a_n.jpg', 1),\n",
              " ('./girafa/5973937686_8421e82fdc_m.jpg', 1),\n",
              " ('./girafa/5974596428_06bc3500d8_n.jpg', 1),\n",
              " ('./girafa/6017297718_ffbd80a1cd_n.jpg', 1),\n",
              " ('./girafa/6072802581_a302376a58_w.jpg', 1),\n",
              " ('./girafa/6130972458_3b83848cdf_n.jpg', 1),\n",
              " ('./girafa/6130982250_5827253974_w.jpg', 1),\n",
              " ('./girafa/6157778905_3ee050621a_n.jpg', 1),\n",
              " ('./girafa/6166828040_91ee563d6f_m.jpg', 1),\n",
              " ('./girafa/6207936549_a9527e59f1_w.jpg', 1),\n",
              " ('./girafa/6214353134_3dac09333f_w.jpg', 1),\n",
              " ('./girafa/6216595737_8defb1ee4b_m.jpg', 1),\n",
              " ('./girafa/6257722437_5034e7a17f_w.jpg', 1),\n",
              " ('./girafa/6260728002_c930215eba_m.jpg', 1),\n",
              " ('./girafa/6318712092_0303998891_w.jpg', 1),\n",
              " ('./girafa/6333335796_cfbe6e145c_w.jpg', 1),\n",
              " ('./girafa/6353665657_34168aa843_m.jpg', 1),\n",
              " ('./girafa/6516556673_7329a79cef_n.jpg', 1),\n",
              " ('./girafa/6558334881_90760b2cdb_n.jpg', 1),\n",
              " ('./girafa/6558351377_36e1ea0bb2_n.jpg', 1),\n",
              " ('./girafa/6558351699_5fcc43723c_m.jpg', 1),\n",
              " ('./girafa/6558368001_7535d845f7_n.jpg', 1),\n",
              " ('./girafa/6582949605_c928ebde83_m.jpg', 1),\n",
              " ('./girafa/6614930307_ec9bc46d86_n.jpg', 1),\n",
              " ('./girafa/66211820_279f811ed3_m.jpg', 1),\n",
              " ('./girafa/6646428801_603907580d_n.jpg', 1),\n",
              " ('./girafa/6664792135_71cef373c9_n.jpg', 1),\n",
              " ('./girafa/6776552730_e828091420_n.jpg', 1),\n",
              " ('./girafa/6797815902_bd03141e2e_m.jpg', 1),\n",
              " ('./girafa/6868807976_99ddee94fc_m.jpg', 1),\n",
              " ('./girafa/7067144345_e3e96b44a6_n.jpg', 1),\n",
              " ('./girafa/7129866831_d96ed030d0_n.jpg', 1),\n",
              " ('./girafa/7172696218_9a87867c62_m.jpg', 1),\n",
              " ('./girafa/7545151248_ac9f8119e0_n.jpg', 1),\n",
              " ('./girafa/7565117370_7e97253e26_m.jpg', 1),\n",
              " ('./girafa/7615129548_d73526c092_m.jpg', 1),\n",
              " ('./girafa/7705951054_763e2598b8_m.jpg', 1),\n",
              " ('./girafa/7757471526_595c29ce7c_m.jpg', 1),\n",
              " ('./girafa/7896604020_040b1e3a68_m.jpg', 1),\n",
              " ('./girafa/7980707408_0edf705671_w.jpg', 1),\n",
              " ('./girafa/8016007622_a769f8e0a2_n.jpg', 1),\n",
              " ('./girafa/8051604369_82db3d582b_m.jpg', 1),\n",
              " ('./girafa/8128635648_7c4dede08f_n.jpg', 1),\n",
              " ('./girafa/8153566637_0920409dfb_n.jpg', 1),\n",
              " ('./girafa/8185554317_4cf7394800_m.jpg', 1),\n",
              " ('./girafa/830197489_23ca69374b_n.jpg', 1),\n",
              " ('./girafa/831064800_0fc0e12e0b_w.jpg', 1),\n",
              " ('./girafa/8318334788_d3fb4d9427_m.jpg', 1),\n",
              " ('./girafa/8370820598_e9c522affd_w.jpg', 1),\n",
              " ('./girafa/8398418868_7ba3e67a3c_w.jpg', 1),\n",
              " ('./girafa/8500459494_63aebf9fcc_n.jpg', 1),\n",
              " ('./girafa/8579069799_2d1d8990ab_n.jpg', 1),\n",
              " ('./girafa/8596224100_46f3d40046_m.jpg', 1),\n",
              " ('./girafa/8758474887_49ccb029e3_n.jpg', 1),\n",
              " ('./girafa/8774702234_51a5148c18_w.jpg', 1),\n",
              " ('./girafa/8876666039_82895847ca_m.jpg', 1),\n",
              " ('./girafa/8998690395_02d40bed99_n.jpg', 1),\n",
              " ('./girafa/9093972694_ffb7f8333b_n.jpg', 1),\n",
              " ('./girafa/919416206_7a4a22dc41_m.jpg', 1),\n",
              " ('./girafa/9349839914_3a86c48358_n.jpg', 1),\n",
              " ('./girafa/9369603467_48d4fb8fb1_z.jpg', 1),\n",
              " ('./girafa/9506812429_0bab0a4d3c_m.jpg', 1),\n",
              " ('./girafa/9506812981_00d6b486bc_m.jpg', 1),\n",
              " ('./girafa/9509608142_ee051132a2_m.jpg', 1),\n",
              " ('./girafa/9509608626_50a886164f_n.jpg', 1),\n",
              " ('./girafa/9641796033_ee615183ff_w.jpg', 1),\n",
              " ('./girafa/9660194157_dcf9a6800f_m.jpg', 1),\n",
              " ('./girafa/9702255910_5bfb88bfc2_n.jpg', 1),\n",
              " ('./girafa/9827734423_f5647e35a2_w.jpg', 1)]"
            ]
          },
          "metadata": {},
          "execution_count": 71
        }
      ]
    },
    {
      "cell_type": "code",
      "metadata": {
        "id": "HXOAJfcJXpeb"
      },
      "source": [
        "from torch.utils.data import Dataset\n",
        "\n",
        "from typing import Any,Tuple\n",
        "\n",
        "class CarrosDataset(Dataset):\n",
        "    def __init__(self,dir,transform=None,target_transform=None,loader = None):\n",
        "        self.main_dir = dir\n",
        "        self.transform = transform\n",
        "        self.target_transform = target_transform\n",
        "        self.classes = [d.name for d in os.scandir(dir) if d.is_dir()]\n",
        "        self.classes.sort()\n",
        "        self.class_to_idx = {cls_name: i for i, cls_name in enumerate(self.classes)}\n",
        "        self.targets = []\n",
        "        self.instances = self.make_instances()\n",
        "        self.loader = loader\n",
        "        \n",
        "        if loader is None:\n",
        "            self.loader = lambda x: Image.open(x).convert('RGB')\n",
        "\n",
        "    def make_instances(self):\n",
        "        instances = []\n",
        "        targets = []\n",
        "        for target_class in sorted(self.class_to_idx.keys()):\n",
        "                class_index = self.class_to_idx[target_class]\n",
        "                target_dir = os.path.join(self.main_dir, target_class)\n",
        "                for root, _, fnames in sorted(os.walk(target_dir, followlinks=True)):\n",
        "                    for fname in sorted(fnames):\n",
        "                        path = os.path.join(root, fname)\n",
        "                        item = path, class_index\n",
        "                        targets.append(class_index)\n",
        "                        instances.append(item)\n",
        "        self.targets = torch.tensor(targets)\n",
        "        return instances\n",
        "    def __getitem__(self,index:int) -> Tuple[Any,Any]:\n",
        "        path, target = self.instances[index]\n",
        "        instance = self.loader(path)\n",
        "        if self.transform is not None:\n",
        "            instance = self.transform(instance)\n",
        "        if self.target_transform is not None:\n",
        "            target = self.target_transform(target)\n",
        "        return instance,target\n",
        "    def __len__(self) -> int:\n",
        "        return len(self.instances)\n",
        "\n"
      ],
      "execution_count": null,
      "outputs": []
    },
    {
      "cell_type": "code",
      "metadata": {
        "id": "Vp5a5SqVYnGQ"
      },
      "source": [
        "dataset = CarrosDataset('./',transform=transform)"
      ],
      "execution_count": null,
      "outputs": []
    },
    {
      "cell_type": "code",
      "metadata": {
        "colab": {
          "base_uri": "https://localhost:8080/"
        },
        "id": "noryl6oiYpNC",
        "outputId": "f49a2d16-89f0-47fd-d32c-096ed4cdd126"
      },
      "source": [
        "len(dataset)"
      ],
      "execution_count": null,
      "outputs": [
        {
          "output_type": "execute_result",
          "data": {
            "text/plain": [
              "732"
            ]
          },
          "metadata": {},
          "execution_count": 74
        }
      ]
    },
    {
      "cell_type": "code",
      "source": [
        ""
      ],
      "metadata": {
        "id": "ua62hgcvLrHJ"
      },
      "execution_count": null,
      "outputs": []
    },
    {
      "cell_type": "markdown",
      "metadata": {
        "id": "u1rFreOlZ3QA"
      },
      "source": [
        "# Treinamento da rede"
      ]
    },
    {
      "cell_type": "code",
      "metadata": {
        "id": "7ijqTxeVlEAi"
      },
      "source": [
        "ds = dataset"
      ],
      "execution_count": null,
      "outputs": []
    },
    {
      "cell_type": "code",
      "metadata": {
        "id": "4Y546QdVkCv_"
      },
      "source": [
        "from sklearn.model_selection import train_test_split"
      ],
      "execution_count": null,
      "outputs": []
    },
    {
      "cell_type": "code",
      "metadata": {
        "colab": {
          "base_uri": "https://localhost:8080/"
        },
        "id": "ZcGapawnm60C",
        "outputId": "847a2206-707d-4df4-ee11-7b4fa1d389e8"
      },
      "source": [
        "np.unique(ds.targets,return_counts=True)"
      ],
      "execution_count": null,
      "outputs": [
        {
          "output_type": "execute_result",
          "data": {
            "text/plain": [
              "(array([0, 1]), array([364, 368]))"
            ]
          },
          "metadata": {},
          "execution_count": 77
        }
      ]
    },
    {
      "cell_type": "code",
      "metadata": {
        "id": "n4h4p6FXj2LP"
      },
      "source": [
        "bs = 256\n",
        "train_idx, temp_idx = train_test_split(np.arange(len(ds)),test_size=0.3,shuffle=True,stratify=ds.targets)\n",
        "valid_idx, test_idx = train_test_split(temp_idx,test_size=0.5,shuffle=True,stratify=ds.targets[temp_idx])\n",
        " \n",
        "train_sampler = torch.utils.data.SubsetRandomSampler(train_idx)\n",
        "valid_sampler = torch.utils.data.SubsetRandomSampler(valid_idx)\n",
        "test_sampler  = torch.utils.data.SubsetRandomSampler(test_idx)\n",
        " \n",
        "dl_train = torch.utils.data.DataLoader(ds,batch_size=bs,sampler=train_sampler)\n",
        "dl_valid = torch.utils.data.DataLoader(ds,batch_size=bs,sampler=valid_sampler)\n",
        "dl_test  = torch.utils.data.DataLoader(ds,batch_size=bs,sampler=test_sampler)"
      ],
      "execution_count": null,
      "outputs": []
    },
    {
      "cell_type": "code",
      "metadata": {
        "colab": {
          "base_uri": "https://localhost:8080/"
        },
        "id": "abIip4YbnL9w",
        "outputId": "359fc28b-7b57-4327-c180-2d12e6c82084"
      },
      "source": [
        "np.unique(ds.targets[train_idx],return_counts=True)"
      ],
      "execution_count": null,
      "outputs": [
        {
          "output_type": "execute_result",
          "data": {
            "text/plain": [
              "(array([0, 1]), array([255, 257]))"
            ]
          },
          "metadata": {},
          "execution_count": 79
        }
      ]
    },
    {
      "cell_type": "code",
      "metadata": {
        "colab": {
          "base_uri": "https://localhost:8080/"
        },
        "id": "6-PTDAJnnWQ1",
        "outputId": "a015f8e6-dd06-4db0-d8d1-5d23e3cc0d37"
      },
      "source": [
        "np.unique(ds.targets[temp_idx],return_counts=True)"
      ],
      "execution_count": null,
      "outputs": [
        {
          "output_type": "execute_result",
          "data": {
            "text/plain": [
              "(array([0, 1]), array([109, 111]))"
            ]
          },
          "metadata": {},
          "execution_count": 80
        }
      ]
    },
    {
      "cell_type": "code",
      "metadata": {
        "id": "lfSz8w-efP37"
      },
      "source": [
        "x,y = next(iter(dl_train))"
      ],
      "execution_count": null,
      "outputs": []
    },
    {
      "cell_type": "code",
      "metadata": {
        "id": "ENuAZhFfZych"
      },
      "source": [
        ""
      ],
      "execution_count": null,
      "outputs": []
    },
    {
      "cell_type": "code",
      "metadata": {
        "id": "_3ahzvHrmQrD"
      },
      "source": [
        "device = torch.device('cuda:0') if torch.cuda.is_available() else torch.device('cpu')"
      ],
      "execution_count": null,
      "outputs": []
    },
    {
      "cell_type": "code",
      "metadata": {
        "colab": {
          "base_uri": "https://localhost:8080/"
        },
        "id": "I0nj89S8ap9W",
        "outputId": "46f3089b-9286-40e2-bae1-23c94f5fa47a"
      },
      "source": [
        "device"
      ],
      "execution_count": null,
      "outputs": [
        {
          "output_type": "execute_result",
          "data": {
            "text/plain": [
              "device(type='cuda', index=0)"
            ]
          },
          "metadata": {},
          "execution_count": 83
        }
      ]
    },
    {
      "cell_type": "code",
      "metadata": {
        "colab": {
          "base_uri": "https://localhost:8080/"
        },
        "id": "3zgANt_yatFq",
        "outputId": "a03b0a5b-02e3-4401-de1e-a709790f89c7"
      },
      "source": [
        "torch.cuda.get_device_properties(0)"
      ],
      "execution_count": null,
      "outputs": [
        {
          "output_type": "execute_result",
          "data": {
            "text/plain": [
              "_CudaDeviceProperties(name='Tesla K80', major=3, minor=7, total_memory=11441MB, multi_processor_count=13)"
            ]
          },
          "metadata": {},
          "execution_count": 84
        }
      ]
    },
    {
      "cell_type": "code",
      "metadata": {
        "id": "qX6tdcyTohdm"
      },
      "source": [
        "#model = torchvision.models.mobilenet_v3_small(pretrained=True)\n",
        "#model.classifier[3] = nn.Linear(1024,2)"
      ],
      "execution_count": null,
      "outputs": []
    },
    {
      "cell_type": "code",
      "metadata": {
        "colab": {
          "base_uri": "https://localhost:8080/"
        },
        "id": "vV8i1P-oawDP",
        "outputId": "dbbbb481-628f-407f-88bc-8ee81646d851"
      },
      "source": [
        "#model.to(device)"
      ],
      "execution_count": null,
      "outputs": [
        {
          "output_type": "execute_result",
          "data": {
            "text/plain": [
              "MobileNetV3(\n",
              "  (features): Sequential(\n",
              "    (0): ConvBNActivation(\n",
              "      (0): Conv2d(3, 16, kernel_size=(3, 3), stride=(2, 2), padding=(1, 1), bias=False)\n",
              "      (1): BatchNorm2d(16, eps=0.001, momentum=0.01, affine=True, track_running_stats=True)\n",
              "      (2): Hardswish()\n",
              "    )\n",
              "    (1): InvertedResidual(\n",
              "      (block): Sequential(\n",
              "        (0): ConvBNActivation(\n",
              "          (0): Conv2d(16, 16, kernel_size=(3, 3), stride=(2, 2), padding=(1, 1), groups=16, bias=False)\n",
              "          (1): BatchNorm2d(16, eps=0.001, momentum=0.01, affine=True, track_running_stats=True)\n",
              "          (2): ReLU(inplace=True)\n",
              "        )\n",
              "        (1): SqueezeExcitation(\n",
              "          (fc1): Conv2d(16, 8, kernel_size=(1, 1), stride=(1, 1))\n",
              "          (relu): ReLU(inplace=True)\n",
              "          (fc2): Conv2d(8, 16, kernel_size=(1, 1), stride=(1, 1))\n",
              "        )\n",
              "        (2): ConvBNActivation(\n",
              "          (0): Conv2d(16, 16, kernel_size=(1, 1), stride=(1, 1), bias=False)\n",
              "          (1): BatchNorm2d(16, eps=0.001, momentum=0.01, affine=True, track_running_stats=True)\n",
              "          (2): Identity()\n",
              "        )\n",
              "      )\n",
              "    )\n",
              "    (2): InvertedResidual(\n",
              "      (block): Sequential(\n",
              "        (0): ConvBNActivation(\n",
              "          (0): Conv2d(16, 72, kernel_size=(1, 1), stride=(1, 1), bias=False)\n",
              "          (1): BatchNorm2d(72, eps=0.001, momentum=0.01, affine=True, track_running_stats=True)\n",
              "          (2): ReLU(inplace=True)\n",
              "        )\n",
              "        (1): ConvBNActivation(\n",
              "          (0): Conv2d(72, 72, kernel_size=(3, 3), stride=(2, 2), padding=(1, 1), groups=72, bias=False)\n",
              "          (1): BatchNorm2d(72, eps=0.001, momentum=0.01, affine=True, track_running_stats=True)\n",
              "          (2): ReLU(inplace=True)\n",
              "        )\n",
              "        (2): ConvBNActivation(\n",
              "          (0): Conv2d(72, 24, kernel_size=(1, 1), stride=(1, 1), bias=False)\n",
              "          (1): BatchNorm2d(24, eps=0.001, momentum=0.01, affine=True, track_running_stats=True)\n",
              "          (2): Identity()\n",
              "        )\n",
              "      )\n",
              "    )\n",
              "    (3): InvertedResidual(\n",
              "      (block): Sequential(\n",
              "        (0): ConvBNActivation(\n",
              "          (0): Conv2d(24, 88, kernel_size=(1, 1), stride=(1, 1), bias=False)\n",
              "          (1): BatchNorm2d(88, eps=0.001, momentum=0.01, affine=True, track_running_stats=True)\n",
              "          (2): ReLU(inplace=True)\n",
              "        )\n",
              "        (1): ConvBNActivation(\n",
              "          (0): Conv2d(88, 88, kernel_size=(3, 3), stride=(1, 1), padding=(1, 1), groups=88, bias=False)\n",
              "          (1): BatchNorm2d(88, eps=0.001, momentum=0.01, affine=True, track_running_stats=True)\n",
              "          (2): ReLU(inplace=True)\n",
              "        )\n",
              "        (2): ConvBNActivation(\n",
              "          (0): Conv2d(88, 24, kernel_size=(1, 1), stride=(1, 1), bias=False)\n",
              "          (1): BatchNorm2d(24, eps=0.001, momentum=0.01, affine=True, track_running_stats=True)\n",
              "          (2): Identity()\n",
              "        )\n",
              "      )\n",
              "    )\n",
              "    (4): InvertedResidual(\n",
              "      (block): Sequential(\n",
              "        (0): ConvBNActivation(\n",
              "          (0): Conv2d(24, 96, kernel_size=(1, 1), stride=(1, 1), bias=False)\n",
              "          (1): BatchNorm2d(96, eps=0.001, momentum=0.01, affine=True, track_running_stats=True)\n",
              "          (2): Hardswish()\n",
              "        )\n",
              "        (1): ConvBNActivation(\n",
              "          (0): Conv2d(96, 96, kernel_size=(5, 5), stride=(2, 2), padding=(2, 2), groups=96, bias=False)\n",
              "          (1): BatchNorm2d(96, eps=0.001, momentum=0.01, affine=True, track_running_stats=True)\n",
              "          (2): Hardswish()\n",
              "        )\n",
              "        (2): SqueezeExcitation(\n",
              "          (fc1): Conv2d(96, 24, kernel_size=(1, 1), stride=(1, 1))\n",
              "          (relu): ReLU(inplace=True)\n",
              "          (fc2): Conv2d(24, 96, kernel_size=(1, 1), stride=(1, 1))\n",
              "        )\n",
              "        (3): ConvBNActivation(\n",
              "          (0): Conv2d(96, 40, kernel_size=(1, 1), stride=(1, 1), bias=False)\n",
              "          (1): BatchNorm2d(40, eps=0.001, momentum=0.01, affine=True, track_running_stats=True)\n",
              "          (2): Identity()\n",
              "        )\n",
              "      )\n",
              "    )\n",
              "    (5): InvertedResidual(\n",
              "      (block): Sequential(\n",
              "        (0): ConvBNActivation(\n",
              "          (0): Conv2d(40, 240, kernel_size=(1, 1), stride=(1, 1), bias=False)\n",
              "          (1): BatchNorm2d(240, eps=0.001, momentum=0.01, affine=True, track_running_stats=True)\n",
              "          (2): Hardswish()\n",
              "        )\n",
              "        (1): ConvBNActivation(\n",
              "          (0): Conv2d(240, 240, kernel_size=(5, 5), stride=(1, 1), padding=(2, 2), groups=240, bias=False)\n",
              "          (1): BatchNorm2d(240, eps=0.001, momentum=0.01, affine=True, track_running_stats=True)\n",
              "          (2): Hardswish()\n",
              "        )\n",
              "        (2): SqueezeExcitation(\n",
              "          (fc1): Conv2d(240, 64, kernel_size=(1, 1), stride=(1, 1))\n",
              "          (relu): ReLU(inplace=True)\n",
              "          (fc2): Conv2d(64, 240, kernel_size=(1, 1), stride=(1, 1))\n",
              "        )\n",
              "        (3): ConvBNActivation(\n",
              "          (0): Conv2d(240, 40, kernel_size=(1, 1), stride=(1, 1), bias=False)\n",
              "          (1): BatchNorm2d(40, eps=0.001, momentum=0.01, affine=True, track_running_stats=True)\n",
              "          (2): Identity()\n",
              "        )\n",
              "      )\n",
              "    )\n",
              "    (6): InvertedResidual(\n",
              "      (block): Sequential(\n",
              "        (0): ConvBNActivation(\n",
              "          (0): Conv2d(40, 240, kernel_size=(1, 1), stride=(1, 1), bias=False)\n",
              "          (1): BatchNorm2d(240, eps=0.001, momentum=0.01, affine=True, track_running_stats=True)\n",
              "          (2): Hardswish()\n",
              "        )\n",
              "        (1): ConvBNActivation(\n",
              "          (0): Conv2d(240, 240, kernel_size=(5, 5), stride=(1, 1), padding=(2, 2), groups=240, bias=False)\n",
              "          (1): BatchNorm2d(240, eps=0.001, momentum=0.01, affine=True, track_running_stats=True)\n",
              "          (2): Hardswish()\n",
              "        )\n",
              "        (2): SqueezeExcitation(\n",
              "          (fc1): Conv2d(240, 64, kernel_size=(1, 1), stride=(1, 1))\n",
              "          (relu): ReLU(inplace=True)\n",
              "          (fc2): Conv2d(64, 240, kernel_size=(1, 1), stride=(1, 1))\n",
              "        )\n",
              "        (3): ConvBNActivation(\n",
              "          (0): Conv2d(240, 40, kernel_size=(1, 1), stride=(1, 1), bias=False)\n",
              "          (1): BatchNorm2d(40, eps=0.001, momentum=0.01, affine=True, track_running_stats=True)\n",
              "          (2): Identity()\n",
              "        )\n",
              "      )\n",
              "    )\n",
              "    (7): InvertedResidual(\n",
              "      (block): Sequential(\n",
              "        (0): ConvBNActivation(\n",
              "          (0): Conv2d(40, 120, kernel_size=(1, 1), stride=(1, 1), bias=False)\n",
              "          (1): BatchNorm2d(120, eps=0.001, momentum=0.01, affine=True, track_running_stats=True)\n",
              "          (2): Hardswish()\n",
              "        )\n",
              "        (1): ConvBNActivation(\n",
              "          (0): Conv2d(120, 120, kernel_size=(5, 5), stride=(1, 1), padding=(2, 2), groups=120, bias=False)\n",
              "          (1): BatchNorm2d(120, eps=0.001, momentum=0.01, affine=True, track_running_stats=True)\n",
              "          (2): Hardswish()\n",
              "        )\n",
              "        (2): SqueezeExcitation(\n",
              "          (fc1): Conv2d(120, 32, kernel_size=(1, 1), stride=(1, 1))\n",
              "          (relu): ReLU(inplace=True)\n",
              "          (fc2): Conv2d(32, 120, kernel_size=(1, 1), stride=(1, 1))\n",
              "        )\n",
              "        (3): ConvBNActivation(\n",
              "          (0): Conv2d(120, 48, kernel_size=(1, 1), stride=(1, 1), bias=False)\n",
              "          (1): BatchNorm2d(48, eps=0.001, momentum=0.01, affine=True, track_running_stats=True)\n",
              "          (2): Identity()\n",
              "        )\n",
              "      )\n",
              "    )\n",
              "    (8): InvertedResidual(\n",
              "      (block): Sequential(\n",
              "        (0): ConvBNActivation(\n",
              "          (0): Conv2d(48, 144, kernel_size=(1, 1), stride=(1, 1), bias=False)\n",
              "          (1): BatchNorm2d(144, eps=0.001, momentum=0.01, affine=True, track_running_stats=True)\n",
              "          (2): Hardswish()\n",
              "        )\n",
              "        (1): ConvBNActivation(\n",
              "          (0): Conv2d(144, 144, kernel_size=(5, 5), stride=(1, 1), padding=(2, 2), groups=144, bias=False)\n",
              "          (1): BatchNorm2d(144, eps=0.001, momentum=0.01, affine=True, track_running_stats=True)\n",
              "          (2): Hardswish()\n",
              "        )\n",
              "        (2): SqueezeExcitation(\n",
              "          (fc1): Conv2d(144, 40, kernel_size=(1, 1), stride=(1, 1))\n",
              "          (relu): ReLU(inplace=True)\n",
              "          (fc2): Conv2d(40, 144, kernel_size=(1, 1), stride=(1, 1))\n",
              "        )\n",
              "        (3): ConvBNActivation(\n",
              "          (0): Conv2d(144, 48, kernel_size=(1, 1), stride=(1, 1), bias=False)\n",
              "          (1): BatchNorm2d(48, eps=0.001, momentum=0.01, affine=True, track_running_stats=True)\n",
              "          (2): Identity()\n",
              "        )\n",
              "      )\n",
              "    )\n",
              "    (9): InvertedResidual(\n",
              "      (block): Sequential(\n",
              "        (0): ConvBNActivation(\n",
              "          (0): Conv2d(48, 288, kernel_size=(1, 1), stride=(1, 1), bias=False)\n",
              "          (1): BatchNorm2d(288, eps=0.001, momentum=0.01, affine=True, track_running_stats=True)\n",
              "          (2): Hardswish()\n",
              "        )\n",
              "        (1): ConvBNActivation(\n",
              "          (0): Conv2d(288, 288, kernel_size=(5, 5), stride=(2, 2), padding=(2, 2), groups=288, bias=False)\n",
              "          (1): BatchNorm2d(288, eps=0.001, momentum=0.01, affine=True, track_running_stats=True)\n",
              "          (2): Hardswish()\n",
              "        )\n",
              "        (2): SqueezeExcitation(\n",
              "          (fc1): Conv2d(288, 72, kernel_size=(1, 1), stride=(1, 1))\n",
              "          (relu): ReLU(inplace=True)\n",
              "          (fc2): Conv2d(72, 288, kernel_size=(1, 1), stride=(1, 1))\n",
              "        )\n",
              "        (3): ConvBNActivation(\n",
              "          (0): Conv2d(288, 96, kernel_size=(1, 1), stride=(1, 1), bias=False)\n",
              "          (1): BatchNorm2d(96, eps=0.001, momentum=0.01, affine=True, track_running_stats=True)\n",
              "          (2): Identity()\n",
              "        )\n",
              "      )\n",
              "    )\n",
              "    (10): InvertedResidual(\n",
              "      (block): Sequential(\n",
              "        (0): ConvBNActivation(\n",
              "          (0): Conv2d(96, 576, kernel_size=(1, 1), stride=(1, 1), bias=False)\n",
              "          (1): BatchNorm2d(576, eps=0.001, momentum=0.01, affine=True, track_running_stats=True)\n",
              "          (2): Hardswish()\n",
              "        )\n",
              "        (1): ConvBNActivation(\n",
              "          (0): Conv2d(576, 576, kernel_size=(5, 5), stride=(1, 1), padding=(2, 2), groups=576, bias=False)\n",
              "          (1): BatchNorm2d(576, eps=0.001, momentum=0.01, affine=True, track_running_stats=True)\n",
              "          (2): Hardswish()\n",
              "        )\n",
              "        (2): SqueezeExcitation(\n",
              "          (fc1): Conv2d(576, 144, kernel_size=(1, 1), stride=(1, 1))\n",
              "          (relu): ReLU(inplace=True)\n",
              "          (fc2): Conv2d(144, 576, kernel_size=(1, 1), stride=(1, 1))\n",
              "        )\n",
              "        (3): ConvBNActivation(\n",
              "          (0): Conv2d(576, 96, kernel_size=(1, 1), stride=(1, 1), bias=False)\n",
              "          (1): BatchNorm2d(96, eps=0.001, momentum=0.01, affine=True, track_running_stats=True)\n",
              "          (2): Identity()\n",
              "        )\n",
              "      )\n",
              "    )\n",
              "    (11): InvertedResidual(\n",
              "      (block): Sequential(\n",
              "        (0): ConvBNActivation(\n",
              "          (0): Conv2d(96, 576, kernel_size=(1, 1), stride=(1, 1), bias=False)\n",
              "          (1): BatchNorm2d(576, eps=0.001, momentum=0.01, affine=True, track_running_stats=True)\n",
              "          (2): Hardswish()\n",
              "        )\n",
              "        (1): ConvBNActivation(\n",
              "          (0): Conv2d(576, 576, kernel_size=(5, 5), stride=(1, 1), padding=(2, 2), groups=576, bias=False)\n",
              "          (1): BatchNorm2d(576, eps=0.001, momentum=0.01, affine=True, track_running_stats=True)\n",
              "          (2): Hardswish()\n",
              "        )\n",
              "        (2): SqueezeExcitation(\n",
              "          (fc1): Conv2d(576, 144, kernel_size=(1, 1), stride=(1, 1))\n",
              "          (relu): ReLU(inplace=True)\n",
              "          (fc2): Conv2d(144, 576, kernel_size=(1, 1), stride=(1, 1))\n",
              "        )\n",
              "        (3): ConvBNActivation(\n",
              "          (0): Conv2d(576, 96, kernel_size=(1, 1), stride=(1, 1), bias=False)\n",
              "          (1): BatchNorm2d(96, eps=0.001, momentum=0.01, affine=True, track_running_stats=True)\n",
              "          (2): Identity()\n",
              "        )\n",
              "      )\n",
              "    )\n",
              "    (12): ConvBNActivation(\n",
              "      (0): Conv2d(96, 576, kernel_size=(1, 1), stride=(1, 1), bias=False)\n",
              "      (1): BatchNorm2d(576, eps=0.001, momentum=0.01, affine=True, track_running_stats=True)\n",
              "      (2): Hardswish()\n",
              "    )\n",
              "  )\n",
              "  (avgpool): AdaptiveAvgPool2d(output_size=1)\n",
              "  (classifier): Sequential(\n",
              "    (0): Linear(in_features=576, out_features=1024, bias=True)\n",
              "    (1): Hardswish()\n",
              "    (2): Dropout(p=0.2, inplace=True)\n",
              "    (3): Linear(in_features=1024, out_features=1000, bias=True)\n",
              "  )\n",
              ")"
            ]
          },
          "metadata": {},
          "execution_count": 86
        }
      ]
    },
    {
      "cell_type": "code",
      "metadata": {
        "id": "xagj3ayDPbmT"
      },
      "source": [
        "\n"
      ],
      "execution_count": null,
      "outputs": []
    },
    {
      "cell_type": "code",
      "metadata": {
        "id": "9CLanpM5NxeU"
      },
      "source": [
        "import torchvision.models as models"
      ],
      "execution_count": null,
      "outputs": []
    },
    {
      "cell_type": "code",
      "metadata": {
        "id": "QmilvMT8H_DG"
      },
      "source": [
        "#model = LeNet3(input_dim=(3,244,244))\n",
        "model = models.mobilenet_v3_small(pretrained=True)"
      ],
      "execution_count": null,
      "outputs": []
    },
    {
      "cell_type": "code",
      "metadata": {
        "id": "ykQUCbXpVxNk"
      },
      "source": [
        "lista = [0,1,2,3,4,5,6,7,8,9,10]"
      ],
      "execution_count": null,
      "outputs": []
    },
    {
      "cell_type": "code",
      "metadata": {
        "id": "Qx8Adwp3TdNr"
      },
      "source": [
        "modules = list(model.features.children())[:-4] # tirando as camadas 11 e 12"
      ],
      "execution_count": null,
      "outputs": []
    },
    {
      "cell_type": "code",
      "metadata": {
        "id": "GSoKj6duTk3f"
      },
      "source": [
        "len(modules)\n",
        "model.features = nn.Sequential(*modules)"
      ],
      "execution_count": null,
      "outputs": []
    },
    {
      "cell_type": "code",
      "metadata": {
        "colab": {
          "base_uri": "https://localhost:8080/"
        },
        "id": "B7Ctt98PSszo",
        "outputId": "986b5555-0347-4429-f6be-de5e21920a4c"
      },
      "source": [
        "model"
      ],
      "execution_count": null,
      "outputs": [
        {
          "output_type": "execute_result",
          "data": {
            "text/plain": [
              "MobileNetV3(\n",
              "  (features): Sequential(\n",
              "    (0): ConvBNActivation(\n",
              "      (0): Conv2d(3, 16, kernel_size=(3, 3), stride=(2, 2), padding=(1, 1), bias=False)\n",
              "      (1): BatchNorm2d(16, eps=0.001, momentum=0.01, affine=True, track_running_stats=True)\n",
              "      (2): Hardswish()\n",
              "    )\n",
              "    (1): InvertedResidual(\n",
              "      (block): Sequential(\n",
              "        (0): ConvBNActivation(\n",
              "          (0): Conv2d(16, 16, kernel_size=(3, 3), stride=(2, 2), padding=(1, 1), groups=16, bias=False)\n",
              "          (1): BatchNorm2d(16, eps=0.001, momentum=0.01, affine=True, track_running_stats=True)\n",
              "          (2): ReLU(inplace=True)\n",
              "        )\n",
              "        (1): SqueezeExcitation(\n",
              "          (fc1): Conv2d(16, 8, kernel_size=(1, 1), stride=(1, 1))\n",
              "          (relu): ReLU(inplace=True)\n",
              "          (fc2): Conv2d(8, 16, kernel_size=(1, 1), stride=(1, 1))\n",
              "        )\n",
              "        (2): ConvBNActivation(\n",
              "          (0): Conv2d(16, 16, kernel_size=(1, 1), stride=(1, 1), bias=False)\n",
              "          (1): BatchNorm2d(16, eps=0.001, momentum=0.01, affine=True, track_running_stats=True)\n",
              "          (2): Identity()\n",
              "        )\n",
              "      )\n",
              "    )\n",
              "    (2): InvertedResidual(\n",
              "      (block): Sequential(\n",
              "        (0): ConvBNActivation(\n",
              "          (0): Conv2d(16, 72, kernel_size=(1, 1), stride=(1, 1), bias=False)\n",
              "          (1): BatchNorm2d(72, eps=0.001, momentum=0.01, affine=True, track_running_stats=True)\n",
              "          (2): ReLU(inplace=True)\n",
              "        )\n",
              "        (1): ConvBNActivation(\n",
              "          (0): Conv2d(72, 72, kernel_size=(3, 3), stride=(2, 2), padding=(1, 1), groups=72, bias=False)\n",
              "          (1): BatchNorm2d(72, eps=0.001, momentum=0.01, affine=True, track_running_stats=True)\n",
              "          (2): ReLU(inplace=True)\n",
              "        )\n",
              "        (2): ConvBNActivation(\n",
              "          (0): Conv2d(72, 24, kernel_size=(1, 1), stride=(1, 1), bias=False)\n",
              "          (1): BatchNorm2d(24, eps=0.001, momentum=0.01, affine=True, track_running_stats=True)\n",
              "          (2): Identity()\n",
              "        )\n",
              "      )\n",
              "    )\n",
              "    (3): InvertedResidual(\n",
              "      (block): Sequential(\n",
              "        (0): ConvBNActivation(\n",
              "          (0): Conv2d(24, 88, kernel_size=(1, 1), stride=(1, 1), bias=False)\n",
              "          (1): BatchNorm2d(88, eps=0.001, momentum=0.01, affine=True, track_running_stats=True)\n",
              "          (2): ReLU(inplace=True)\n",
              "        )\n",
              "        (1): ConvBNActivation(\n",
              "          (0): Conv2d(88, 88, kernel_size=(3, 3), stride=(1, 1), padding=(1, 1), groups=88, bias=False)\n",
              "          (1): BatchNorm2d(88, eps=0.001, momentum=0.01, affine=True, track_running_stats=True)\n",
              "          (2): ReLU(inplace=True)\n",
              "        )\n",
              "        (2): ConvBNActivation(\n",
              "          (0): Conv2d(88, 24, kernel_size=(1, 1), stride=(1, 1), bias=False)\n",
              "          (1): BatchNorm2d(24, eps=0.001, momentum=0.01, affine=True, track_running_stats=True)\n",
              "          (2): Identity()\n",
              "        )\n",
              "      )\n",
              "    )\n",
              "    (4): InvertedResidual(\n",
              "      (block): Sequential(\n",
              "        (0): ConvBNActivation(\n",
              "          (0): Conv2d(24, 96, kernel_size=(1, 1), stride=(1, 1), bias=False)\n",
              "          (1): BatchNorm2d(96, eps=0.001, momentum=0.01, affine=True, track_running_stats=True)\n",
              "          (2): Hardswish()\n",
              "        )\n",
              "        (1): ConvBNActivation(\n",
              "          (0): Conv2d(96, 96, kernel_size=(5, 5), stride=(2, 2), padding=(2, 2), groups=96, bias=False)\n",
              "          (1): BatchNorm2d(96, eps=0.001, momentum=0.01, affine=True, track_running_stats=True)\n",
              "          (2): Hardswish()\n",
              "        )\n",
              "        (2): SqueezeExcitation(\n",
              "          (fc1): Conv2d(96, 24, kernel_size=(1, 1), stride=(1, 1))\n",
              "          (relu): ReLU(inplace=True)\n",
              "          (fc2): Conv2d(24, 96, kernel_size=(1, 1), stride=(1, 1))\n",
              "        )\n",
              "        (3): ConvBNActivation(\n",
              "          (0): Conv2d(96, 40, kernel_size=(1, 1), stride=(1, 1), bias=False)\n",
              "          (1): BatchNorm2d(40, eps=0.001, momentum=0.01, affine=True, track_running_stats=True)\n",
              "          (2): Identity()\n",
              "        )\n",
              "      )\n",
              "    )\n",
              "    (5): InvertedResidual(\n",
              "      (block): Sequential(\n",
              "        (0): ConvBNActivation(\n",
              "          (0): Conv2d(40, 240, kernel_size=(1, 1), stride=(1, 1), bias=False)\n",
              "          (1): BatchNorm2d(240, eps=0.001, momentum=0.01, affine=True, track_running_stats=True)\n",
              "          (2): Hardswish()\n",
              "        )\n",
              "        (1): ConvBNActivation(\n",
              "          (0): Conv2d(240, 240, kernel_size=(5, 5), stride=(1, 1), padding=(2, 2), groups=240, bias=False)\n",
              "          (1): BatchNorm2d(240, eps=0.001, momentum=0.01, affine=True, track_running_stats=True)\n",
              "          (2): Hardswish()\n",
              "        )\n",
              "        (2): SqueezeExcitation(\n",
              "          (fc1): Conv2d(240, 64, kernel_size=(1, 1), stride=(1, 1))\n",
              "          (relu): ReLU(inplace=True)\n",
              "          (fc2): Conv2d(64, 240, kernel_size=(1, 1), stride=(1, 1))\n",
              "        )\n",
              "        (3): ConvBNActivation(\n",
              "          (0): Conv2d(240, 40, kernel_size=(1, 1), stride=(1, 1), bias=False)\n",
              "          (1): BatchNorm2d(40, eps=0.001, momentum=0.01, affine=True, track_running_stats=True)\n",
              "          (2): Identity()\n",
              "        )\n",
              "      )\n",
              "    )\n",
              "    (6): InvertedResidual(\n",
              "      (block): Sequential(\n",
              "        (0): ConvBNActivation(\n",
              "          (0): Conv2d(40, 240, kernel_size=(1, 1), stride=(1, 1), bias=False)\n",
              "          (1): BatchNorm2d(240, eps=0.001, momentum=0.01, affine=True, track_running_stats=True)\n",
              "          (2): Hardswish()\n",
              "        )\n",
              "        (1): ConvBNActivation(\n",
              "          (0): Conv2d(240, 240, kernel_size=(5, 5), stride=(1, 1), padding=(2, 2), groups=240, bias=False)\n",
              "          (1): BatchNorm2d(240, eps=0.001, momentum=0.01, affine=True, track_running_stats=True)\n",
              "          (2): Hardswish()\n",
              "        )\n",
              "        (2): SqueezeExcitation(\n",
              "          (fc1): Conv2d(240, 64, kernel_size=(1, 1), stride=(1, 1))\n",
              "          (relu): ReLU(inplace=True)\n",
              "          (fc2): Conv2d(64, 240, kernel_size=(1, 1), stride=(1, 1))\n",
              "        )\n",
              "        (3): ConvBNActivation(\n",
              "          (0): Conv2d(240, 40, kernel_size=(1, 1), stride=(1, 1), bias=False)\n",
              "          (1): BatchNorm2d(40, eps=0.001, momentum=0.01, affine=True, track_running_stats=True)\n",
              "          (2): Identity()\n",
              "        )\n",
              "      )\n",
              "    )\n",
              "  )\n",
              "  (avgpool): AdaptiveAvgPool2d(output_size=1)\n",
              "  (classifier): Sequential(\n",
              "    (0): Linear(in_features=96, out_features=1024, bias=True)\n",
              "    (1): Hardswish()\n",
              "    (2): Dropout(p=0.2, inplace=True)\n",
              "    (3): Linear(in_features=1024, out_features=2, bias=True)\n",
              "  )\n",
              ")"
            ]
          },
          "metadata": {},
          "execution_count": 219
        }
      ]
    },
    {
      "cell_type": "code",
      "metadata": {
        "id": "y84kzlriSHB5"
      },
      "source": [
        "#for param in model.parameters():\n",
        "#    param.requires_grad = False"
      ],
      "execution_count": null,
      "outputs": []
    },
    {
      "cell_type": "code",
      "metadata": {
        "id": "nuCk2zchgLbu"
      },
      "source": [
        "x = torch.randn(10,3,224,224).to(device)\n",
        "pred = model.avgpool(model.features(x))"
      ],
      "execution_count": null,
      "outputs": []
    },
    {
      "cell_type": "code",
      "metadata": {
        "colab": {
          "base_uri": "https://localhost:8080/"
        },
        "id": "BXSLhKfpVEUC",
        "outputId": "d62fd09b-b8b3-4729-b419-8ad05876e727"
      },
      "source": [
        "pred.shape "
      ],
      "execution_count": null,
      "outputs": [
        {
          "output_type": "execute_result",
          "data": {
            "text/plain": [
              "torch.Size([10, 40, 1, 1])"
            ]
          },
          "metadata": {},
          "execution_count": 222
        }
      ]
    },
    {
      "cell_type": "code",
      "metadata": {
        "id": "Fj_4SC6bgf9E"
      },
      "source": [
        "input_dim = pred.shape[1]*pred.shape[2]*pred.shape[3]"
      ],
      "execution_count": null,
      "outputs": []
    },
    {
      "cell_type": "code",
      "metadata": {
        "id": "9V06Z3wPQBaC"
      },
      "source": [
        "model.classifier[0] = nn.Linear(input_dim,1024)\n",
        "model.classifier[3] = nn.Linear(1024,2)"
      ],
      "execution_count": null,
      "outputs": []
    },
    {
      "cell_type": "code",
      "metadata": {
        "colab": {
          "base_uri": "https://localhost:8080/"
        },
        "id": "R3eYvk4tOf7L",
        "outputId": "290801ed-17ec-48db-ad09-f8f959ad1525"
      },
      "source": [
        "model.to(device)\n",
        "\n"
      ],
      "execution_count": null,
      "outputs": [
        {
          "output_type": "execute_result",
          "data": {
            "text/plain": [
              "MobileNetV3(\n",
              "  (features): Sequential(\n",
              "    (0): ConvBNActivation(\n",
              "      (0): Conv2d(3, 16, kernel_size=(3, 3), stride=(2, 2), padding=(1, 1), bias=False)\n",
              "      (1): BatchNorm2d(16, eps=0.001, momentum=0.01, affine=True, track_running_stats=True)\n",
              "      (2): Hardswish()\n",
              "    )\n",
              "    (1): InvertedResidual(\n",
              "      (block): Sequential(\n",
              "        (0): ConvBNActivation(\n",
              "          (0): Conv2d(16, 16, kernel_size=(3, 3), stride=(2, 2), padding=(1, 1), groups=16, bias=False)\n",
              "          (1): BatchNorm2d(16, eps=0.001, momentum=0.01, affine=True, track_running_stats=True)\n",
              "          (2): ReLU(inplace=True)\n",
              "        )\n",
              "        (1): SqueezeExcitation(\n",
              "          (fc1): Conv2d(16, 8, kernel_size=(1, 1), stride=(1, 1))\n",
              "          (relu): ReLU(inplace=True)\n",
              "          (fc2): Conv2d(8, 16, kernel_size=(1, 1), stride=(1, 1))\n",
              "        )\n",
              "        (2): ConvBNActivation(\n",
              "          (0): Conv2d(16, 16, kernel_size=(1, 1), stride=(1, 1), bias=False)\n",
              "          (1): BatchNorm2d(16, eps=0.001, momentum=0.01, affine=True, track_running_stats=True)\n",
              "          (2): Identity()\n",
              "        )\n",
              "      )\n",
              "    )\n",
              "    (2): InvertedResidual(\n",
              "      (block): Sequential(\n",
              "        (0): ConvBNActivation(\n",
              "          (0): Conv2d(16, 72, kernel_size=(1, 1), stride=(1, 1), bias=False)\n",
              "          (1): BatchNorm2d(72, eps=0.001, momentum=0.01, affine=True, track_running_stats=True)\n",
              "          (2): ReLU(inplace=True)\n",
              "        )\n",
              "        (1): ConvBNActivation(\n",
              "          (0): Conv2d(72, 72, kernel_size=(3, 3), stride=(2, 2), padding=(1, 1), groups=72, bias=False)\n",
              "          (1): BatchNorm2d(72, eps=0.001, momentum=0.01, affine=True, track_running_stats=True)\n",
              "          (2): ReLU(inplace=True)\n",
              "        )\n",
              "        (2): ConvBNActivation(\n",
              "          (0): Conv2d(72, 24, kernel_size=(1, 1), stride=(1, 1), bias=False)\n",
              "          (1): BatchNorm2d(24, eps=0.001, momentum=0.01, affine=True, track_running_stats=True)\n",
              "          (2): Identity()\n",
              "        )\n",
              "      )\n",
              "    )\n",
              "    (3): InvertedResidual(\n",
              "      (block): Sequential(\n",
              "        (0): ConvBNActivation(\n",
              "          (0): Conv2d(24, 88, kernel_size=(1, 1), stride=(1, 1), bias=False)\n",
              "          (1): BatchNorm2d(88, eps=0.001, momentum=0.01, affine=True, track_running_stats=True)\n",
              "          (2): ReLU(inplace=True)\n",
              "        )\n",
              "        (1): ConvBNActivation(\n",
              "          (0): Conv2d(88, 88, kernel_size=(3, 3), stride=(1, 1), padding=(1, 1), groups=88, bias=False)\n",
              "          (1): BatchNorm2d(88, eps=0.001, momentum=0.01, affine=True, track_running_stats=True)\n",
              "          (2): ReLU(inplace=True)\n",
              "        )\n",
              "        (2): ConvBNActivation(\n",
              "          (0): Conv2d(88, 24, kernel_size=(1, 1), stride=(1, 1), bias=False)\n",
              "          (1): BatchNorm2d(24, eps=0.001, momentum=0.01, affine=True, track_running_stats=True)\n",
              "          (2): Identity()\n",
              "        )\n",
              "      )\n",
              "    )\n",
              "    (4): InvertedResidual(\n",
              "      (block): Sequential(\n",
              "        (0): ConvBNActivation(\n",
              "          (0): Conv2d(24, 96, kernel_size=(1, 1), stride=(1, 1), bias=False)\n",
              "          (1): BatchNorm2d(96, eps=0.001, momentum=0.01, affine=True, track_running_stats=True)\n",
              "          (2): Hardswish()\n",
              "        )\n",
              "        (1): ConvBNActivation(\n",
              "          (0): Conv2d(96, 96, kernel_size=(5, 5), stride=(2, 2), padding=(2, 2), groups=96, bias=False)\n",
              "          (1): BatchNorm2d(96, eps=0.001, momentum=0.01, affine=True, track_running_stats=True)\n",
              "          (2): Hardswish()\n",
              "        )\n",
              "        (2): SqueezeExcitation(\n",
              "          (fc1): Conv2d(96, 24, kernel_size=(1, 1), stride=(1, 1))\n",
              "          (relu): ReLU(inplace=True)\n",
              "          (fc2): Conv2d(24, 96, kernel_size=(1, 1), stride=(1, 1))\n",
              "        )\n",
              "        (3): ConvBNActivation(\n",
              "          (0): Conv2d(96, 40, kernel_size=(1, 1), stride=(1, 1), bias=False)\n",
              "          (1): BatchNorm2d(40, eps=0.001, momentum=0.01, affine=True, track_running_stats=True)\n",
              "          (2): Identity()\n",
              "        )\n",
              "      )\n",
              "    )\n",
              "    (5): InvertedResidual(\n",
              "      (block): Sequential(\n",
              "        (0): ConvBNActivation(\n",
              "          (0): Conv2d(40, 240, kernel_size=(1, 1), stride=(1, 1), bias=False)\n",
              "          (1): BatchNorm2d(240, eps=0.001, momentum=0.01, affine=True, track_running_stats=True)\n",
              "          (2): Hardswish()\n",
              "        )\n",
              "        (1): ConvBNActivation(\n",
              "          (0): Conv2d(240, 240, kernel_size=(5, 5), stride=(1, 1), padding=(2, 2), groups=240, bias=False)\n",
              "          (1): BatchNorm2d(240, eps=0.001, momentum=0.01, affine=True, track_running_stats=True)\n",
              "          (2): Hardswish()\n",
              "        )\n",
              "        (2): SqueezeExcitation(\n",
              "          (fc1): Conv2d(240, 64, kernel_size=(1, 1), stride=(1, 1))\n",
              "          (relu): ReLU(inplace=True)\n",
              "          (fc2): Conv2d(64, 240, kernel_size=(1, 1), stride=(1, 1))\n",
              "        )\n",
              "        (3): ConvBNActivation(\n",
              "          (0): Conv2d(240, 40, kernel_size=(1, 1), stride=(1, 1), bias=False)\n",
              "          (1): BatchNorm2d(40, eps=0.001, momentum=0.01, affine=True, track_running_stats=True)\n",
              "          (2): Identity()\n",
              "        )\n",
              "      )\n",
              "    )\n",
              "    (6): InvertedResidual(\n",
              "      (block): Sequential(\n",
              "        (0): ConvBNActivation(\n",
              "          (0): Conv2d(40, 240, kernel_size=(1, 1), stride=(1, 1), bias=False)\n",
              "          (1): BatchNorm2d(240, eps=0.001, momentum=0.01, affine=True, track_running_stats=True)\n",
              "          (2): Hardswish()\n",
              "        )\n",
              "        (1): ConvBNActivation(\n",
              "          (0): Conv2d(240, 240, kernel_size=(5, 5), stride=(1, 1), padding=(2, 2), groups=240, bias=False)\n",
              "          (1): BatchNorm2d(240, eps=0.001, momentum=0.01, affine=True, track_running_stats=True)\n",
              "          (2): Hardswish()\n",
              "        )\n",
              "        (2): SqueezeExcitation(\n",
              "          (fc1): Conv2d(240, 64, kernel_size=(1, 1), stride=(1, 1))\n",
              "          (relu): ReLU(inplace=True)\n",
              "          (fc2): Conv2d(64, 240, kernel_size=(1, 1), stride=(1, 1))\n",
              "        )\n",
              "        (3): ConvBNActivation(\n",
              "          (0): Conv2d(240, 40, kernel_size=(1, 1), stride=(1, 1), bias=False)\n",
              "          (1): BatchNorm2d(40, eps=0.001, momentum=0.01, affine=True, track_running_stats=True)\n",
              "          (2): Identity()\n",
              "        )\n",
              "      )\n",
              "    )\n",
              "    (7): InvertedResidual(\n",
              "      (block): Sequential(\n",
              "        (0): ConvBNActivation(\n",
              "          (0): Conv2d(40, 120, kernel_size=(1, 1), stride=(1, 1), bias=False)\n",
              "          (1): BatchNorm2d(120, eps=0.001, momentum=0.01, affine=True, track_running_stats=True)\n",
              "          (2): Hardswish()\n",
              "        )\n",
              "        (1): ConvBNActivation(\n",
              "          (0): Conv2d(120, 120, kernel_size=(5, 5), stride=(1, 1), padding=(2, 2), groups=120, bias=False)\n",
              "          (1): BatchNorm2d(120, eps=0.001, momentum=0.01, affine=True, track_running_stats=True)\n",
              "          (2): Hardswish()\n",
              "        )\n",
              "        (2): SqueezeExcitation(\n",
              "          (fc1): Conv2d(120, 32, kernel_size=(1, 1), stride=(1, 1))\n",
              "          (relu): ReLU(inplace=True)\n",
              "          (fc2): Conv2d(32, 120, kernel_size=(1, 1), stride=(1, 1))\n",
              "        )\n",
              "        (3): ConvBNActivation(\n",
              "          (0): Conv2d(120, 48, kernel_size=(1, 1), stride=(1, 1), bias=False)\n",
              "          (1): BatchNorm2d(48, eps=0.001, momentum=0.01, affine=True, track_running_stats=True)\n",
              "          (2): Identity()\n",
              "        )\n",
              "      )\n",
              "    )\n",
              "    (8): InvertedResidual(\n",
              "      (block): Sequential(\n",
              "        (0): ConvBNActivation(\n",
              "          (0): Conv2d(48, 144, kernel_size=(1, 1), stride=(1, 1), bias=False)\n",
              "          (1): BatchNorm2d(144, eps=0.001, momentum=0.01, affine=True, track_running_stats=True)\n",
              "          (2): Hardswish()\n",
              "        )\n",
              "        (1): ConvBNActivation(\n",
              "          (0): Conv2d(144, 144, kernel_size=(5, 5), stride=(1, 1), padding=(2, 2), groups=144, bias=False)\n",
              "          (1): BatchNorm2d(144, eps=0.001, momentum=0.01, affine=True, track_running_stats=True)\n",
              "          (2): Hardswish()\n",
              "        )\n",
              "        (2): SqueezeExcitation(\n",
              "          (fc1): Conv2d(144, 40, kernel_size=(1, 1), stride=(1, 1))\n",
              "          (relu): ReLU(inplace=True)\n",
              "          (fc2): Conv2d(40, 144, kernel_size=(1, 1), stride=(1, 1))\n",
              "        )\n",
              "        (3): ConvBNActivation(\n",
              "          (0): Conv2d(144, 48, kernel_size=(1, 1), stride=(1, 1), bias=False)\n",
              "          (1): BatchNorm2d(48, eps=0.001, momentum=0.01, affine=True, track_running_stats=True)\n",
              "          (2): Identity()\n",
              "        )\n",
              "      )\n",
              "    )\n",
              "    (9): InvertedResidual(\n",
              "      (block): Sequential(\n",
              "        (0): ConvBNActivation(\n",
              "          (0): Conv2d(48, 288, kernel_size=(1, 1), stride=(1, 1), bias=False)\n",
              "          (1): BatchNorm2d(288, eps=0.001, momentum=0.01, affine=True, track_running_stats=True)\n",
              "          (2): Hardswish()\n",
              "        )\n",
              "        (1): ConvBNActivation(\n",
              "          (0): Conv2d(288, 288, kernel_size=(5, 5), stride=(2, 2), padding=(2, 2), groups=288, bias=False)\n",
              "          (1): BatchNorm2d(288, eps=0.001, momentum=0.01, affine=True, track_running_stats=True)\n",
              "          (2): Hardswish()\n",
              "        )\n",
              "        (2): SqueezeExcitation(\n",
              "          (fc1): Conv2d(288, 72, kernel_size=(1, 1), stride=(1, 1))\n",
              "          (relu): ReLU(inplace=True)\n",
              "          (fc2): Conv2d(72, 288, kernel_size=(1, 1), stride=(1, 1))\n",
              "        )\n",
              "        (3): ConvBNActivation(\n",
              "          (0): Conv2d(288, 96, kernel_size=(1, 1), stride=(1, 1), bias=False)\n",
              "          (1): BatchNorm2d(96, eps=0.001, momentum=0.01, affine=True, track_running_stats=True)\n",
              "          (2): Identity()\n",
              "        )\n",
              "      )\n",
              "    )\n",
              "    (10): InvertedResidual(\n",
              "      (block): Sequential(\n",
              "        (0): ConvBNActivation(\n",
              "          (0): Conv2d(96, 576, kernel_size=(1, 1), stride=(1, 1), bias=False)\n",
              "          (1): BatchNorm2d(576, eps=0.001, momentum=0.01, affine=True, track_running_stats=True)\n",
              "          (2): Hardswish()\n",
              "        )\n",
              "        (1): ConvBNActivation(\n",
              "          (0): Conv2d(576, 576, kernel_size=(5, 5), stride=(1, 1), padding=(2, 2), groups=576, bias=False)\n",
              "          (1): BatchNorm2d(576, eps=0.001, momentum=0.01, affine=True, track_running_stats=True)\n",
              "          (2): Hardswish()\n",
              "        )\n",
              "        (2): SqueezeExcitation(\n",
              "          (fc1): Conv2d(576, 144, kernel_size=(1, 1), stride=(1, 1))\n",
              "          (relu): ReLU(inplace=True)\n",
              "          (fc2): Conv2d(144, 576, kernel_size=(1, 1), stride=(1, 1))\n",
              "        )\n",
              "        (3): ConvBNActivation(\n",
              "          (0): Conv2d(576, 96, kernel_size=(1, 1), stride=(1, 1), bias=False)\n",
              "          (1): BatchNorm2d(96, eps=0.001, momentum=0.01, affine=True, track_running_stats=True)\n",
              "          (2): Identity()\n",
              "        )\n",
              "      )\n",
              "    )\n",
              "  )\n",
              "  (avgpool): AdaptiveAvgPool2d(output_size=1)\n",
              "  (classifier): Sequential(\n",
              "    (0): Linear(in_features=96, out_features=1024, bias=True)\n",
              "    (1): Hardswish()\n",
              "    (2): Dropout(p=0.2, inplace=True)\n",
              "    (3): Linear(in_features=1024, out_features=2, bias=True)\n",
              "  )\n",
              ")"
            ]
          },
          "metadata": {},
          "execution_count": 197
        }
      ]
    },
    {
      "cell_type": "code",
      "metadata": {
        "id": "x_W46W0TfaMC"
      },
      "source": [
        "criterion = nn.CrossEntropyLoss()\n",
        "opt = optim.SGD(model.parameters(),lr=0.1)"
      ],
      "execution_count": null,
      "outputs": []
    },
    {
      "cell_type": "code",
      "metadata": {
        "colab": {
          "base_uri": "https://localhost:8080/"
        },
        "id": "5GuTIeaJghat",
        "outputId": "4afd3f8a-27aa-4fb8-85f0-bd26477fb139"
      },
      "source": [
        "epochs = 100\n",
        "loss_train = []\n",
        "loss_eval  = []\n",
        "stop = False\n",
        "epoch = 0\n",
        "lowest_loss_eval = 10000\n",
        "last_best_result = 0\n",
        "while (not stop):\n",
        "    wandb.watch(model)\n",
        "    model.train()\n",
        "    lloss = []\n",
        "    for x,y in dl_train:\n",
        "        x = x.to(device)\n",
        "        y = y.to(device)\n",
        "        pred = model(x)\n",
        "        closs = criterion(pred,y)\n",
        "        closs.backward()\n",
        "        opt.step()\n",
        "        opt.zero_grad()\n",
        "        lloss.append(closs.item())\n",
        "        #print(closs.item())\n",
        "    loss_train.append(np.mean(lloss))\n",
        "    llos = []\n",
        "    model.eval()\n",
        "    lres = []\n",
        "    ytrue = []\n",
        "    with torch.no_grad():\n",
        "        for data,y in dl_valid:\n",
        "            data = data.to(device)\n",
        "\n",
        "            pred = model(data)\n",
        "            closs = criterion(pred.cpu(),y)\n",
        "            lloss.append(closs.item())\n",
        "            res  = pred.argmax(dim=1).cpu().tolist()\n",
        "            lres += res\n",
        "            ytrue += y\n",
        "    avg_loss_eval = np.mean(lloss)\n",
        "    loss_eval.append(avg_loss_eval)\n",
        "    wandb.log({\"loss_eval\": avg_loss_eval,\"loss_train\":loss_train[-1]})\n",
        "    if avg_loss_eval < lowest_loss_eval:\n",
        "        lowest_loss_eval = avg_loss_eval \n",
        "        last_best_result = 0\n",
        "        print(\"Best model found! saving...\")\n",
        "        actual_state = {'optim':opt.state_dict(),'model':model.state_dict(),'epoch':epoch}\n",
        "        torch.save(actual_state,'best_model.pth')\n",
        "    last_best_result += 1\n",
        "    if last_best_result > 10:\n",
        "        stop = True\n",
        "    print(\"epoch %d loss_train %4.3f loss_eval %4.3f last_best %d\"%(epoch,loss_train[-1],loss_eval[-1],last_best_result))\n",
        "    epoch += 1"
      ],
      "execution_count": null,
      "outputs": [
        {
          "output_type": "stream",
          "name": "stdout",
          "text": [
            "Best model found! saving...\n",
            "epoch 0 loss_train 0.585 loss_eval 0.555 last_best 1\n",
            "Best model found! saving...\n",
            "epoch 1 loss_train 0.377 loss_eval 0.355 last_best 1\n",
            "Best model found! saving...\n",
            "epoch 2 loss_train 0.257 loss_eval 0.250 last_best 1\n",
            "Best model found! saving...\n",
            "epoch 3 loss_train 0.193 loss_eval 0.191 last_best 1\n",
            "Best model found! saving...\n",
            "epoch 4 loss_train 0.156 loss_eval 0.163 last_best 1\n",
            "Best model found! saving...\n",
            "epoch 5 loss_train 0.118 loss_eval 0.131 last_best 1\n",
            "Best model found! saving...\n",
            "epoch 6 loss_train 0.107 loss_eval 0.122 last_best 1\n",
            "Best model found! saving...\n",
            "epoch 7 loss_train 0.082 loss_eval 0.101 last_best 1\n",
            "Best model found! saving...\n",
            "epoch 8 loss_train 0.059 loss_eval 0.083 last_best 1\n",
            "Best model found! saving...\n",
            "epoch 9 loss_train 0.048 loss_eval 0.078 last_best 1\n",
            "Best model found! saving...\n",
            "epoch 10 loss_train 0.044 loss_eval 0.069 last_best 1\n",
            "Best model found! saving...\n",
            "epoch 11 loss_train 0.031 loss_eval 0.064 last_best 1\n",
            "Best model found! saving...\n",
            "epoch 12 loss_train 0.029 loss_eval 0.055 last_best 1\n",
            "epoch 13 loss_train 0.028 loss_eval 0.057 last_best 2\n",
            "Best model found! saving...\n",
            "epoch 14 loss_train 0.021 loss_eval 0.049 last_best 1\n",
            "Best model found! saving...\n",
            "epoch 15 loss_train 0.014 loss_eval 0.044 last_best 1\n",
            "Best model found! saving...\n",
            "epoch 16 loss_train 0.013 loss_eval 0.042 last_best 1\n",
            "epoch 17 loss_train 0.025 loss_eval 0.055 last_best 2\n",
            "Best model found! saving...\n",
            "epoch 18 loss_train 0.009 loss_eval 0.036 last_best 1\n",
            "epoch 19 loss_train 0.007 loss_eval 0.037 last_best 2\n",
            "epoch 20 loss_train 0.006 loss_eval 0.038 last_best 3\n",
            "epoch 21 loss_train 0.008 loss_eval 0.044 last_best 4\n",
            "epoch 22 loss_train 0.005 loss_eval 0.043 last_best 5\n",
            "epoch 23 loss_train 0.009 loss_eval 0.042 last_best 6\n",
            "epoch 24 loss_train 0.007 loss_eval 0.039 last_best 7\n",
            "epoch 25 loss_train 0.006 loss_eval 0.044 last_best 8\n",
            "epoch 26 loss_train 0.007 loss_eval 0.041 last_best 9\n",
            "epoch 27 loss_train 0.003 loss_eval 0.042 last_best 10\n",
            "epoch 28 loss_train 0.002 loss_eval 0.043 last_best 11\n"
          ]
        }
      ]
    },
    {
      "cell_type": "code",
      "metadata": {
        "id": "DXnIZ2i2Irdj"
      },
      "source": [
        "recover = torch.load('best_model.pth')\n",
        "#actual_state = {'optim':opt.state_dict(),'model':model.state_dict(),'epoch':epoch}"
      ],
      "execution_count": null,
      "outputs": []
    },
    {
      "cell_type": "code",
      "metadata": {
        "id": "bO5uzG-xceQJ"
      },
      "source": [
        "opt.state_dict = recover['optim']\n",
        "model.state_dict = recover['model']\n",
        "epoch = recover['epoch']"
      ],
      "execution_count": null,
      "outputs": []
    },
    {
      "cell_type": "code",
      "metadata": {
        "colab": {
          "base_uri": "https://localhost:8080/"
        },
        "id": "LOn1evAJc-tJ",
        "outputId": "b4a82ac1-5b61-4796-8c64-6ac7e8f80af2"
      },
      "source": [
        "epoch"
      ],
      "execution_count": null,
      "outputs": [
        {
          "output_type": "execute_result",
          "data": {
            "text/plain": [
              "18"
            ]
          },
          "metadata": {},
          "execution_count": 183
        }
      ]
    },
    {
      "cell_type": "code",
      "metadata": {
        "colab": {
          "base_uri": "https://localhost:8080/",
          "height": 279
        },
        "id": "Rqrg2gWeITKH",
        "outputId": "a7abb5b6-3dca-4066-f15a-19f51967366c"
      },
      "source": [
        "import matplotlib.pyplot as plt\n",
        "plt.ion()\n",
        "\n",
        "fig = plt.figure()\n",
        "plt.plot(loss_train[1:])\n",
        "plt.plot(loss_eval[1:])\n",
        "plt.xlabel('Epochs')\n",
        "plt.show()"
      ],
      "execution_count": null,
      "outputs": [
        {
          "output_type": "display_data",
          "data": {
            "image/png": "[encoded data removed]",
            "text/plain": [
              "<Figure size 432x288 with 1 Axes>"
            ]
          },
          "metadata": {
            "needs_background": "light"
          }
        }
      ]
    },
    {
      "cell_type": "code",
      "metadata": {
        "id": "ud9mwHJEbFUK"
      },
      "source": [
        "import sklearn.metrics as metrics"
      ],
      "execution_count": null,
      "outputs": []
    },
    {
      "cell_type": "code",
      "metadata": {
        "id": "GhLJ1AJubsBK"
      },
      "source": [
        "model.eval()\n",
        "lres = []\n",
        "ytrue = []\n",
        "with torch.no_grad():\n",
        "    for data,target in dl_test:\n",
        "        data = data.to(device)\n",
        "        pred = model(data)\n",
        "        res  = pred.argmax(dim=1).cpu().tolist()\n",
        "        lres += res\n",
        "        ytrue += target"
      ],
      "execution_count": null,
      "outputs": []
    },
    {
      "cell_type": "code",
      "metadata": {
        "colab": {
          "base_uri": "https://localhost:8080/"
        },
        "id": "JTE7BeTmbvnA",
        "outputId": "a4db2203-d8b1-4d1c-d976-d98634d495a0"
      },
      "source": [
        "metrics.confusion_matrix(ytrue,lres)"
      ],
      "execution_count": null,
      "outputs": [
        {
          "output_type": "execute_result",
          "data": {
            "text/plain": [
              "array([[53,  1],\n",
              "       [ 3, 53]])"
            ]
          },
          "metadata": {},
          "execution_count": 203
        }
      ]
    },
    {
      "cell_type": "code",
      "metadata": {
        "colab": {
          "base_uri": "https://localhost:8080/"
        },
        "id": "r5tMGLCWb2fF",
        "outputId": "7895d060-ed00-4f50-b8c7-cd0becf88a25"
      },
      "source": [
        "metrics.accuracy_score(ytrue,lres)"
      ],
      "execution_count": null,
      "outputs": [
        {
          "output_type": "execute_result",
          "data": {
            "text/plain": [
              "0.9636363636363636"
            ]
          },
          "metadata": {},
          "execution_count": 205
        }
      ]
    },
    {
      "cell_type": "code",
      "metadata": {
        "colab": {
          "base_uri": "https://localhost:8080/"
        },
        "id": "lice8TwFtTio",
        "outputId": "6459e9d2-fbd2-49ef-94a0-66c4a99d24dc"
      },
      "source": [
        "metrics.precision_score(ytrue,lres)"
      ],
      "execution_count": null,
      "outputs": [
        {
          "output_type": "execute_result",
          "data": {
            "text/plain": [
              "0.9814814814814815"
            ]
          },
          "metadata": {},
          "execution_count": 206
        }
      ]
    },
    {
      "cell_type": "code",
      "metadata": {
        "colab": {
          "base_uri": "https://localhost:8080/"
        },
        "id": "HrWA1dTPtd1p",
        "outputId": "49569c5c-13ab-42f5-caf1-0a5ae66a04ba"
      },
      "source": [
        "metrics.recall_score(ytrue,lres)"
      ],
      "execution_count": null,
      "outputs": [
        {
          "output_type": "execute_result",
          "data": {
            "text/plain": [
              "0.9464285714285714"
            ]
          },
          "metadata": {},
          "execution_count": 207
        }
      ]
    },
    {
      "cell_type": "code",
      "metadata": {
        "colab": {
          "base_uri": "https://localhost:8080/"
        },
        "id": "Rhsk5mOjtgie",
        "outputId": "2c4ceb83-004e-431b-88b4-294e1c4a2fcf"
      },
      "source": [
        "metrics.f1_score(ytrue,lres)"
      ],
      "execution_count": null,
      "outputs": [
        {
          "output_type": "execute_result",
          "data": {
            "text/plain": [
              "0.9636363636363636"
            ]
          },
          "metadata": {},
          "execution_count": 208
        }
      ]
    },
    {
      "cell_type": "code",
      "metadata": {
        "id": "Ui9EHg6Gtktm"
      },
      "source": [
        "class VGG11(nn.Module):\n",
        "    def __init__(self):\n",
        "        super(VGG11,self).__init__()\n",
        "        self.features = nn.Sequential(\n",
        "            nn.Conv2d(3,64,3,1,1),\n",
        "            nn.ReLU(),\n",
        "            nn.MaxPool2d(2,2),\n",
        "            nn.Conv2d(64,128,3,1,1),\n",
        "            nn.ReLU(),\n",
        "            nn.MaxPool2d(2,2),\n",
        "            nn.Conv2d(128,256,3,1,1),\n",
        "            nn.ReLU(),\n",
        "            nn.Conv2d(256,256,3,1,1),\n",
        "            nn.ReLU(),\n",
        "            nn.MaxPool2d(2,2),\n",
        "            nn.Conv2d(256,512,3,1,1),\n",
        "            nn.ReLU(),\n",
        "            nn.Conv2d(512,512,3,1,1),\n",
        "            nn.ReLU(),\n",
        "            nn.MaxPool2d(2,2),\n",
        "            nn.Conv2d(512,512,3,1,1),\n",
        "            nn.ReLU(),\n",
        "            nn.Conv2d(512,512,3,1,1),\n",
        "            nn.ReLU(),\n",
        "            nn.MaxPool2d(2,2),\n",
        "            nn.Flatten()\n",
        "        )\n",
        "        self.classifier = nn.Sequential(\n",
        "            nn.Linear(7*7*512,4096),\n",
        "            nn.ReLU(),\n",
        "            nn.Linear(4096,4096),\n",
        "            nn.ReLU(),\n",
        "            nn.Linear(4096,2)\n",
        "            \n",
        "        )\n",
        "\n",
        "    def forward(self,x):\n",
        "        x = self.features(x)\n",
        "        x = self.classifier(x)\n",
        "        return x\n"
      ],
      "execution_count": null,
      "outputs": []
    },
    {
      "cell_type": "code",
      "metadata": {
        "id": "y6_1H-bZNGo4"
      },
      "source": [
        "model = VGG11()"
      ],
      "execution_count": null,
      "outputs": []
    },
    {
      "cell_type": "code",
      "metadata": {
        "id": "Hb2L5y75NOPf"
      },
      "source": [
        "x = torch.randn(1,3,224,224)"
      ],
      "execution_count": null,
      "outputs": []
    },
    {
      "cell_type": "code",
      "metadata": {
        "id": "rmUHHXpcNR6e"
      },
      "source": [
        "res = model(x)"
      ],
      "execution_count": null,
      "outputs": []
    },
    {
      "cell_type": "code",
      "metadata": {
        "colab": {
          "base_uri": "https://localhost:8080/"
        },
        "id": "K7smrKleNTMu",
        "outputId": "53c59930-27ef-4a6f-df9a-eaca2bfbb3a2"
      },
      "source": [
        "res.shape"
      ],
      "execution_count": null,
      "outputs": [
        {
          "output_type": "execute_result",
          "data": {
            "text/plain": [
              "torch.Size([1, 2])"
            ]
          },
          "metadata": {},
          "execution_count": 185
        }
      ]
    },
    {
      "cell_type": "code",
      "metadata": {
        "colab": {
          "base_uri": "https://localhost:8080/"
        },
        "id": "ITfD2_JMNUSI",
        "outputId": "616b8793-f236-4644-fc70-d97ff36f5319"
      },
      "source": [
        "512*7*7"
      ],
      "execution_count": null,
      "outputs": [
        {
          "output_type": "execute_result",
          "data": {
            "text/plain": [
              "25088"
            ]
          },
          "metadata": {},
          "execution_count": 186
        }
      ]
    },
    {
      "cell_type": "code",
      "metadata": {
        "colab": {
          "base_uri": "https://localhost:8080/",
          "height": 341
        },
        "id": "p0ktP0vuNfc0",
        "outputId": "f49dce5b-e4d6-464e-e961-4aa6d7f33416"
      },
      "source": [
        "torchsummary.summary(model,(3,224,224))"
      ],
      "execution_count": null,
      "outputs": [
        {
          "output_type": "error",
          "ename": "RuntimeError",
          "evalue": "ignored",
          "traceback": [
            "\u001b[0;31m---------------------------------------------------------------------------\u001b[0m",
            "\u001b[0;31mRuntimeError\u001b[0m                              Traceback (most recent call last)",
            "\u001b[0;32m<ipython-input-187-5fbdd16a38c2>\u001b[0m in \u001b[0;36m<module>\u001b[0;34m()\u001b[0m\n\u001b[0;32m----> 1\u001b[0;31m \u001b[0mtorchsummary\u001b[0m\u001b[0;34m.\u001b[0m\u001b[0msummary\u001b[0m\u001b[0;34m(\u001b[0m\u001b[0mmodel\u001b[0m\u001b[0;34m,\u001b[0m\u001b[0;34m(\u001b[0m\u001b[0;36m3\u001b[0m\u001b[0;34m,\u001b[0m\u001b[0;36m224\u001b[0m\u001b[0;34m,\u001b[0m\u001b[0;36m224\u001b[0m\u001b[0;34m)\u001b[0m\u001b[0;34m)\u001b[0m\u001b[0;34m\u001b[0m\u001b[0;34m\u001b[0m\u001b[0m\n\u001b[0m",
            "\u001b[0;32m/usr/local/lib/python3.7/dist-packages/torchsummary/torchsummary.py\u001b[0m in \u001b[0;36msummary\u001b[0;34m(model, input_size, batch_size, device)\u001b[0m\n\u001b[1;32m     70\u001b[0m     \u001b[0;31m# make a forward pass\u001b[0m\u001b[0;34m\u001b[0m\u001b[0;34m\u001b[0m\u001b[0;34m\u001b[0m\u001b[0m\n\u001b[1;32m     71\u001b[0m     \u001b[0;31m# print(x.shape)\u001b[0m\u001b[0;34m\u001b[0m\u001b[0;34m\u001b[0m\u001b[0;34m\u001b[0m\u001b[0m\n\u001b[0;32m---> 72\u001b[0;31m     \u001b[0mmodel\u001b[0m\u001b[0;34m(\u001b[0m\u001b[0;34m*\u001b[0m\u001b[0mx\u001b[0m\u001b[0;34m)\u001b[0m\u001b[0;34m\u001b[0m\u001b[0;34m\u001b[0m\u001b[0m\n\u001b[0m\u001b[1;32m     73\u001b[0m \u001b[0;34m\u001b[0m\u001b[0m\n\u001b[1;32m     74\u001b[0m     \u001b[0;31m# remove these hooks\u001b[0m\u001b[0;34m\u001b[0m\u001b[0;34m\u001b[0m\u001b[0;34m\u001b[0m\u001b[0m\n",
            "\u001b[0;32m/usr/local/lib/python3.7/dist-packages/torch/nn/modules/module.py\u001b[0m in \u001b[0;36m_call_impl\u001b[0;34m(self, *input, **kwargs)\u001b[0m\n\u001b[1;32m   1049\u001b[0m         if not (self._backward_hooks or self._forward_hooks or self._forward_pre_hooks or _global_backward_hooks\n\u001b[1;32m   1050\u001b[0m                 or _global_forward_hooks or _global_forward_pre_hooks):\n\u001b[0;32m-> 1051\u001b[0;31m             \u001b[0;32mreturn\u001b[0m \u001b[0mforward_call\u001b[0m\u001b[0;34m(\u001b[0m\u001b[0;34m*\u001b[0m\u001b[0minput\u001b[0m\u001b[0;34m,\u001b[0m \u001b[0;34m**\u001b[0m\u001b[0mkwargs\u001b[0m\u001b[0;34m)\u001b[0m\u001b[0;34m\u001b[0m\u001b[0;34m\u001b[0m\u001b[0m\n\u001b[0m\u001b[1;32m   1052\u001b[0m         \u001b[0;31m# Do not call functions when jit is used\u001b[0m\u001b[0;34m\u001b[0m\u001b[0;34m\u001b[0m\u001b[0;34m\u001b[0m\u001b[0m\n\u001b[1;32m   1053\u001b[0m         \u001b[0mfull_backward_hooks\u001b[0m\u001b[0;34m,\u001b[0m \u001b[0mnon_full_backward_hooks\u001b[0m \u001b[0;34m=\u001b[0m \u001b[0;34m[\u001b[0m\u001b[0;34m]\u001b[0m\u001b[0;34m,\u001b[0m \u001b[0;34m[\u001b[0m\u001b[0;34m]\u001b[0m\u001b[0;34m\u001b[0m\u001b[0;34m\u001b[0m\u001b[0m\n",
            "\u001b[0;32m<ipython-input-160-8460c4bca87b>\u001b[0m in \u001b[0;36mforward\u001b[0;34m(self, x)\u001b[0m\n\u001b[1;32m     36\u001b[0m \u001b[0;34m\u001b[0m\u001b[0m\n\u001b[1;32m     37\u001b[0m     \u001b[0;32mdef\u001b[0m \u001b[0mforward\u001b[0m\u001b[0;34m(\u001b[0m\u001b[0mself\u001b[0m\u001b[0;34m,\u001b[0m\u001b[0mx\u001b[0m\u001b[0;34m)\u001b[0m\u001b[0;34m:\u001b[0m\u001b[0;34m\u001b[0m\u001b[0;34m\u001b[0m\u001b[0m\n\u001b[0;32m---> 38\u001b[0;31m         \u001b[0mx\u001b[0m \u001b[0;34m=\u001b[0m \u001b[0mself\u001b[0m\u001b[0;34m.\u001b[0m\u001b[0mfeatures\u001b[0m\u001b[0;34m(\u001b[0m\u001b[0mx\u001b[0m\u001b[0;34m)\u001b[0m\u001b[0;34m\u001b[0m\u001b[0;34m\u001b[0m\u001b[0m\n\u001b[0m\u001b[1;32m     39\u001b[0m         \u001b[0mx\u001b[0m \u001b[0;34m=\u001b[0m \u001b[0mself\u001b[0m\u001b[0;34m.\u001b[0m\u001b[0mclassifier\u001b[0m\u001b[0;34m(\u001b[0m\u001b[0mx\u001b[0m\u001b[0;34m)\u001b[0m\u001b[0;34m\u001b[0m\u001b[0;34m\u001b[0m\u001b[0m\n\u001b[1;32m     40\u001b[0m         \u001b[0;32mreturn\u001b[0m \u001b[0mx\u001b[0m\u001b[0;34m\u001b[0m\u001b[0;34m\u001b[0m\u001b[0m\n",
            "\u001b[0;32m/usr/local/lib/python3.7/dist-packages/torch/nn/modules/module.py\u001b[0m in \u001b[0;36m_call_impl\u001b[0;34m(self, *input, **kwargs)\u001b[0m\n\u001b[1;32m   1049\u001b[0m         if not (self._backward_hooks or self._forward_hooks or self._forward_pre_hooks or _global_backward_hooks\n\u001b[1;32m   1050\u001b[0m                 or _global_forward_hooks or _global_forward_pre_hooks):\n\u001b[0;32m-> 1051\u001b[0;31m             \u001b[0;32mreturn\u001b[0m \u001b[0mforward_call\u001b[0m\u001b[0;34m(\u001b[0m\u001b[0;34m*\u001b[0m\u001b[0minput\u001b[0m\u001b[0;34m,\u001b[0m \u001b[0;34m**\u001b[0m\u001b[0mkwargs\u001b[0m\u001b[0;34m)\u001b[0m\u001b[0;34m\u001b[0m\u001b[0;34m\u001b[0m\u001b[0m\n\u001b[0m\u001b[1;32m   1052\u001b[0m         \u001b[0;31m# Do not call functions when jit is used\u001b[0m\u001b[0;34m\u001b[0m\u001b[0;34m\u001b[0m\u001b[0;34m\u001b[0m\u001b[0m\n\u001b[1;32m   1053\u001b[0m         \u001b[0mfull_backward_hooks\u001b[0m\u001b[0;34m,\u001b[0m \u001b[0mnon_full_backward_hooks\u001b[0m \u001b[0;34m=\u001b[0m \u001b[0;34m[\u001b[0m\u001b[0;34m]\u001b[0m\u001b[0;34m,\u001b[0m \u001b[0;34m[\u001b[0m\u001b[0;34m]\u001b[0m\u001b[0;34m\u001b[0m\u001b[0;34m\u001b[0m\u001b[0m\n",
            "\u001b[0;32m/usr/local/lib/python3.7/dist-packages/torch/nn/modules/container.py\u001b[0m in \u001b[0;36mforward\u001b[0;34m(self, input)\u001b[0m\n\u001b[1;32m    137\u001b[0m     \u001b[0;32mdef\u001b[0m \u001b[0mforward\u001b[0m\u001b[0;34m(\u001b[0m\u001b[0mself\u001b[0m\u001b[0;34m,\u001b[0m \u001b[0minput\u001b[0m\u001b[0;34m)\u001b[0m\u001b[0;34m:\u001b[0m\u001b[0;34m\u001b[0m\u001b[0;34m\u001b[0m\u001b[0m\n\u001b[1;32m    138\u001b[0m         \u001b[0;32mfor\u001b[0m \u001b[0mmodule\u001b[0m \u001b[0;32min\u001b[0m \u001b[0mself\u001b[0m\u001b[0;34m:\u001b[0m\u001b[0;34m\u001b[0m\u001b[0;34m\u001b[0m\u001b[0m\n\u001b[0;32m--> 139\u001b[0;31m             \u001b[0minput\u001b[0m \u001b[0;34m=\u001b[0m \u001b[0mmodule\u001b[0m\u001b[0;34m(\u001b[0m\u001b[0minput\u001b[0m\u001b[0;34m)\u001b[0m\u001b[0;34m\u001b[0m\u001b[0;34m\u001b[0m\u001b[0m\n\u001b[0m\u001b[1;32m    140\u001b[0m         \u001b[0;32mreturn\u001b[0m \u001b[0minput\u001b[0m\u001b[0;34m\u001b[0m\u001b[0;34m\u001b[0m\u001b[0m\n\u001b[1;32m    141\u001b[0m \u001b[0;34m\u001b[0m\u001b[0m\n",
            "\u001b[0;32m/usr/local/lib/python3.7/dist-packages/torch/nn/modules/module.py\u001b[0m in \u001b[0;36m_call_impl\u001b[0;34m(self, *input, **kwargs)\u001b[0m\n\u001b[1;32m   1069\u001b[0m             \u001b[0minput\u001b[0m \u001b[0;34m=\u001b[0m \u001b[0mbw_hook\u001b[0m\u001b[0;34m.\u001b[0m\u001b[0msetup_input_hook\u001b[0m\u001b[0;34m(\u001b[0m\u001b[0minput\u001b[0m\u001b[0;34m)\u001b[0m\u001b[0;34m\u001b[0m\u001b[0;34m\u001b[0m\u001b[0m\n\u001b[1;32m   1070\u001b[0m \u001b[0;34m\u001b[0m\u001b[0m\n\u001b[0;32m-> 1071\u001b[0;31m         \u001b[0mresult\u001b[0m \u001b[0;34m=\u001b[0m \u001b[0mforward_call\u001b[0m\u001b[0;34m(\u001b[0m\u001b[0;34m*\u001b[0m\u001b[0minput\u001b[0m\u001b[0;34m,\u001b[0m \u001b[0;34m**\u001b[0m\u001b[0mkwargs\u001b[0m\u001b[0;34m)\u001b[0m\u001b[0;34m\u001b[0m\u001b[0;34m\u001b[0m\u001b[0m\n\u001b[0m\u001b[1;32m   1072\u001b[0m         \u001b[0;32mif\u001b[0m \u001b[0m_global_forward_hooks\u001b[0m \u001b[0;32mor\u001b[0m \u001b[0mself\u001b[0m\u001b[0;34m.\u001b[0m\u001b[0m_forward_hooks\u001b[0m\u001b[0;34m:\u001b[0m\u001b[0;34m\u001b[0m\u001b[0;34m\u001b[0m\u001b[0m\n\u001b[1;32m   1073\u001b[0m             for hook in itertools.chain(\n",
            "\u001b[0;32m/usr/local/lib/python3.7/dist-packages/torch/nn/modules/conv.py\u001b[0m in \u001b[0;36mforward\u001b[0;34m(self, input)\u001b[0m\n\u001b[1;32m    441\u001b[0m \u001b[0;34m\u001b[0m\u001b[0m\n\u001b[1;32m    442\u001b[0m     \u001b[0;32mdef\u001b[0m \u001b[0mforward\u001b[0m\u001b[0;34m(\u001b[0m\u001b[0mself\u001b[0m\u001b[0;34m,\u001b[0m \u001b[0minput\u001b[0m\u001b[0;34m:\u001b[0m \u001b[0mTensor\u001b[0m\u001b[0;34m)\u001b[0m \u001b[0;34m->\u001b[0m \u001b[0mTensor\u001b[0m\u001b[0;34m:\u001b[0m\u001b[0;34m\u001b[0m\u001b[0;34m\u001b[0m\u001b[0m\n\u001b[0;32m--> 443\u001b[0;31m         \u001b[0;32mreturn\u001b[0m \u001b[0mself\u001b[0m\u001b[0;34m.\u001b[0m\u001b[0m_conv_forward\u001b[0m\u001b[0;34m(\u001b[0m\u001b[0minput\u001b[0m\u001b[0;34m,\u001b[0m \u001b[0mself\u001b[0m\u001b[0;34m.\u001b[0m\u001b[0mweight\u001b[0m\u001b[0;34m,\u001b[0m \u001b[0mself\u001b[0m\u001b[0;34m.\u001b[0m\u001b[0mbias\u001b[0m\u001b[0;34m)\u001b[0m\u001b[0;34m\u001b[0m\u001b[0;34m\u001b[0m\u001b[0m\n\u001b[0m\u001b[1;32m    444\u001b[0m \u001b[0;34m\u001b[0m\u001b[0m\n\u001b[1;32m    445\u001b[0m \u001b[0;32mclass\u001b[0m \u001b[0mConv3d\u001b[0m\u001b[0;34m(\u001b[0m\u001b[0m_ConvNd\u001b[0m\u001b[0;34m)\u001b[0m\u001b[0;34m:\u001b[0m\u001b[0;34m\u001b[0m\u001b[0;34m\u001b[0m\u001b[0m\n",
            "\u001b[0;32m/usr/local/lib/python3.7/dist-packages/torch/nn/modules/conv.py\u001b[0m in \u001b[0;36m_conv_forward\u001b[0;34m(self, input, weight, bias)\u001b[0m\n\u001b[1;32m    438\u001b[0m                             _pair(0), self.dilation, self.groups)\n\u001b[1;32m    439\u001b[0m         return F.conv2d(input, weight, bias, self.stride,\n\u001b[0;32m--> 440\u001b[0;31m                         self.padding, self.dilation, self.groups)\n\u001b[0m\u001b[1;32m    441\u001b[0m \u001b[0;34m\u001b[0m\u001b[0m\n\u001b[1;32m    442\u001b[0m     \u001b[0;32mdef\u001b[0m \u001b[0mforward\u001b[0m\u001b[0;34m(\u001b[0m\u001b[0mself\u001b[0m\u001b[0;34m,\u001b[0m \u001b[0minput\u001b[0m\u001b[0;34m:\u001b[0m \u001b[0mTensor\u001b[0m\u001b[0;34m)\u001b[0m \u001b[0;34m->\u001b[0m \u001b[0mTensor\u001b[0m\u001b[0;34m:\u001b[0m\u001b[0;34m\u001b[0m\u001b[0;34m\u001b[0m\u001b[0m\n",
            "\u001b[0;31mRuntimeError\u001b[0m: Input type (torch.cuda.FloatTensor) and weight type (torch.FloatTensor) should be the same"
          ]
        }
      ]
    },
    {
      "cell_type": "code",
      "metadata": {
        "id": "owy5-R9wOpzP"
      },
      "source": [
        ""
      ],
      "execution_count": null,
      "outputs": []
    }
  ]
}